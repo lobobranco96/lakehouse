{
 "cells": [
  {
   "cell_type": "code",
   "execution_count": 16,
   "id": "499b12dd-6f39-49ea-9778-45bfbb158201",
   "metadata": {},
   "outputs": [],
   "source": [
    "from utils import get_spark_session"
   ]
  },
  {
   "cell_type": "code",
   "execution_count": 17,
   "id": "92956a47-a654-4fce-bbda-885a9bddc3f3",
   "metadata": {},
   "outputs": [
    {
     "name": "stdout",
     "output_type": "stream",
     "text": [
      "<pyspark.sql.session.SparkSession object at 0x7f08fbfab3b0>\n"
     ]
    }
   ],
   "source": [
    "spark = get_spark_session(\"iceberg\", \"landing\")\n",
    "print(spark)"
   ]
  },
  {
   "cell_type": "code",
   "execution_count": 19,
   "id": "8b95fff3-a217-4b5a-89b1-0c08e2091aa3",
   "metadata": {},
   "outputs": [
    {
     "name": "stderr",
     "output_type": "stream",
     "text": [
      "                                                                                \r"
     ]
    },
    {
     "name": "stdout",
     "output_type": "stream",
     "text": [
      "+------------+---------+\n",
      "| marca_carro|cod_marca|\n",
      "+------------+---------+\n",
      "|       Acura|        1|\n",
      "|Aston Martin|        2|\n",
      "|        Audi|        3|\n",
      "|      Austin|        4|\n",
      "|         BMW|        5|\n",
      "|     Bentley|        6|\n",
      "|     Bugatti|        7|\n",
      "|       Buick|        8|\n",
      "|    Cadillac|        9|\n",
      "|   Chevrolet|       10|\n",
      "|    Chrysler|       11|\n",
      "|     Citroën|       12|\n",
      "|      Daewoo|       13|\n",
      "|       Dodge|       14|\n",
      "|       Eagle|       15|\n",
      "|     Ferrari|       16|\n",
      "|        Ford|       17|\n",
      "|         GMC|       18|\n",
      "|         Geo|       19|\n",
      "|       Honda|       20|\n",
      "+------------+---------+\n",
      "only showing top 20 rows\n",
      "\n"
     ]
    }
   ],
   "source": [
    "df = spark.read.csv(\"s3a://landing/marca_carro.csv\", header=True, inferSchema=True)\n",
    "df.show()"
   ]
  },
  {
   "cell_type": "code",
   "execution_count": 15,
   "id": "2392cfd6-e6ff-4a06-a7c4-eae318eab0f7",
   "metadata": {},
   "outputs": [],
   "source": [
    "spark.stop()"
   ]
  },
  {
   "cell_type": "code",
   "execution_count": null,
   "id": "378e35b2-5a6d-4b26-87b9-afbf8582108b",
   "metadata": {},
   "outputs": [],
   "source": []
  }
 ],
 "metadata": {
  "kernelspec": {
   "display_name": "Python 3 (ipykernel)",
   "language": "python",
   "name": "python3"
  },
  "language_info": {
   "codemirror_mode": {
    "name": "ipython",
    "version": 3
   },
   "file_extension": ".py",
   "mimetype": "text/x-python",
   "name": "python",
   "nbconvert_exporter": "python",
   "pygments_lexer": "ipython3",
   "version": "3.12.7"
  }
 },
 "nbformat": 4,
 "nbformat_minor": 5
}
