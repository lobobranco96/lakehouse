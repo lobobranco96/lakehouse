{
 "cells": [
  {
   "cell_type": "code",
   "execution_count": 1,
   "id": "a0c1b83e-a00c-4ca3-919c-f1fc352dd06a",
   "metadata": {},
   "outputs": [
    {
     "name": "stdout",
     "output_type": "stream",
     "text": [
      ":: loading settings :: url = jar:file:/opt/bitnami/spark/jars/ivy-2.5.1.jar!/org/apache/ivy/core/settings/ivysettings.xml\n"
     ]
    },
    {
     "name": "stderr",
     "output_type": "stream",
     "text": [
      "Ivy Default Cache set to: /root/.ivy2/cache\n",
      "The jars for the packages stored in: /root/.ivy2/jars\n",
      "org.apache.iceberg#iceberg-spark-runtime-3.5_2.12 added as a dependency\n",
      "org.projectnessie.nessie-integrations#nessie-spark-extensions-3.5_2.12 added as a dependency\n",
      "org.apache.iceberg#iceberg-aws-bundle added as a dependency\n",
      ":: resolving dependencies :: org.apache.spark#spark-submit-parent-123893f1-6319-41c3-907f-df95f78551af;1.0\n",
      "\tconfs: [default]\n",
      "\tfound org.apache.iceberg#iceberg-spark-runtime-3.5_2.12;1.6.1 in central\n",
      "\tfound org.projectnessie.nessie-integrations#nessie-spark-extensions-3.5_2.12;0.99.0 in central\n",
      "\tfound org.apache.iceberg#iceberg-aws-bundle;1.6.1 in central\n",
      ":: resolution report :: resolve 2537ms :: artifacts dl 90ms\n",
      "\t:: modules in use:\n",
      "\torg.apache.iceberg#iceberg-aws-bundle;1.6.1 from central in [default]\n",
      "\torg.apache.iceberg#iceberg-spark-runtime-3.5_2.12;1.6.1 from central in [default]\n",
      "\torg.projectnessie.nessie-integrations#nessie-spark-extensions-3.5_2.12;0.99.0 from central in [default]\n",
      "\t---------------------------------------------------------------------\n",
      "\t|                  |            modules            ||   artifacts   |\n",
      "\t|       conf       | number| search|dwnlded|evicted|| number|dwnlded|\n",
      "\t---------------------------------------------------------------------\n",
      "\t|      default     |   3   |   0   |   0   |   0   ||   3   |   0   |\n",
      "\t---------------------------------------------------------------------\n",
      ":: retrieving :: org.apache.spark#spark-submit-parent-123893f1-6319-41c3-907f-df95f78551af\n",
      "\tconfs: [default]\n",
      "\t0 artifacts copied, 3 already retrieved (0kB/45ms)\n",
      "24/12/14 14:39:44 WARN NativeCodeLoader: Unable to load native-hadoop library for your platform... using builtin-java classes where applicable\n",
      "Setting default log level to \"WARN\".\n",
      "To adjust logging level use sc.setLogLevel(newLevel). For SparkR, use setLogLevel(newLevel).\n"
     ]
    },
    {
     "name": "stdout",
     "output_type": "stream",
     "text": [
      "<pyspark.sql.session.SparkSession object at 0x7f06c85c6fc0>\n"
     ]
    }
   ],
   "source": [
    "import pyspark\n",
    "from pyspark.sql import SparkSession\n",
    "import os\n",
    "\n",
    "AWS_ACCESS_KEY = os.getenv(\"AWS_ACCESS_KEY_ID\")\n",
    "AWS_SECRET_KEY = os.getenv(\"AWS_SECRET_ACCESS_KEY\")\n",
    "S3_ENDPOINT = os.getenv(\"S3_ENDPOINT\")\n",
    "NESSIE_URI = os.getenv(\"NESSIE_URI\")\n",
    "\n",
    "MASTER = \"spark://spark-master:7077\"\n",
    "\n",
    "jar_packages = [\n",
    "    \"org.apache.iceberg:iceberg-spark-runtime-3.5_2.12:1.6.1\",\n",
    "    \"org.projectnessie.nessie-integrations:nessie-spark-extensions-3.5_2.12:0.99.0\",\n",
    "    #\"software.amazon.awssdk:bundle:2.28.13\",\n",
    "    #\"software.amazon.awssdk:url-connection-client:2.28.13\",\n",
    "    \"org.apache.iceberg:iceberg-aws-bundle:1.6.1\"\n",
    "  ]\n",
    "\n",
    "spark_extensions = [\n",
    "    \"org.apache.iceberg.spark.extensions.IcebergSparkSessionExtensions\",\n",
    "    \"org.projectnessie.spark.extensions.NessieSparkSessionExtensions\"\n",
    "]\n",
    "conf = (\n",
    "    pyspark.SparkConf()\n",
    "    .setAppName(\"Silver Iceberg\")\n",
    "    .set(\"spark.master\", MASTER)\n",
    "    .set(\"spark.jars.packages\", ','.join(jar_packages))\n",
    "    .set(\"spark.sql.extensions\",\"org.apache.iceberg.spark.extensions.IcebergSparkSessionExtensions,org.projectnessie.spark.extensions.NessieSparkSessionExtensions\")\n",
    "    .set(\"spark.executor.memory\", \"2g\")\n",
    "    .set(\"spark.executor.cores\", \"2\")\n",
    "    .set(\"spark.executor.instances\", \"1\")\n",
    "    .set(\"spark.driver.memory\", \"2g\")\n",
    "    .set(\"spark.sql.catalog.nessie\", \"org.apache.iceberg.spark.SparkCatalog\")\n",
    "    .set(\"spark.sql.catalog.nessie.s3.path-style-access\", \"true\")\n",
    "    .set(\"spark.sql.catalog.nessie.s3.endpoint\", S3_ENDPOINT)\n",
    "    .set(\"spark.sql.catalog.nessie.warehouse\", \"s3a://silver/\")\n",
    "    .set(\"spark.sql.catalog.nessie.catalog-impl\", \"org.apache.iceberg.nessie.NessieCatalog\")\n",
    "    .set(\"spark.sql.catalog.nessie.io-impl\", \"org.apache.iceberg.aws.s3.S3FileIO\")\n",
    "    .set(\"spark.sql.catalog.nessie.uri\", NESSIE_URI)\n",
    "    .set(\"spark.sql.catalog.nessie.ref\", \"main\")\n",
    "    .set(\"spark.sql.catalog.nessie.authentication.type\", \"NONE\")\n",
    "    .set(\"spark.sql.catalog.nessie.cache-enabled\", \"false\")\n",
    "    .set(\"spark.hadoop.fs.s3a.access.key\", AWS_ACCESS_KEY)\n",
    "    .set(\"spark.hadoop.fs.s3a.secret.key\", AWS_SECRET_KEY)\n",
    "    .set(\"spark.hadoop.fs.s3a.endpoint\", S3_ENDPOINT)\n",
    "    .set(\"spark.hadoop.fs.s3a.path.style.access\", \"true\")\n",
    "    .set(\"spark.hadoop.fs.s3a.impl\", \"org.apache.hadoop.fs.s3a.S3AFileSystem\")\n",
    ")\n",
    "\n",
    "spark = SparkSession.builder.config(conf=conf).getOrCreate()\n",
    "spark.sparkContext.setLogLevel(\"ERROR\")\n",
    "print(spark)"
   ]
  },
  {
   "cell_type": "code",
   "execution_count": 3,
   "id": "cf32a09d-2593-4359-b0f7-85f214290269",
   "metadata": {},
   "outputs": [
    {
     "data": {
      "text/html": [
       "\n",
       "            <div>\n",
       "                <p><b>SparkSession - in-memory</b></p>\n",
       "                \n",
       "        <div>\n",
       "            <p><b>SparkContext</b></p>\n",
       "\n",
       "            <p><a href=\"http://be9fafb66fb0:4040\">Spark UI</a></p>\n",
       "\n",
       "            <dl>\n",
       "              <dt>Version</dt>\n",
       "                <dd><code>v3.5.3</code></dd>\n",
       "              <dt>Master</dt>\n",
       "                <dd><code>spark://spark-master:7077</code></dd>\n",
       "              <dt>AppName</dt>\n",
       "                <dd><code>Silver Iceberg</code></dd>\n",
       "            </dl>\n",
       "        </div>\n",
       "        \n",
       "            </div>\n",
       "        "
      ],
      "text/plain": [
       "<pyspark.sql.session.SparkSession at 0x7f06c85c6fc0>"
      ]
     },
     "execution_count": 3,
     "metadata": {},
     "output_type": "execute_result"
    }
   ],
   "source": [
    "spark"
   ]
  },
  {
   "cell_type": "code",
   "execution_count": 2,
   "id": "71a6870f-58f9-4c77-b83d-6855df17b2dc",
   "metadata": {},
   "outputs": [],
   "source": [
    "from pyspark.sql import Window\n",
    "from pyspark.sql import functions as F\n",
    "from pyspark.sql.types import StringType\n",
    "from pyspark.sql.functions import col, isnan, when, count, row_number\n"
   ]
  },
  {
   "cell_type": "code",
   "execution_count": 4,
   "id": "99ad2e0d-2577-4d42-9d0e-4a6f4208ecb9",
   "metadata": {},
   "outputs": [
    {
     "name": "stderr",
     "output_type": "stream",
     "text": [
      "                                                                                \r"
     ]
    },
    {
     "name": "stdout",
     "output_type": "stream",
     "text": [
      "+------------+------+---------------+-------+---------------+-----------+----------------+---------------+---------------+---------+---------+------------+----------------+--------------------+---------+---------+----------------------+------------------+---------------+------------------+--------------------+-----------+-----------+--------------+--------------+--------------+--------------+-----------+-----------+-----------+-----------+----------+----------+----------+----------+--------------------+--------------------+--------------------+--------------------+---------+--------------------+--------------------+--------------------+--------------------+-----------------+-------------+-------------+-------------+-------------+-------------+---------------+----+----+----+----+----+----+----+----+----+----+----+----+----+----+----+----+----+----+----+----+----+----+----+----+----+---+\n",
      "|NU_INSCRICAO|NU_ANO|TP_FAIXA_ETARIA|TP_SEXO|TP_ESTADO_CIVIL|TP_COR_RACA|TP_NACIONALIDADE|TP_ST_CONCLUSAO|TP_ANO_CONCLUIU|TP_ESCOLA|TP_ENSINO|IN_TREINEIRO|CO_MUNICIPIO_ESC|    NO_MUNICIPIO_ESC|CO_UF_ESC|SG_UF_ESC|TP_DEPENDENCIA_ADM_ESC|TP_LOCALIZACAO_ESC|TP_SIT_FUNC_ESC|CO_MUNICIPIO_PROVA|  NO_MUNICIPIO_PROVA|CO_UF_PROVA|SG_UF_PROVA|TP_PRESENCA_CN|TP_PRESENCA_CH|TP_PRESENCA_LC|TP_PRESENCA_MT|CO_PROVA_CN|CO_PROVA_CH|CO_PROVA_LC|CO_PROVA_MT|NU_NOTA_CN|NU_NOTA_CH|NU_NOTA_LC|NU_NOTA_MT|     TX_RESPOSTAS_CN|     TX_RESPOSTAS_CH|     TX_RESPOSTAS_LC|     TX_RESPOSTAS_MT|TP_LINGUA|      TX_GABARITO_CN|      TX_GABARITO_CH|      TX_GABARITO_LC|      TX_GABARITO_MT|TP_STATUS_REDACAO|NU_NOTA_COMP1|NU_NOTA_COMP2|NU_NOTA_COMP3|NU_NOTA_COMP4|NU_NOTA_COMP5|NU_NOTA_REDACAO|Q001|Q002|Q003|Q004|Q005|Q006|Q007|Q008|Q009|Q010|Q011|Q012|Q013|Q014|Q015|Q016|Q017|Q018|Q019|Q020|Q021|Q022|Q023|Q024|Q025| ID|\n",
      "+------------+------+---------------+-------+---------------+-----------+----------------+---------------+---------------+---------+---------+------------+----------------+--------------------+---------+---------+----------------------+------------------+---------------+------------------+--------------------+-----------+-----------+--------------+--------------+--------------+--------------+-----------+-----------+-----------+-----------+----------+----------+----------+----------+--------------------+--------------------+--------------------+--------------------+---------+--------------------+--------------------+--------------------+--------------------+-----------------+-------------+-------------+-------------+-------------+-------------+---------------+----+----+----+----+----+----+----+----+----+----+----+----+----+----+----+----+----+----+----+----+----+----+----+----+----+---+\n",
      "|190001004627|  2019|              6|      M|              1|          3|               4|              1|              3|        1|     NULL|           0|            NULL|                NULL|     NULL|     NULL|                  NULL|              NULL|           NULL|           1506807|            Santar�m|         15|         PA|             1|             1|             1|             1|        504|        509|        514|        516|     472.9|     466.0|     497.3|     369.1|DECCEBAECBDADCDBB...|CCBCAEDAAECEDABED...|DBBCB99999BDCCDBB...|ADBBDEDCABCEDCACB...|        0|BEEAAEBEEBADEADDA...|ACACEEBCCBABADBBB...|EBBADCABDABACBCEB...|BEDEEEAADBEBACABC...|                1|        160.0|        160.0|        160.0|        140.0|        160.0|          780.0|   D|   E|   A|   A|   7|   B|   A|   B|   C|   A|   A|   B|   A|   B|   A|   A|   A|   A|   C|   B|   A|   D|   A|   B|   A|  1|\n",
      "|190001004628|  2019|              1|      F|              1|          3|               1|              3|              0|        1|     NULL|           1|            NULL|                NULL|     NULL|     NULL|                  NULL|              NULL|           NULL|           1504059|          M�e do Rio|         15|         PA|             1|             1|             1|             1|        506|        510|        513|        517|     358.9|     495.4|     482.3|     416.5|DAEDEBDCDEBAAACDA...|CEACBBDEEABDDACAD...|99999ADBEAEBDACDA...|DACCCBDCCCBACCCCE...|        1|DEADBAAAEBEECEBCB...|EEBCEEDBADBBCBABC...|ADBBEDCABAABBCBCD...|AADDDBEEEBEDDBEBA...|                1|        120.0|        120.0|        120.0|        120.0|        120.0|          600.0|   D|   E|   A|   A|   5|   B|   A|   B|   C|   A|   A|   B|   A|   B|   A|   A|   A|   A|   B|   B|   A|   B|   A|   A|   A|  2|\n",
      "|190001004629|  2019|              3|      F|              1|          1|               1|              2|              0|        3|        1|           0|         1505502|         Paragominas|       15|       PA|                     4|                 1|              1|           1505502|         Paragominas|         15|         PA|             1|             1|             1|             1|        505|        510|        513|        518|     574.2|     538.7|     582.6|     571.5|AABDAECAECECCBCBD...|ABACCEABCDADABACB...|ADBBC99999EDBCBBA...|DECCABCBCDBBBEAEC...|        0|DADCCEBBCCACBEEBE...|EEBCEEDBADBBCBABC...|ADBBEDCABAABBCBCD...|DBEBACABCDBABECEE...|                1|        140.0|        120.0|        120.0|        140.0|        120.0|          640.0|   H|   E|   A|   D|   3|   C|   D|   E|   E|   C|   A|   B|   C|   B|   A|   B|   A|   A|   D|   B|   B|   D|   A|   C|   B|  3|\n",
      "|190001004630|  2019|              8|      M|              0|          3|               1|              2|              0|        2|        1|           0|         1507706|S�o Sebasti�o da ...|       15|       PA|                     2|                 1|              1|           1507706|S�o Sebasti�o da ...|         15|         PA|             0|             0|             0|             0|       NULL|       NULL|       NULL|       NULL|      NULL|      NULL|      NULL|      NULL|                NULL|                NULL|                NULL|                NULL|        1|                NULL|                NULL|                NULL|                NULL|             NULL|         NULL|         NULL|         NULL|         NULL|         NULL|           NULL|   D|   D|   A|   B|   3|   C|   A|   B|   C|   A|   A|   B|   A|   A|   A|   A|   A|   A|   C|   A|   A|   D|   A|   A|   A|  4|\n",
      "|190001004631|  2019|              8|      M|              1|          3|               1|              1|              5|        1|        1|           0|            NULL|                NULL|     NULL|     NULL|                  NULL|              NULL|           NULL|           1503903|              Juruti|         15|         PA|             0|             0|             0|             0|       NULL|       NULL|       NULL|       NULL|      NULL|      NULL|      NULL|      NULL|                NULL|                NULL|                NULL|                NULL|        1|                NULL|                NULL|                NULL|                NULL|             NULL|         NULL|         NULL|         NULL|         NULL|         NULL|           NULL|   B|   C|   A|   A|   5|   C|   A|   C|   B|   A|   B|   B|   A|   B|   A|   A|   A|   A|   B|   A|   A|   D|   A|   A|   A|  5|\n",
      "|190001004632|  2019|             12|      M|              1|          1|               1|              1|              7|        1|        1|           0|            NULL|                NULL|     NULL|     NULL|                  NULL|              NULL|           NULL|           1501402|               Bel�m|         15|         PA|             1|             1|             1|             1|        506|        508|        512|        517|     522.0|     592.6|     582.0|     605.3|EEDAACCEEABAEADAC...|ABAAADBACCEEACABC...|99999BDAAACBBBEEB...|AAECDAEBBDCAAEDBA...|        1|DEADBAAAEBEECEBCB...|CBABADBBCEEEBCBAD...|BBEDABDACACBABAEC...|AADDDBEEEBEDDBEBA...|                1|        120.0|        200.0|        140.0|        120.0|          0.0|          580.0|   C|   C|   C|   D|   5|   C|   A|   B|   C|   A|   A|   B|   A|   A|   A|   A|   A|   A|   B|   A|   A|   D|   A|   A|   A|  6|\n",
      "|190001004633|  2019|             11|      F|              2|          3|               1|              1|             10|        1|        1|           0|            NULL|                NULL|     NULL|     NULL|                  NULL|              NULL|           NULL|           1504208|              Marab�|         15|         PA|             1|             1|             1|             1|        504|        510|        513|        516|     407.4|     480.1|     464.3|     581.5|CADACDBEBBCEACCEA...|AEADABBDEABAAAACC...|99999DDEEBCCBDADE...|DCAEDAAADEBEACDBA...|        1|BEEAAEBEEBADEADDA...|EEBCEEDBADBBCBABC...|ADBBEDCABAABBCBCD...|BEDEEEAADBEBACABC...|                1|         80.0|        100.0|         80.0|         80.0|         20.0|          360.0|   B|   B|   A|   A|   4|   C|   A|   B|   B|   A|   B|   B|   A|   A|   A|   A|   A|   A|   B|   A|   A|   B|   A|   A|   B|  7|\n",
      "|190001004634|  2019|             11|      F|              0|          3|               1|              2|              0|        2|        1|           0|         1501402|               Bel�m|       15|       PA|                     2|                 1|              1|           1501402|               Bel�m|         15|         PA|             1|             1|             1|             1|        504|        508|        512|        516|     369.7|     398.2|     395.6|     473.8|CBACBAEABDBDDEEDA...|CABAEBAEBBCEECADA...|BCCAD99999CCDEBDB...|DAADEADABDECBDEAD...|        0|BEEAAEBEEBADEADDA...|CBABADBBCEEEBCBAD...|BBEDABDACACBABAEC...|BEDEEEAADBEBACABC...|                1|        120.0|        120.0|        120.0|        120.0|          0.0|          480.0|   B|   B|   B|   B|   4|   B|   A|   B|   B|   A|   A|   B|   A|   A|   A|   A|   A|   A|   B|   A|   A|   B|   A|   A|   A|  8|\n",
      "|190001004635|  2019|              4|      M|              1|          3|               1|              1|              0|        1|     NULL|           0|            NULL|                NULL|     NULL|     NULL|                  NULL|              NULL|           NULL|           1503606|            Itaituba|         15|         PA|             1|             1|             1|             1|        506|        509|        514|        517|     370.7|     386.4|     354.2|     375.5|DDDACECEECBADDCBC...|EEDCAEEBCC*DEACCC...|99999ADBEBADECDBA...|CECC.BCEBBABCDCAC...|        1|DEADBAAAEBEECEBCB...|ACACEEBCCBABADBBB...|EBBADCABDABACBCEB...|AADDDBEEEBEDDBEBA...|                1|         80.0|        120.0|        100.0|         80.0|         80.0|          460.0|   D|   D|   B|   B|   4|   B|   A|   B|   C|   A|   B|   B|   A|   A|   A|   A|   A|   A|   A|   A|   A|   C|   A|   A|   B|  9|\n",
      "|190001004636|  2019|              2|      F|              1|          2|               2|              3|              0|        1|     NULL|           1|            NULL|                NULL|     NULL|     NULL|                  NULL|              NULL|           NULL|           1507607| S�o Miguel do Guam�|         15|         PA|             1|             1|             1|             1|        504|        510|        513|        516|     443.5|     432.4|     515.3|     397.0|CBDAEECEBECBDADCB...|CEADCABBBEABAACBE...|99999CCEBDCEECBAE...|EAEEDCBEECACADEAB...|        1|BEEAAEBEEBADEADDA...|EEBCEEDBADBBCBABC...|ADBBEDCABAABBCBCD...|BEDEEEAADBEBACABC...|                1|        100.0|        120.0|        120.0|        100.0|        100.0|          540.0|   E|   E|   B|   F|   4|   B|   A|   B|   B|   A|   A|   B|   A|   A|   A|   A|   A|   A|   B|   A|   A|   B|   A|   A|   A| 10|\n",
      "|190001004637|  2019|              6|      M|              1|          0|               1|              1|              1|        1|        1|           0|            NULL|                NULL|     NULL|     NULL|                  NULL|              NULL|           NULL|           1507607| S�o Miguel do Guam�|         15|         PA|             1|             1|             1|             1|        505|        508|        512|        518|     477.6|     596.9|     549.7|     583.2|ABBEADCEDCEBCBBAE...|ABABADBECCAEBC*AD...|BDDEA99999CCADCED...|ECABAECBBDEABECAC...|        0|DADCCEBBCCACBEEBE...|CBABADBBCEEEBCBAD...|BBEDABDACACBABAEC...|DBEBACABCDBABECEE...|                1|        160.0|        180.0|        180.0|        200.0|        180.0|          900.0|   E|   C|   C|   F|   3|   B|   A|   B|   C|   A|   A|   B|   A|   A|   A|   A|   A|   A|   B|   A|   A|   A|   A|   A|   A| 11|\n",
      "|190001004638|  2019|              9|      F|              0|          3|               1|              2|              0|        2|     NULL|           0|         1508100|             Tucuru�|       15|       PA|                     2|                 1|              1|           1508100|             Tucuru�|         15|         PA|             0|             0|             0|             0|       NULL|       NULL|       NULL|       NULL|      NULL|      NULL|      NULL|      NULL|                NULL|                NULL|                NULL|                NULL|        0|                NULL|                NULL|                NULL|                NULL|             NULL|         NULL|         NULL|         NULL|         NULL|         NULL|           NULL|   A|   A|   A|   A|   2|   A|   A|   B|   B|   A|   A|   A|   A|   A|   A|   A|   A|   A|   B|   A|   A|   B|   A|   A|   A| 12|\n",
      "|190001004639|  2019|              7|      M|              1|          3|               1|              1|              5|        1|        1|           0|            NULL|                NULL|     NULL|     NULL|                  NULL|              NULL|           NULL|           1500800|          Ananindeua|         15|         PA|             0|             0|             0|             0|       NULL|       NULL|       NULL|       NULL|      NULL|      NULL|      NULL|      NULL|                NULL|                NULL|                NULL|                NULL|        1|                NULL|                NULL|                NULL|                NULL|             NULL|         NULL|         NULL|         NULL|         NULL|         NULL|           NULL|   E|   C|   A|   B|   4|   D|   A|   B|   C|   A|   A|   B|   B|   A|   A|   B|   A|   A|   B|   A|   A|   D|   A|   B|   B| 13|\n",
      "|190001004640|  2019|             12|      M|              1|          3|               1|              1|             13|        1|     NULL|           0|            NULL|                NULL|     NULL|     NULL|                  NULL|              NULL|           NULL|           1501402|               Bel�m|         15|         PA|             0|             0|             0|             0|       NULL|       NULL|       NULL|       NULL|      NULL|      NULL|      NULL|      NULL|                NULL|                NULL|                NULL|                NULL|        0|                NULL|                NULL|                NULL|                NULL|             NULL|         NULL|         NULL|         NULL|         NULL|         NULL|           NULL|   E|   E|   F|   D|   2|   D|   A|   B|   C|   A|   A|   B|   B|   B|   A|   B|   A|   A|   B|   A|   A|   C|   A|   B|   B| 14|\n",
      "|190001004641|  2019|             11|      F|              1|          3|               1|              1|             13|        1|     NULL|           0|            NULL|                NULL|     NULL|     NULL|                  NULL|              NULL|           NULL|           1500800|          Ananindeua|         15|         PA|             0|             0|             0|             0|       NULL|       NULL|       NULL|       NULL|      NULL|      NULL|      NULL|      NULL|                NULL|                NULL|                NULL|                NULL|        1|                NULL|                NULL|                NULL|                NULL|             NULL|         NULL|         NULL|         NULL|         NULL|         NULL|           NULL|   B|   B|   B|   B|   4|   C|   A|   B|   C|   A|   A|   B|   A|   A|   A|   A|   A|   A|   B|   B|   A|   B|   A|   B|   A| 15|\n",
      "|190001004642|  2019|              2|      F|              1|          3|               1|              2|              0|        2|     NULL|           0|         1502400|           Castanhal|       15|       PA|                     2|                 1|              1|           1502400|           Castanhal|         15|         PA|             1|             1|             1|             1|        504|        507|        511|        516|     376.4|     354.7|     525.8|     389.4|EBBAEEDECADBDCBCA...|ADEDDAABABAECACCB...|99999ADDBCDBBBEDD...|DAABCBDEECBCADCBE...|        1|BEEAAEBEEBADEADDA...|BACCCBABBADCBCEEE...|BDABEABCADBCBAADD...|BEDEEEAADBEBACABC...|                1|        160.0|        140.0|        120.0|        120.0|        120.0|          660.0|   B|   D|   B|   B|   3|   C|   A|   B|   C|   A|   B|   B|   A|   A|   A|   A|   A|   A|   B|   B|   A|   D|   A|   A|   A| 16|\n",
      "|190001004643|  2019|              2|      F|              1|          3|               1|              2|              0|        2|        1|           0|         1501402|               Bel�m|       15|       PA|                     2|                 1|              1|           1501402|               Bel�m|         15|         PA|             1|             1|             1|             1|        506|        507|        511|        517|     423.0|     372.8|     488.7|     516.5|AADCEBCBECACBDDBC...|ABDBAACACBDEDEDAB...|BBCDA99999EDBCDBD...|DDBCBEADB*EDDBBCA...|        0|DEADBAAAEBEECEBCB...|BACCCBABBADCBCEEE...|BDABEABCADBCBAADD...|AADDDBEEEBEDDBEBA...|                1|        120.0|        100.0|        100.0|        120.0|        100.0|          540.0|   E|   E|   B|   B|   9|   C|   A|   B|   D|   A|   A|   B|   A|   A|   A|   A|   A|   A|   D|   A|   A|   C|   A|   A|   A| 17|\n",
      "|190001004644|  2019|              3|      F|              1|          4|               1|              1|              1|        1|     NULL|           0|            NULL|                NULL|     NULL|     NULL|                  NULL|              NULL|           NULL|           1508159|              Uruar�|         15|         PA|             1|             1|             1|             1|        506|        507|        511|        517|     373.3|     405.2|     441.4|     496.5|ECCCECDD*BACBDADA...|CCBBECBCCABBBECCD...|99999BEEBCDEABCBC...|CDADCBEEDCAADAECB...|        1|DEADBAAAEBEECEBCB...|BACCCBABBADCBCEEE...|BDABEABCADBCBAADD...|AADDDBEEEBEDDBEBA...|                1|        140.0|        120.0|        140.0|        160.0|        140.0|          700.0|   C|   B|   A|   A|   4|   B|   A|   B|   C|   A|   B|   B|   B|   B|   A|   A|   A|   A|   B|   A|   A|   C|   A|   A|   A| 18|\n",
      "|190001004645|  2019|              3|      F|              1|          3|               1|              2|              0|        2|        1|           0|            NULL|                NULL|     NULL|     NULL|                  NULL|              NULL|           NULL|           1501402|               Bel�m|         15|         PA|             1|             1|             1|             1|        503|        509|        514|        515|     451.8|     521.0|     538.4|     560.8|CEEDDCBDCDBAABEBD...|CCEBCAECBBAEABAAA...|99999DABBBBBCCCBE...|ECEBEBCCAEACBDEDE...|        1|AAECACDEADCBCDDDB...|ACACEEBCCBABADBBB...|EBBADCABDABACBCEB...|EEEADBEBACABCDBAB...|                1|        100.0|        120.0|        100.0|        120.0|         60.0|          500.0|   E|   E|   B|   B|   8|   D|   A|   B|   B|   A|   B|   B|   A|   B|   A|   A|   A|   A|   B|   A|   A|   B|   A|   A|   A| 19|\n",
      "|190001004646|  2019|              6|      F|              0|          2|               1|              1|              3|        1|     NULL|           0|            NULL|                NULL|     NULL|     NULL|                  NULL|              NULL|           NULL|           1507300|  S�o F�lix do Xingu|         15|         PA|             1|             1|             1|             1|        503|        508|        512|        515|     463.6|     417.3|     431.0|     397.9|DEEDEEEDCCBEDCACE...|DAAAABAACACBBDACD...|99999BDEEBEEDBBBD...|ECBBAEBCAEDCAAEDD...|        1|AAECACDEADCBCDDDB...|CBABADBBCEEEBCBAD...|BBEDABDACACBABAEC...|EEEADBEBACABCDBAB...|                1|        120.0|        200.0|        120.0|        100.0|         80.0|          620.0|   C|   C|   A|   A|   3|   A|   A|   A|   B|   A|   A|   B|   A|   A|   A|   A|   A|   A|   B|   A|   A|   B|   A|   A|   B| 20|\n",
      "+------------+------+---------------+-------+---------------+-----------+----------------+---------------+---------------+---------+---------+------------+----------------+--------------------+---------+---------+----------------------+------------------+---------------+------------------+--------------------+-----------+-----------+--------------+--------------+--------------+--------------+-----------+-----------+-----------+-----------+----------+----------+----------+----------+--------------------+--------------------+--------------------+--------------------+---------+--------------------+--------------------+--------------------+--------------------+-----------------+-------------+-------------+-------------+-------------+-------------+---------------+----+----+----+----+----+----+----+----+----+----+----+----+----+----+----+----+----+----+----+----+----+----+----+----+----+---+\n",
      "only showing top 20 rows\n",
      "\n"
     ]
    }
   ],
   "source": [
    "tabelas = [\"enem_2019\", \"enem_2020\", \"enem_2021\", \"enem_2022\", \"enem_2023\"]\n",
    "\n",
    "# Variável para armazenar o DataFrame final\n",
    "tabela_enem_silver = None\n",
    "\n",
    "# Loop para ler cada tabela e realizar a união\n",
    "for tabela in tabelas:\n",
    "    table_temp = spark.read.format(\"iceberg\").load(f\"nessie.bronze.{tabela}\")\n",
    "\n",
    "    if tabela_enem_silver is None:\n",
    "        # Atribui a primeira tabela\n",
    "        tabela_enem_silver = table_temp \n",
    "    else:\n",
    "        # Faz a união com o tabela existente\n",
    "        tabela_enem_silver = tabela_enem_silver.union(table_temp)\n",
    "\n",
    "window_spec = Window.orderBy(\"NU_INSCRICAO\")\n",
    "\n",
    "# Adicionando a coluna 'ID' com o número da linha\n",
    "tabela_enem_silver = tabela_enem_silver.withColumn(\"ID\", row_number().over(window_spec))\n",
    "\n",
    "# Mostrar o DataFrame resultante\n",
    "tabela_enem_silver.show()"
   ]
  },
  {
   "cell_type": "code",
   "execution_count": 5,
   "id": "45fdfa29-f7a2-487a-b255-22eb7bb64196",
   "metadata": {},
   "outputs": [
    {
     "name": "stderr",
     "output_type": "stream",
     "text": [
      "[Stage 2:=======================================================> (70 + 2) / 72]\r"
     ]
    },
    {
     "name": "stdout",
     "output_type": "stream",
     "text": [
      "+---+------------+------+---------------+-------+---------------+-----------+\n",
      "| ID|NU_INSCRICAO|NU_ANO|TP_FAIXA_ETARIA|TP_SEXO|TP_ESTADO_CIVIL|TP_COR_RACA|\n",
      "+---+------------+------+---------------+-------+---------------+-----------+\n",
      "|  1|190001004627|  2019|              6|      M|              1|          3|\n",
      "|  2|190001004628|  2019|              1|      F|              1|          3|\n",
      "|  3|190001004629|  2019|              3|      F|              1|          1|\n",
      "|  4|190001004630|  2019|              8|      M|              0|          3|\n",
      "|  5|190001004631|  2019|              8|      M|              1|          3|\n",
      "|  6|190001004632|  2019|             12|      M|              1|          1|\n",
      "|  7|190001004633|  2019|             11|      F|              2|          3|\n",
      "|  8|190001004634|  2019|             11|      F|              0|          3|\n",
      "|  9|190001004635|  2019|              4|      M|              1|          3|\n",
      "| 10|190001004636|  2019|              2|      F|              1|          2|\n",
      "+---+------------+------+---------------+-------+---------------+-----------+\n",
      "only showing top 10 rows\n",
      "\n"
     ]
    },
    {
     "name": "stderr",
     "output_type": "stream",
     "text": [
      "                                                                                \r"
     ]
    }
   ],
   "source": [
    "tabela_enem_silver.select(\"ID\", \"NU_INSCRICAO\", \"NU_ANO\", \"TP_FAIXA_ETARIA\", \"TP_SEXO\", \"TP_ESTADO_CIVIL\", \"TP_COR_RACA\").show(10)"
   ]
  },
  {
   "cell_type": "code",
   "execution_count": 7,
   "id": "2c4e3a02-b743-432a-a10b-7043283bf5be",
   "metadata": {},
   "outputs": [
    {
     "name": "stderr",
     "output_type": "stream",
     "text": [
      "[Stage 4:=======================================================> (70 + 2) / 72]\r"
     ]
    },
    {
     "name": "stdout",
     "output_type": "stream",
     "text": [
      "+------+-------+\n",
      "|NU_ANO|  count|\n",
      "+------+-------+\n",
      "|  2019|5095171|\n",
      "|  2020|5783109|\n",
      "|  2021|3389832|\n",
      "|  2022|3476105|\n",
      "|  2023|3933955|\n",
      "+------+-------+\n",
      "\n"
     ]
    },
    {
     "name": "stderr",
     "output_type": "stream",
     "text": [
      "                                                                                \r"
     ]
    }
   ],
   "source": [
    "tabela_enem_silver.select('NU_ANO').groupBy('NU_ANO').count().orderBy(F.col('NU_ANO'), ascending=True).show()"
   ]
  },
  {
   "cell_type": "code",
   "execution_count": 8,
   "id": "0505fd26-0455-460c-93d4-a6cf0b7f29f3",
   "metadata": {},
   "outputs": [
    {
     "name": "stdout",
     "output_type": "stream",
     "text": [
      "root\n",
      " |-- NU_INSCRICAO: string (nullable = true)\n",
      " |-- NU_ANO: integer (nullable = true)\n",
      " |-- TP_FAIXA_ETARIA: integer (nullable = true)\n",
      " |-- TP_SEXO: string (nullable = true)\n",
      " |-- TP_ESTADO_CIVIL: string (nullable = true)\n",
      " |-- TP_COR_RACA: integer (nullable = true)\n",
      " |-- TP_NACIONALIDADE: integer (nullable = true)\n",
      " |-- TP_ST_CONCLUSAO: integer (nullable = true)\n",
      " |-- TP_ANO_CONCLUIU: integer (nullable = true)\n",
      " |-- TP_ESCOLA: integer (nullable = true)\n",
      " |-- TP_ENSINO: integer (nullable = true)\n",
      " |-- IN_TREINEIRO: integer (nullable = true)\n",
      " |-- CO_MUNICIPIO_ESC: integer (nullable = true)\n",
      " |-- NO_MUNICIPIO_ESC: string (nullable = true)\n",
      " |-- CO_UF_ESC: integer (nullable = true)\n",
      " |-- SG_UF_ESC: string (nullable = true)\n",
      " |-- TP_DEPENDENCIA_ADM_ESC: integer (nullable = true)\n",
      " |-- TP_LOCALIZACAO_ESC: integer (nullable = true)\n",
      " |-- TP_SIT_FUNC_ESC: integer (nullable = true)\n",
      " |-- CO_MUNICIPIO_PROVA: integer (nullable = true)\n",
      " |-- NO_MUNICIPIO_PROVA: string (nullable = true)\n",
      " |-- CO_UF_PROVA: integer (nullable = true)\n",
      " |-- SG_UF_PROVA: string (nullable = true)\n",
      " |-- TP_PRESENCA_CN: integer (nullable = true)\n",
      " |-- TP_PRESENCA_CH: integer (nullable = true)\n",
      " |-- TP_PRESENCA_LC: integer (nullable = true)\n",
      " |-- TP_PRESENCA_MT: integer (nullable = true)\n",
      " |-- CO_PROVA_CN: integer (nullable = true)\n",
      " |-- CO_PROVA_CH: integer (nullable = true)\n",
      " |-- CO_PROVA_LC: integer (nullable = true)\n",
      " |-- CO_PROVA_MT: integer (nullable = true)\n",
      " |-- NU_NOTA_CN: double (nullable = true)\n",
      " |-- NU_NOTA_CH: double (nullable = true)\n",
      " |-- NU_NOTA_LC: double (nullable = true)\n",
      " |-- NU_NOTA_MT: double (nullable = true)\n",
      " |-- TX_RESPOSTAS_CN: string (nullable = true)\n",
      " |-- TX_RESPOSTAS_CH: string (nullable = true)\n",
      " |-- TX_RESPOSTAS_LC: string (nullable = true)\n",
      " |-- TX_RESPOSTAS_MT: string (nullable = true)\n",
      " |-- TP_LINGUA: integer (nullable = true)\n",
      " |-- TX_GABARITO_CN: string (nullable = true)\n",
      " |-- TX_GABARITO_CH: string (nullable = true)\n",
      " |-- TX_GABARITO_LC: string (nullable = true)\n",
      " |-- TX_GABARITO_MT: string (nullable = true)\n",
      " |-- TP_STATUS_REDACAO: integer (nullable = true)\n",
      " |-- NU_NOTA_COMP1: double (nullable = true)\n",
      " |-- NU_NOTA_COMP2: double (nullable = true)\n",
      " |-- NU_NOTA_COMP3: double (nullable = true)\n",
      " |-- NU_NOTA_COMP4: double (nullable = true)\n",
      " |-- NU_NOTA_COMP5: double (nullable = true)\n",
      " |-- NU_NOTA_REDACAO: double (nullable = true)\n",
      " |-- Q001: string (nullable = true)\n",
      " |-- Q002: string (nullable = true)\n",
      " |-- Q003: string (nullable = true)\n",
      " |-- Q004: string (nullable = true)\n",
      " |-- Q005: string (nullable = true)\n",
      " |-- Q006: string (nullable = true)\n",
      " |-- Q007: string (nullable = true)\n",
      " |-- Q008: string (nullable = true)\n",
      " |-- Q009: string (nullable = true)\n",
      " |-- Q010: string (nullable = true)\n",
      " |-- Q011: string (nullable = true)\n",
      " |-- Q012: string (nullable = true)\n",
      " |-- Q013: string (nullable = true)\n",
      " |-- Q014: string (nullable = true)\n",
      " |-- Q015: string (nullable = true)\n",
      " |-- Q016: string (nullable = true)\n",
      " |-- Q017: string (nullable = true)\n",
      " |-- Q018: string (nullable = true)\n",
      " |-- Q019: string (nullable = true)\n",
      " |-- Q020: string (nullable = true)\n",
      " |-- Q021: string (nullable = true)\n",
      " |-- Q022: string (nullable = true)\n",
      " |-- Q023: string (nullable = true)\n",
      " |-- Q024: string (nullable = true)\n",
      " |-- Q025: string (nullable = true)\n",
      " |-- ID: integer (nullable = false)\n",
      "\n"
     ]
    }
   ],
   "source": [
    "tabela_enem_silver.printSchema()"
   ]
  },
  {
   "cell_type": "code",
   "execution_count": 9,
   "id": "28c7936d-8f52-4284-91f3-ce49fdfd4dbf",
   "metadata": {},
   "outputs": [
    {
     "name": "stdout",
     "output_type": "stream",
     "text": [
      "root\n",
      " |-- NU_INSCRICAO: string (nullable = true)\n",
      " |-- NU_ANO: integer (nullable = true)\n",
      " |-- TP_FAIXA_ETARIA: string (nullable = true)\n",
      " |-- TP_SEXO: string (nullable = true)\n",
      " |-- TP_ESTADO_CIVIL: string (nullable = true)\n",
      " |-- TP_COR_RACA: string (nullable = true)\n",
      " |-- TP_NACIONALIDADE: string (nullable = true)\n",
      " |-- TP_ST_CONCLUSAO: string (nullable = true)\n",
      " |-- TP_ANO_CONCLUIU: string (nullable = true)\n",
      " |-- TP_ESCOLA: string (nullable = true)\n",
      " |-- TP_ENSINO: string (nullable = true)\n",
      " |-- IN_TREINEIRO: string (nullable = true)\n",
      " |-- CO_MUNICIPIO_ESC: integer (nullable = true)\n",
      " |-- NO_MUNICIPIO_ESC: string (nullable = true)\n",
      " |-- CO_UF_ESC: integer (nullable = true)\n",
      " |-- SG_UF_ESC: string (nullable = true)\n",
      " |-- TP_DEPENDENCIA_ADM_ESC: string (nullable = true)\n",
      " |-- TP_LOCALIZACAO_ESC: string (nullable = true)\n",
      " |-- TP_SIT_FUNC_ESC: string (nullable = true)\n",
      " |-- CO_MUNICIPIO_PROVA: integer (nullable = true)\n",
      " |-- NO_MUNICIPIO_PROVA: string (nullable = true)\n",
      " |-- CO_UF_PROVA: integer (nullable = true)\n",
      " |-- SG_UF_PROVA: string (nullable = true)\n",
      " |-- TP_PRESENCA_CN: string (nullable = true)\n",
      " |-- TP_PRESENCA_CH: string (nullable = true)\n",
      " |-- TP_PRESENCA_LC: string (nullable = true)\n",
      " |-- TP_PRESENCA_MT: string (nullable = true)\n",
      " |-- CO_PROVA_CN: string (nullable = true)\n",
      " |-- CO_PROVA_CH: string (nullable = true)\n",
      " |-- CO_PROVA_LC: string (nullable = true)\n",
      " |-- CO_PROVA_MT: string (nullable = true)\n",
      " |-- NU_NOTA_CN: double (nullable = true)\n",
      " |-- NU_NOTA_CH: double (nullable = true)\n",
      " |-- NU_NOTA_LC: double (nullable = true)\n",
      " |-- NU_NOTA_MT: double (nullable = true)\n",
      " |-- TX_RESPOSTAS_CN: string (nullable = true)\n",
      " |-- TX_RESPOSTAS_CH: string (nullable = true)\n",
      " |-- TX_RESPOSTAS_LC: string (nullable = true)\n",
      " |-- TX_RESPOSTAS_MT: string (nullable = true)\n",
      " |-- TP_LINGUA: string (nullable = true)\n",
      " |-- TX_GABARITO_CN: string (nullable = true)\n",
      " |-- TX_GABARITO_CH: string (nullable = true)\n",
      " |-- TX_GABARITO_LC: string (nullable = true)\n",
      " |-- TX_GABARITO_MT: string (nullable = true)\n",
      " |-- TP_STATUS_REDACAO: string (nullable = true)\n",
      " |-- NU_NOTA_COMP1: double (nullable = true)\n",
      " |-- NU_NOTA_COMP2: double (nullable = true)\n",
      " |-- NU_NOTA_COMP3: double (nullable = true)\n",
      " |-- NU_NOTA_COMP4: double (nullable = true)\n",
      " |-- NU_NOTA_COMP5: double (nullable = true)\n",
      " |-- NU_NOTA_REDACAO: double (nullable = true)\n",
      " |-- Q001: string (nullable = true)\n",
      " |-- Q002: string (nullable = true)\n",
      " |-- Q003: string (nullable = true)\n",
      " |-- Q004: string (nullable = true)\n",
      " |-- Q005: string (nullable = true)\n",
      " |-- Q006: string (nullable = true)\n",
      " |-- Q007: string (nullable = true)\n",
      " |-- Q008: string (nullable = true)\n",
      " |-- Q009: string (nullable = true)\n",
      " |-- Q010: string (nullable = true)\n",
      " |-- Q011: string (nullable = true)\n",
      " |-- Q012: string (nullable = true)\n",
      " |-- Q013: string (nullable = true)\n",
      " |-- Q014: string (nullable = true)\n",
      " |-- Q015: string (nullable = true)\n",
      " |-- Q016: string (nullable = true)\n",
      " |-- Q017: string (nullable = true)\n",
      " |-- Q018: string (nullable = true)\n",
      " |-- Q019: string (nullable = true)\n",
      " |-- Q020: string (nullable = true)\n",
      " |-- Q021: string (nullable = true)\n",
      " |-- Q022: string (nullable = true)\n",
      " |-- Q023: string (nullable = true)\n",
      " |-- Q024: string (nullable = true)\n",
      " |-- Q025: string (nullable = true)\n",
      " |-- ID: integer (nullable = false)\n",
      "\n"
     ]
    }
   ],
   "source": [
    "# Lista de colunas que precisam ser convertidas\n",
    "colunas_para_utilizar_o_cast = [\n",
    "    \"TP_FAIXA_ETARIA\", \"TP_SEXO\", \"TP_ESTADO_CIVIL\", \"TP_COR_RACA\",\n",
    "    \"TP_NACIONALIDADE\", \"TP_ST_CONCLUSAO\", \"TP_ANO_CONCLUIU\",\n",
    "    \"TP_ESCOLA\", \"TP_ENSINO\", \"IN_TREINEIRO\", \"TP_DEPENDENCIA_ADM_ESC\",\n",
    "    \"TP_LOCALIZACAO_ESC\", \"TP_SIT_FUNC_ESC\", \"TP_PRESENCA_CN\",\n",
    "    \"TP_PRESENCA_CH\", \"TP_PRESENCA_LC\", \"TP_PRESENCA_MT\", \"CO_PROVA_CN\",\n",
    "    \"CO_PROVA_CH\", \"CO_PROVA_LC\", \"CO_PROVA_MT\", \"TP_LINGUA\", \"TP_STATUS_REDACAO\"\n",
    "]\n",
    "\n",
    "# Aplicar o cast apenas nas colunas especificadas\n",
    "for col in colunas_para_utilizar_o_cast:\n",
    "    tabela_enem_silver = tabela_enem_silver.withColumn(col, tabela_enem_silver[col].cast(StringType()))\n",
    "\n",
    "# Verificar o esquema atualizado\n",
    "tabela_enem_silver.printSchema()\n"
   ]
  },
  {
   "cell_type": "code",
   "execution_count": 13,
   "id": "49ddf1b2-d9dc-4320-a57b-31fa5efec0d5",
   "metadata": {
    "scrolled": true
   },
   "outputs": [
    {
     "name": "stderr",
     "output_type": "stream",
     "text": [
      "                                                                                \r"
     ]
    },
    {
     "name": "stdout",
     "output_type": "stream",
     "text": [
      "Coluna: NU_INSCRICAO, Valores nulos: 0\n"
     ]
    },
    {
     "name": "stderr",
     "output_type": "stream",
     "text": [
      "                                                                                \r"
     ]
    },
    {
     "name": "stdout",
     "output_type": "stream",
     "text": [
      "Coluna: NU_ANO, Valores nulos: 0\n"
     ]
    },
    {
     "name": "stderr",
     "output_type": "stream",
     "text": [
      "                                                                                \r"
     ]
    },
    {
     "name": "stdout",
     "output_type": "stream",
     "text": [
      "Coluna: TP_FAIXA_ETARIA, Valores nulos: 0\n"
     ]
    },
    {
     "name": "stderr",
     "output_type": "stream",
     "text": [
      "                                                                                \r"
     ]
    },
    {
     "name": "stdout",
     "output_type": "stream",
     "text": [
      "Coluna: TP_SEXO, Valores nulos: 0\n"
     ]
    },
    {
     "name": "stderr",
     "output_type": "stream",
     "text": [
      "                                                                                \r"
     ]
    },
    {
     "name": "stdout",
     "output_type": "stream",
     "text": [
      "Coluna: TP_ESTADO_CIVIL, Valores nulos: 0\n"
     ]
    },
    {
     "name": "stderr",
     "output_type": "stream",
     "text": [
      "                                                                                \r"
     ]
    },
    {
     "name": "stdout",
     "output_type": "stream",
     "text": [
      "Coluna: TP_COR_RACA, Valores nulos: 0\n"
     ]
    },
    {
     "name": "stderr",
     "output_type": "stream",
     "text": [
      "                                                                                \r"
     ]
    },
    {
     "name": "stdout",
     "output_type": "stream",
     "text": [
      "Coluna: TP_NACIONALIDADE, Valores nulos: 0\n"
     ]
    },
    {
     "name": "stderr",
     "output_type": "stream",
     "text": [
      "                                                                                \r"
     ]
    },
    {
     "name": "stdout",
     "output_type": "stream",
     "text": [
      "Coluna: TP_ST_CONCLUSAO, Valores nulos: 0\n"
     ]
    },
    {
     "name": "stderr",
     "output_type": "stream",
     "text": [
      "                                                                                \r"
     ]
    },
    {
     "name": "stdout",
     "output_type": "stream",
     "text": [
      "Coluna: TP_ANO_CONCLUIU, Valores nulos: 0\n"
     ]
    },
    {
     "name": "stderr",
     "output_type": "stream",
     "text": [
      "                                                                                \r"
     ]
    },
    {
     "name": "stdout",
     "output_type": "stream",
     "text": [
      "Coluna: TP_ESCOLA, Valores nulos: 0\n"
     ]
    },
    {
     "name": "stderr",
     "output_type": "stream",
     "text": [
      "                                                                                \r"
     ]
    },
    {
     "name": "stdout",
     "output_type": "stream",
     "text": [
      "Coluna: TP_ENSINO, Valores nulos: 13797938\n"
     ]
    },
    {
     "name": "stderr",
     "output_type": "stream",
     "text": [
      "                                                                                \r"
     ]
    },
    {
     "name": "stdout",
     "output_type": "stream",
     "text": [
      "Coluna: IN_TREINEIRO, Valores nulos: 0\n"
     ]
    },
    {
     "name": "stderr",
     "output_type": "stream",
     "text": [
      "                                                                                \r"
     ]
    },
    {
     "name": "stdout",
     "output_type": "stream",
     "text": [
      "Coluna: CO_MUNICIPIO_ESC, Valores nulos: 16901960\n"
     ]
    },
    {
     "name": "stderr",
     "output_type": "stream",
     "text": [
      "                                                                                \r"
     ]
    },
    {
     "name": "stdout",
     "output_type": "stream",
     "text": [
      "Coluna: NO_MUNICIPIO_ESC, Valores nulos: 16901960\n"
     ]
    },
    {
     "name": "stderr",
     "output_type": "stream",
     "text": [
      "                                                                                \r"
     ]
    },
    {
     "name": "stdout",
     "output_type": "stream",
     "text": [
      "Coluna: CO_UF_ESC, Valores nulos: 16901960\n"
     ]
    },
    {
     "name": "stderr",
     "output_type": "stream",
     "text": [
      "                                                                                \r"
     ]
    },
    {
     "name": "stdout",
     "output_type": "stream",
     "text": [
      "Coluna: SG_UF_ESC, Valores nulos: 16901960\n"
     ]
    },
    {
     "name": "stderr",
     "output_type": "stream",
     "text": [
      "                                                                                \r"
     ]
    },
    {
     "name": "stdout",
     "output_type": "stream",
     "text": [
      "Coluna: TP_DEPENDENCIA_ADM_ESC, Valores nulos: 16901960\n"
     ]
    },
    {
     "name": "stderr",
     "output_type": "stream",
     "text": [
      "                                                                                \r"
     ]
    },
    {
     "name": "stdout",
     "output_type": "stream",
     "text": [
      "Coluna: TP_LOCALIZACAO_ESC, Valores nulos: 16901960\n"
     ]
    },
    {
     "name": "stderr",
     "output_type": "stream",
     "text": [
      "                                                                                \r"
     ]
    },
    {
     "name": "stdout",
     "output_type": "stream",
     "text": [
      "Coluna: TP_SIT_FUNC_ESC, Valores nulos: 16901960\n"
     ]
    },
    {
     "name": "stderr",
     "output_type": "stream",
     "text": [
      "                                                                                \r"
     ]
    },
    {
     "name": "stdout",
     "output_type": "stream",
     "text": [
      "Coluna: CO_MUNICIPIO_PROVA, Valores nulos: 0\n"
     ]
    },
    {
     "name": "stderr",
     "output_type": "stream",
     "text": [
      "                                                                                \r"
     ]
    },
    {
     "name": "stdout",
     "output_type": "stream",
     "text": [
      "Coluna: NO_MUNICIPIO_PROVA, Valores nulos: 0\n"
     ]
    },
    {
     "name": "stderr",
     "output_type": "stream",
     "text": [
      "                                                                                \r"
     ]
    },
    {
     "name": "stdout",
     "output_type": "stream",
     "text": [
      "Coluna: CO_UF_PROVA, Valores nulos: 0\n"
     ]
    },
    {
     "name": "stderr",
     "output_type": "stream",
     "text": [
      "                                                                                \r"
     ]
    },
    {
     "name": "stdout",
     "output_type": "stream",
     "text": [
      "Coluna: SG_UF_PROVA, Valores nulos: 0\n"
     ]
    },
    {
     "name": "stderr",
     "output_type": "stream",
     "text": [
      "                                                                                \r"
     ]
    },
    {
     "name": "stdout",
     "output_type": "stream",
     "text": [
      "Coluna: TP_PRESENCA_CN, Valores nulos: 0\n"
     ]
    },
    {
     "name": "stderr",
     "output_type": "stream",
     "text": [
      "                                                                                \r"
     ]
    },
    {
     "name": "stdout",
     "output_type": "stream",
     "text": [
      "Coluna: TP_PRESENCA_CH, Valores nulos: 0\n"
     ]
    },
    {
     "name": "stderr",
     "output_type": "stream",
     "text": [
      "                                                                                \r"
     ]
    },
    {
     "name": "stdout",
     "output_type": "stream",
     "text": [
      "Coluna: TP_PRESENCA_LC, Valores nulos: 0\n"
     ]
    },
    {
     "name": "stderr",
     "output_type": "stream",
     "text": [
      "                                                                                \r"
     ]
    },
    {
     "name": "stdout",
     "output_type": "stream",
     "text": [
      "Coluna: TP_PRESENCA_MT, Valores nulos: 0\n"
     ]
    },
    {
     "name": "stderr",
     "output_type": "stream",
     "text": [
      "                                                                                \r"
     ]
    },
    {
     "name": "stdout",
     "output_type": "stream",
     "text": [
      "Coluna: CO_PROVA_CN, Valores nulos: 8076731\n"
     ]
    },
    {
     "name": "stderr",
     "output_type": "stream",
     "text": [
      "                                                                                \r"
     ]
    },
    {
     "name": "stdout",
     "output_type": "stream",
     "text": [
      "Coluna: CO_PROVA_CH, Valores nulos: 7306522\n"
     ]
    },
    {
     "name": "stderr",
     "output_type": "stream",
     "text": [
      "                                                                                \r"
     ]
    },
    {
     "name": "stdout",
     "output_type": "stream",
     "text": [
      "Coluna: CO_PROVA_LC, Valores nulos: 7306522\n"
     ]
    },
    {
     "name": "stderr",
     "output_type": "stream",
     "text": [
      "                                                                                \r"
     ]
    },
    {
     "name": "stdout",
     "output_type": "stream",
     "text": [
      "Coluna: CO_PROVA_MT, Valores nulos: 8076731\n"
     ]
    },
    {
     "name": "stderr",
     "output_type": "stream",
     "text": [
      "                                                                                \r"
     ]
    },
    {
     "name": "stdout",
     "output_type": "stream",
     "text": [
      "Coluna: NU_NOTA_CN, Valores nulos: 8076731\n"
     ]
    },
    {
     "name": "stderr",
     "output_type": "stream",
     "text": [
      "                                                                                \r"
     ]
    },
    {
     "name": "stdout",
     "output_type": "stream",
     "text": [
      "Coluna: NU_NOTA_CH, Valores nulos: 7306522\n"
     ]
    },
    {
     "name": "stderr",
     "output_type": "stream",
     "text": [
      "                                                                                \r"
     ]
    },
    {
     "name": "stdout",
     "output_type": "stream",
     "text": [
      "Coluna: NU_NOTA_LC, Valores nulos: 7306522\n"
     ]
    },
    {
     "name": "stderr",
     "output_type": "stream",
     "text": [
      "                                                                                \r"
     ]
    },
    {
     "name": "stdout",
     "output_type": "stream",
     "text": [
      "Coluna: NU_NOTA_MT, Valores nulos: 8076731\n"
     ]
    },
    {
     "name": "stderr",
     "output_type": "stream",
     "text": [
      "                                                                                \r"
     ]
    },
    {
     "name": "stdout",
     "output_type": "stream",
     "text": [
      "Coluna: TX_RESPOSTAS_CN, Valores nulos: 8076731\n"
     ]
    },
    {
     "name": "stderr",
     "output_type": "stream",
     "text": [
      "                                                                                \r"
     ]
    },
    {
     "name": "stdout",
     "output_type": "stream",
     "text": [
      "Coluna: TX_RESPOSTAS_CH, Valores nulos: 7306522\n"
     ]
    },
    {
     "name": "stderr",
     "output_type": "stream",
     "text": [
      "                                                                                \r"
     ]
    },
    {
     "name": "stdout",
     "output_type": "stream",
     "text": [
      "Coluna: TX_RESPOSTAS_LC, Valores nulos: 7306522\n"
     ]
    },
    {
     "name": "stderr",
     "output_type": "stream",
     "text": [
      "                                                                                \r"
     ]
    },
    {
     "name": "stdout",
     "output_type": "stream",
     "text": [
      "Coluna: TX_RESPOSTAS_MT, Valores nulos: 8076731\n"
     ]
    },
    {
     "name": "stderr",
     "output_type": "stream",
     "text": [
      "                                                                                \r"
     ]
    },
    {
     "name": "stdout",
     "output_type": "stream",
     "text": [
      "Coluna: TP_LINGUA, Valores nulos: 0\n"
     ]
    },
    {
     "name": "stderr",
     "output_type": "stream",
     "text": [
      "                                                                                \r"
     ]
    },
    {
     "name": "stdout",
     "output_type": "stream",
     "text": [
      "Coluna: TX_GABARITO_CN, Valores nulos: 8076731\n"
     ]
    },
    {
     "name": "stderr",
     "output_type": "stream",
     "text": [
      "                                                                                \r"
     ]
    },
    {
     "name": "stdout",
     "output_type": "stream",
     "text": [
      "Coluna: TX_GABARITO_CH, Valores nulos: 7306522\n"
     ]
    },
    {
     "name": "stderr",
     "output_type": "stream",
     "text": [
      "                                                                                \r"
     ]
    },
    {
     "name": "stdout",
     "output_type": "stream",
     "text": [
      "Coluna: TX_GABARITO_LC, Valores nulos: 7306522\n"
     ]
    },
    {
     "name": "stderr",
     "output_type": "stream",
     "text": [
      "                                                                                \r"
     ]
    },
    {
     "name": "stdout",
     "output_type": "stream",
     "text": [
      "Coluna: TX_GABARITO_MT, Valores nulos: 8076731\n"
     ]
    },
    {
     "name": "stderr",
     "output_type": "stream",
     "text": [
      "                                                                                \r"
     ]
    },
    {
     "name": "stdout",
     "output_type": "stream",
     "text": [
      "Coluna: TP_STATUS_REDACAO, Valores nulos: 7306523\n"
     ]
    },
    {
     "name": "stderr",
     "output_type": "stream",
     "text": [
      "                                                                                \r"
     ]
    },
    {
     "name": "stdout",
     "output_type": "stream",
     "text": [
      "Coluna: NU_NOTA_COMP1, Valores nulos: 7306523\n"
     ]
    },
    {
     "name": "stderr",
     "output_type": "stream",
     "text": [
      "                                                                                \r"
     ]
    },
    {
     "name": "stdout",
     "output_type": "stream",
     "text": [
      "Coluna: NU_NOTA_COMP2, Valores nulos: 7306523\n"
     ]
    },
    {
     "name": "stderr",
     "output_type": "stream",
     "text": [
      "                                                                                \r"
     ]
    },
    {
     "name": "stdout",
     "output_type": "stream",
     "text": [
      "Coluna: NU_NOTA_COMP3, Valores nulos: 7306523\n"
     ]
    },
    {
     "name": "stderr",
     "output_type": "stream",
     "text": [
      "                                                                                \r"
     ]
    },
    {
     "name": "stdout",
     "output_type": "stream",
     "text": [
      "Coluna: NU_NOTA_COMP4, Valores nulos: 7306523\n"
     ]
    },
    {
     "name": "stderr",
     "output_type": "stream",
     "text": [
      "                                                                                \r"
     ]
    },
    {
     "name": "stdout",
     "output_type": "stream",
     "text": [
      "Coluna: NU_NOTA_COMP5, Valores nulos: 7306523\n"
     ]
    },
    {
     "name": "stderr",
     "output_type": "stream",
     "text": [
      "                                                                                \r"
     ]
    },
    {
     "name": "stdout",
     "output_type": "stream",
     "text": [
      "Coluna: NU_NOTA_REDACAO, Valores nulos: 7306523\n"
     ]
    },
    {
     "name": "stderr",
     "output_type": "stream",
     "text": [
      "                                                                                \r"
     ]
    },
    {
     "name": "stdout",
     "output_type": "stream",
     "text": [
      "Coluna: Q001, Valores nulos: 95968\n"
     ]
    },
    {
     "name": "stderr",
     "output_type": "stream",
     "text": [
      "                                                                                \r"
     ]
    },
    {
     "name": "stdout",
     "output_type": "stream",
     "text": [
      "Coluna: Q002, Valores nulos: 95968\n"
     ]
    },
    {
     "name": "stderr",
     "output_type": "stream",
     "text": [
      "                                                                                \r"
     ]
    },
    {
     "name": "stdout",
     "output_type": "stream",
     "text": [
      "Coluna: Q003, Valores nulos: 95968\n"
     ]
    },
    {
     "name": "stderr",
     "output_type": "stream",
     "text": [
      "                                                                                \r"
     ]
    },
    {
     "name": "stdout",
     "output_type": "stream",
     "text": [
      "Coluna: Q004, Valores nulos: 95968\n"
     ]
    },
    {
     "name": "stderr",
     "output_type": "stream",
     "text": [
      "                                                                                \r"
     ]
    },
    {
     "name": "stdout",
     "output_type": "stream",
     "text": [
      "Coluna: Q005, Valores nulos: 95968\n"
     ]
    },
    {
     "name": "stderr",
     "output_type": "stream",
     "text": [
      "                                                                                \r"
     ]
    },
    {
     "name": "stdout",
     "output_type": "stream",
     "text": [
      "Coluna: Q006, Valores nulos: 95968\n"
     ]
    },
    {
     "name": "stderr",
     "output_type": "stream",
     "text": [
      "                                                                                \r"
     ]
    },
    {
     "name": "stdout",
     "output_type": "stream",
     "text": [
      "Coluna: Q007, Valores nulos: 95968\n"
     ]
    },
    {
     "name": "stderr",
     "output_type": "stream",
     "text": [
      "                                                                                \r"
     ]
    },
    {
     "name": "stdout",
     "output_type": "stream",
     "text": [
      "Coluna: Q008, Valores nulos: 95968\n"
     ]
    },
    {
     "name": "stderr",
     "output_type": "stream",
     "text": [
      "                                                                                \r"
     ]
    },
    {
     "name": "stdout",
     "output_type": "stream",
     "text": [
      "Coluna: Q009, Valores nulos: 95968\n"
     ]
    },
    {
     "name": "stderr",
     "output_type": "stream",
     "text": [
      "                                                                                \r"
     ]
    },
    {
     "name": "stdout",
     "output_type": "stream",
     "text": [
      "Coluna: Q010, Valores nulos: 95968\n"
     ]
    },
    {
     "name": "stderr",
     "output_type": "stream",
     "text": [
      "                                                                                \r"
     ]
    },
    {
     "name": "stdout",
     "output_type": "stream",
     "text": [
      "Coluna: Q011, Valores nulos: 95968\n"
     ]
    },
    {
     "name": "stderr",
     "output_type": "stream",
     "text": [
      "                                                                                \r"
     ]
    },
    {
     "name": "stdout",
     "output_type": "stream",
     "text": [
      "Coluna: Q012, Valores nulos: 95968\n"
     ]
    },
    {
     "name": "stderr",
     "output_type": "stream",
     "text": [
      "                                                                                \r"
     ]
    },
    {
     "name": "stdout",
     "output_type": "stream",
     "text": [
      "Coluna: Q013, Valores nulos: 95968\n"
     ]
    },
    {
     "name": "stderr",
     "output_type": "stream",
     "text": [
      "[Stage 397:======================================================>(71 + 1) / 72]\r"
     ]
    },
    {
     "name": "stdout",
     "output_type": "stream",
     "text": [
      "Coluna: Q014, Valores nulos: 95968\n"
     ]
    },
    {
     "name": "stderr",
     "output_type": "stream",
     "text": [
      "                                                                                \r"
     ]
    },
    {
     "name": "stdout",
     "output_type": "stream",
     "text": [
      "Coluna: Q015, Valores nulos: 95968\n"
     ]
    },
    {
     "name": "stderr",
     "output_type": "stream",
     "text": [
      "                                                                                \r"
     ]
    },
    {
     "name": "stdout",
     "output_type": "stream",
     "text": [
      "Coluna: Q016, Valores nulos: 95968\n"
     ]
    },
    {
     "name": "stderr",
     "output_type": "stream",
     "text": [
      "                                                                                \r"
     ]
    },
    {
     "name": "stdout",
     "output_type": "stream",
     "text": [
      "Coluna: Q017, Valores nulos: 95968\n"
     ]
    },
    {
     "name": "stderr",
     "output_type": "stream",
     "text": [
      "                                                                                \r"
     ]
    },
    {
     "name": "stdout",
     "output_type": "stream",
     "text": [
      "Coluna: Q018, Valores nulos: 95968\n"
     ]
    },
    {
     "name": "stderr",
     "output_type": "stream",
     "text": [
      "                                                                                \r"
     ]
    },
    {
     "name": "stdout",
     "output_type": "stream",
     "text": [
      "Coluna: Q019, Valores nulos: 95968\n"
     ]
    },
    {
     "name": "stderr",
     "output_type": "stream",
     "text": [
      "                                                                                \r"
     ]
    },
    {
     "name": "stdout",
     "output_type": "stream",
     "text": [
      "Coluna: Q020, Valores nulos: 95968\n"
     ]
    },
    {
     "name": "stderr",
     "output_type": "stream",
     "text": [
      "                                                                                \r"
     ]
    },
    {
     "name": "stdout",
     "output_type": "stream",
     "text": [
      "Coluna: Q021, Valores nulos: 95968\n"
     ]
    },
    {
     "name": "stderr",
     "output_type": "stream",
     "text": [
      "                                                                                \r"
     ]
    },
    {
     "name": "stdout",
     "output_type": "stream",
     "text": [
      "Coluna: Q022, Valores nulos: 95968\n"
     ]
    },
    {
     "name": "stderr",
     "output_type": "stream",
     "text": [
      "                                                                                \r"
     ]
    },
    {
     "name": "stdout",
     "output_type": "stream",
     "text": [
      "Coluna: Q023, Valores nulos: 95968\n"
     ]
    },
    {
     "name": "stderr",
     "output_type": "stream",
     "text": [
      "                                                                                \r"
     ]
    },
    {
     "name": "stdout",
     "output_type": "stream",
     "text": [
      "Coluna: Q024, Valores nulos: 95968\n"
     ]
    },
    {
     "name": "stderr",
     "output_type": "stream",
     "text": [
      "                                                                                \r"
     ]
    },
    {
     "name": "stdout",
     "output_type": "stream",
     "text": [
      "Coluna: Q025, Valores nulos: 95968\n"
     ]
    },
    {
     "name": "stderr",
     "output_type": "stream",
     "text": [
      "[Stage 435:>                                                        (0 + 1) / 1]\r"
     ]
    },
    {
     "name": "stdout",
     "output_type": "stream",
     "text": [
      "Coluna: ID, Valores nulos: 0\n"
     ]
    },
    {
     "name": "stderr",
     "output_type": "stream",
     "text": [
      "                                                                                \r"
     ]
    }
   ],
   "source": [
    "from pyspark.sql.functions import col, isnan, when, count\n",
    "\n",
    "def nulos_por_coluna(df):\n",
    "    \"\"\"\n",
    "    Função para iterar sobre todas as colunas e contar valores nulos.\n",
    "\n",
    "    Args:\n",
    "    - df (DataFrame): o Dataframe.\n",
    "\n",
    "    Prints:\n",
    "    - Nome da coluna e a quantidade de valores nulos.\n",
    "    \"\"\"\n",
    "    # iteração sobre as colunas\n",
    "    for column in df.columns:\n",
    "        # Contar valores nulos\n",
    "        null_count = df.select(\n",
    "            count(when(col(column).isNull() | isnan(column), 1)).alias(\"null_count\")\n",
    "        ).collect()[0][\"null_count\"]\n",
    "        \n",
    "        # Printar o resultado\n",
    "        print(f\"Coluna: {column}, Valores nulos: {null_count}\")\n",
    "\n",
    "# Chamar a função passando o DataFrame\n",
    "nulos_por_coluna(tabela_enem_silver)\n"
   ]
  },
  {
   "cell_type": "code",
   "execution_count": 15,
   "id": "21b82e0b-e26d-4e8d-9d31-4a6b0efa54f5",
   "metadata": {},
   "outputs": [],
   "source": [
    "\"\"\" \n",
    "    colunas numericas será substituido por '0'\n",
    "    colunas string será substituido por 'Desconhecido'\n",
    "\"\"\"\n",
    "tabela_enem_silver = tabela_enem_silver.fillna(0, subset=[\"CO_MUNICIPIO_ESC\", \"CO_UF_ESC\", \"NU_NOTA_CN\", \"NU_NOTA_CH\", \"NU_NOTA_LC\", \"NU_NOTA_MT\", \"NU_NOTA_COMP1\",\n",
    "                                              \"NU_NOTA_COMP2\", \"NU_NOTA_COMP3\", \"NU_NOTA_COMP4\", \"NU_NOTA_COMP5\", \"NU_NOTA_REDACAO\"])\n",
    "                                   \n",
    "tabela_enem_silver = tabela_enem_silver.fillna(\"Desconhecido\", subset=[\n",
    "    \"TP_DEPENDENCIA_ADM_ESC\", \"TP_ENSINO\", \"TP_LOCALIZACAO_ESC\", \"TP_SIT_FUNC_ESC\", \n",
    "    \"NO_MUNICIPIO_ESC\", \"SG_UF_ESC\", \"CO_PROVA_CN\", \"CO_PROVA_CH\", \"CO_PROVA_LC\", \n",
    "    \"CO_PROVA_MT\", \"TX_RESPOSTAS_CN\", \"TX_RESPOSTAS_CH\", \"TX_RESPOSTAS_LC\", \n",
    "    \"TX_RESPOSTAS_MT\", \"TX_GABARITO_CN\", \"TX_GABARITO_CH\", \"TX_GABARITO_LC\", \n",
    "    \"TX_GABARITO_MT\", \"TP_STATUS_REDACAO\", \"Q001\", \"Q002\", \"Q003\", \"Q004\", \"Q005\", \n",
    "    \"Q006\", \"Q007\", \"Q008\", \"Q009\", \"Q010\", \"Q011\", \"Q012\", \"Q013\", \"Q014\", \"Q015\", \n",
    "    \"Q016\", \"Q017\", \"Q018\", \"Q019\", \"Q020\", \"Q021\", \"Q022\", \"Q023\", \"Q024\", \"Q025\"\n",
    "])"
   ]
  },
  {
   "cell_type": "code",
   "execution_count": 16,
   "id": "bd3a019a-fccb-4189-ad76-c6c5978cc970",
   "metadata": {},
   "outputs": [],
   "source": [
    "verificar_nulos = [\n",
    "    \"CO_MUNICIPIO_ESC\", \"CO_UF_ESC\", \"NU_NOTA_CN\", \"NU_NOTA_CH\", \"NU_NOTA_LC\", \"NU_NOTA_MT\", \"NU_NOTA_COMP1\",\n",
    "      \"NU_NOTA_COMP2\", \"NU_NOTA_COMP3\", \"NU_NOTA_COMP4\", \"NU_NOTA_COMP5\", \"NU_NOTA_REDACAO\", \"TP_DEPENDENCIA_ADM_ESC\", \"TP_ENSINO\", \"TP_LOCALIZACAO_ESC\", \"TP_SIT_FUNC_ESC\", \n",
    "    \"NO_MUNICIPIO_ESC\", \"SG_UF_ESC\", \"CO_PROVA_CN\", \"CO_PROVA_CH\", \"CO_PROVA_LC\", \n",
    "    \"CO_PROVA_MT\", \"TX_RESPOSTAS_CN\", \"TX_RESPOSTAS_CH\", \"TX_RESPOSTAS_LC\", \n",
    "    \"TX_RESPOSTAS_MT\", \"TX_GABARITO_CN\", \"TX_GABARITO_CH\", \"TX_GABARITO_LC\", \n",
    "    \"TX_GABARITO_MT\", \"TP_STATUS_REDACAO\", \"Q001\", \"Q002\", \"Q003\", \"Q004\", \"Q005\", \n",
    "    \"Q006\", \"Q007\", \"Q008\", \"Q009\", \"Q010\", \"Q011\", \"Q012\", \"Q013\", \"Q014\", \"Q015\", \n",
    "    \"Q016\", \"Q017\", \"Q018\", \"Q019\", \"Q020\", \"Q021\", \"Q022\", \"Q023\", \"Q024\", \"Q025\"]"
   ]
  },
  {
   "cell_type": "code",
   "execution_count": 18,
   "id": "86f8205b-fd35-4fcb-843b-2d035866b386",
   "metadata": {},
   "outputs": [
    {
     "name": "stderr",
     "output_type": "stream",
     "text": [
      "                                                                                \r"
     ]
    },
    {
     "name": "stdout",
     "output_type": "stream",
     "text": [
      "Coluna: CO_MUNICIPIO_ESC, Valores nulos: 0\n"
     ]
    },
    {
     "name": "stderr",
     "output_type": "stream",
     "text": [
      "                                                                                \r"
     ]
    },
    {
     "name": "stdout",
     "output_type": "stream",
     "text": [
      "Coluna: CO_UF_ESC, Valores nulos: 0\n"
     ]
    },
    {
     "name": "stderr",
     "output_type": "stream",
     "text": [
      "                                                                                \r"
     ]
    },
    {
     "name": "stdout",
     "output_type": "stream",
     "text": [
      "Coluna: NU_NOTA_CN, Valores nulos: 0\n"
     ]
    },
    {
     "name": "stderr",
     "output_type": "stream",
     "text": [
      "                                                                                \r"
     ]
    },
    {
     "name": "stdout",
     "output_type": "stream",
     "text": [
      "Coluna: NU_NOTA_CH, Valores nulos: 0\n"
     ]
    },
    {
     "name": "stderr",
     "output_type": "stream",
     "text": [
      "                                                                                \r"
     ]
    },
    {
     "name": "stdout",
     "output_type": "stream",
     "text": [
      "Coluna: NU_NOTA_LC, Valores nulos: 0\n"
     ]
    },
    {
     "name": "stderr",
     "output_type": "stream",
     "text": [
      "                                                                                \r"
     ]
    },
    {
     "name": "stdout",
     "output_type": "stream",
     "text": [
      "Coluna: NU_NOTA_MT, Valores nulos: 0\n"
     ]
    },
    {
     "name": "stderr",
     "output_type": "stream",
     "text": [
      "                                                                                \r"
     ]
    },
    {
     "name": "stdout",
     "output_type": "stream",
     "text": [
      "Coluna: NU_NOTA_COMP1, Valores nulos: 0\n"
     ]
    },
    {
     "name": "stderr",
     "output_type": "stream",
     "text": [
      "                                                                                \r"
     ]
    },
    {
     "name": "stdout",
     "output_type": "stream",
     "text": [
      "Coluna: NU_NOTA_COMP2, Valores nulos: 0\n"
     ]
    },
    {
     "name": "stderr",
     "output_type": "stream",
     "text": [
      "                                                                                \r"
     ]
    },
    {
     "name": "stdout",
     "output_type": "stream",
     "text": [
      "Coluna: NU_NOTA_COMP3, Valores nulos: 0\n"
     ]
    },
    {
     "name": "stderr",
     "output_type": "stream",
     "text": [
      "                                                                                \r"
     ]
    },
    {
     "name": "stdout",
     "output_type": "stream",
     "text": [
      "Coluna: NU_NOTA_COMP4, Valores nulos: 0\n"
     ]
    },
    {
     "name": "stderr",
     "output_type": "stream",
     "text": [
      "                                                                                \r"
     ]
    },
    {
     "name": "stdout",
     "output_type": "stream",
     "text": [
      "Coluna: NU_NOTA_COMP5, Valores nulos: 0\n"
     ]
    },
    {
     "name": "stderr",
     "output_type": "stream",
     "text": [
      "                                                                                \r"
     ]
    },
    {
     "name": "stdout",
     "output_type": "stream",
     "text": [
      "Coluna: NU_NOTA_REDACAO, Valores nulos: 0\n"
     ]
    },
    {
     "name": "stderr",
     "output_type": "stream",
     "text": [
      "                                                                                \r"
     ]
    },
    {
     "name": "stdout",
     "output_type": "stream",
     "text": [
      "Coluna: TP_DEPENDENCIA_ADM_ESC, Valores nulos: 0\n"
     ]
    },
    {
     "name": "stderr",
     "output_type": "stream",
     "text": [
      "                                                                                \r"
     ]
    },
    {
     "name": "stdout",
     "output_type": "stream",
     "text": [
      "Coluna: TP_ENSINO, Valores nulos: 0\n"
     ]
    },
    {
     "name": "stderr",
     "output_type": "stream",
     "text": [
      "                                                                                \r"
     ]
    },
    {
     "name": "stdout",
     "output_type": "stream",
     "text": [
      "Coluna: TP_LOCALIZACAO_ESC, Valores nulos: 0\n"
     ]
    },
    {
     "name": "stderr",
     "output_type": "stream",
     "text": [
      "                                                                                \r"
     ]
    },
    {
     "name": "stdout",
     "output_type": "stream",
     "text": [
      "Coluna: TP_SIT_FUNC_ESC, Valores nulos: 0\n"
     ]
    },
    {
     "name": "stderr",
     "output_type": "stream",
     "text": [
      "                                                                                \r"
     ]
    },
    {
     "name": "stdout",
     "output_type": "stream",
     "text": [
      "Coluna: NO_MUNICIPIO_ESC, Valores nulos: 0\n"
     ]
    },
    {
     "name": "stderr",
     "output_type": "stream",
     "text": [
      "                                                                                \r"
     ]
    },
    {
     "name": "stdout",
     "output_type": "stream",
     "text": [
      "Coluna: SG_UF_ESC, Valores nulos: 0\n"
     ]
    },
    {
     "name": "stderr",
     "output_type": "stream",
     "text": [
      "                                                                                \r"
     ]
    },
    {
     "name": "stdout",
     "output_type": "stream",
     "text": [
      "Coluna: CO_PROVA_CN, Valores nulos: 0\n"
     ]
    },
    {
     "name": "stderr",
     "output_type": "stream",
     "text": [
      "                                                                                \r"
     ]
    },
    {
     "name": "stdout",
     "output_type": "stream",
     "text": [
      "Coluna: CO_PROVA_CH, Valores nulos: 0\n"
     ]
    },
    {
     "name": "stderr",
     "output_type": "stream",
     "text": [
      "                                                                                \r"
     ]
    },
    {
     "name": "stdout",
     "output_type": "stream",
     "text": [
      "Coluna: CO_PROVA_LC, Valores nulos: 0\n"
     ]
    },
    {
     "name": "stderr",
     "output_type": "stream",
     "text": [
      "                                                                                \r"
     ]
    },
    {
     "name": "stdout",
     "output_type": "stream",
     "text": [
      "Coluna: CO_PROVA_MT, Valores nulos: 0\n"
     ]
    },
    {
     "name": "stderr",
     "output_type": "stream",
     "text": [
      "                                                                                \r"
     ]
    },
    {
     "name": "stdout",
     "output_type": "stream",
     "text": [
      "Coluna: TX_RESPOSTAS_CN, Valores nulos: 0\n"
     ]
    },
    {
     "name": "stderr",
     "output_type": "stream",
     "text": [
      "                                                                                \r"
     ]
    },
    {
     "name": "stdout",
     "output_type": "stream",
     "text": [
      "Coluna: TX_RESPOSTAS_CH, Valores nulos: 0\n"
     ]
    },
    {
     "name": "stderr",
     "output_type": "stream",
     "text": [
      "                                                                                \r"
     ]
    },
    {
     "name": "stdout",
     "output_type": "stream",
     "text": [
      "Coluna: TX_RESPOSTAS_LC, Valores nulos: 0\n"
     ]
    },
    {
     "name": "stderr",
     "output_type": "stream",
     "text": [
      "                                                                                \r"
     ]
    },
    {
     "name": "stdout",
     "output_type": "stream",
     "text": [
      "Coluna: TX_RESPOSTAS_MT, Valores nulos: 0\n"
     ]
    },
    {
     "name": "stderr",
     "output_type": "stream",
     "text": [
      "                                                                                \r"
     ]
    },
    {
     "name": "stdout",
     "output_type": "stream",
     "text": [
      "Coluna: TX_GABARITO_CN, Valores nulos: 0\n"
     ]
    },
    {
     "name": "stderr",
     "output_type": "stream",
     "text": [
      "                                                                                \r"
     ]
    },
    {
     "name": "stdout",
     "output_type": "stream",
     "text": [
      "Coluna: TX_GABARITO_CH, Valores nulos: 0\n"
     ]
    },
    {
     "name": "stderr",
     "output_type": "stream",
     "text": [
      "                                                                                \r"
     ]
    },
    {
     "name": "stdout",
     "output_type": "stream",
     "text": [
      "Coluna: TX_GABARITO_LC, Valores nulos: 0\n"
     ]
    },
    {
     "name": "stderr",
     "output_type": "stream",
     "text": [
      "                                                                                \r"
     ]
    },
    {
     "name": "stdout",
     "output_type": "stream",
     "text": [
      "Coluna: TX_GABARITO_MT, Valores nulos: 0\n"
     ]
    },
    {
     "name": "stderr",
     "output_type": "stream",
     "text": [
      "                                                                                \r"
     ]
    },
    {
     "name": "stdout",
     "output_type": "stream",
     "text": [
      "Coluna: TP_STATUS_REDACAO, Valores nulos: 0\n"
     ]
    },
    {
     "name": "stderr",
     "output_type": "stream",
     "text": [
      "                                                                                \r"
     ]
    },
    {
     "name": "stdout",
     "output_type": "stream",
     "text": [
      "Coluna: Q001, Valores nulos: 0\n"
     ]
    },
    {
     "name": "stderr",
     "output_type": "stream",
     "text": [
      "                                                                                \r"
     ]
    },
    {
     "name": "stdout",
     "output_type": "stream",
     "text": [
      "Coluna: Q002, Valores nulos: 0\n"
     ]
    },
    {
     "name": "stderr",
     "output_type": "stream",
     "text": [
      "                                                                                \r"
     ]
    },
    {
     "name": "stdout",
     "output_type": "stream",
     "text": [
      "Coluna: Q003, Valores nulos: 0\n"
     ]
    },
    {
     "name": "stderr",
     "output_type": "stream",
     "text": [
      "                                                                                \r"
     ]
    },
    {
     "name": "stdout",
     "output_type": "stream",
     "text": [
      "Coluna: Q004, Valores nulos: 0\n"
     ]
    },
    {
     "name": "stderr",
     "output_type": "stream",
     "text": [
      "                                                                                \r"
     ]
    },
    {
     "name": "stdout",
     "output_type": "stream",
     "text": [
      "Coluna: Q005, Valores nulos: 0\n"
     ]
    },
    {
     "name": "stderr",
     "output_type": "stream",
     "text": [
      "                                                                                \r"
     ]
    },
    {
     "name": "stdout",
     "output_type": "stream",
     "text": [
      "Coluna: Q006, Valores nulos: 0\n"
     ]
    },
    {
     "name": "stderr",
     "output_type": "stream",
     "text": [
      "                                                                                \r"
     ]
    },
    {
     "name": "stdout",
     "output_type": "stream",
     "text": [
      "Coluna: Q007, Valores nulos: 0\n"
     ]
    },
    {
     "name": "stderr",
     "output_type": "stream",
     "text": [
      "                                                                                \r"
     ]
    },
    {
     "name": "stdout",
     "output_type": "stream",
     "text": [
      "Coluna: Q008, Valores nulos: 0\n"
     ]
    },
    {
     "name": "stderr",
     "output_type": "stream",
     "text": [
      "                                                                                \r"
     ]
    },
    {
     "name": "stdout",
     "output_type": "stream",
     "text": [
      "Coluna: Q009, Valores nulos: 0\n"
     ]
    },
    {
     "name": "stderr",
     "output_type": "stream",
     "text": [
      "                                                                                \r"
     ]
    },
    {
     "name": "stdout",
     "output_type": "stream",
     "text": [
      "Coluna: Q010, Valores nulos: 0\n"
     ]
    },
    {
     "name": "stderr",
     "output_type": "stream",
     "text": [
      "                                                                                \r"
     ]
    },
    {
     "name": "stdout",
     "output_type": "stream",
     "text": [
      "Coluna: Q011, Valores nulos: 0\n"
     ]
    },
    {
     "name": "stderr",
     "output_type": "stream",
     "text": [
      "                                                                                \r"
     ]
    },
    {
     "name": "stdout",
     "output_type": "stream",
     "text": [
      "Coluna: Q012, Valores nulos: 0\n"
     ]
    },
    {
     "name": "stderr",
     "output_type": "stream",
     "text": [
      "                                                                                \r"
     ]
    },
    {
     "name": "stdout",
     "output_type": "stream",
     "text": [
      "Coluna: Q013, Valores nulos: 0\n"
     ]
    },
    {
     "name": "stderr",
     "output_type": "stream",
     "text": [
      "                                                                                \r"
     ]
    },
    {
     "name": "stdout",
     "output_type": "stream",
     "text": [
      "Coluna: Q014, Valores nulos: 0\n"
     ]
    },
    {
     "name": "stderr",
     "output_type": "stream",
     "text": [
      "                                                                                \r"
     ]
    },
    {
     "name": "stdout",
     "output_type": "stream",
     "text": [
      "Coluna: Q015, Valores nulos: 0\n"
     ]
    },
    {
     "name": "stderr",
     "output_type": "stream",
     "text": [
      "                                                                                \r"
     ]
    },
    {
     "name": "stdout",
     "output_type": "stream",
     "text": [
      "Coluna: Q016, Valores nulos: 0\n"
     ]
    },
    {
     "name": "stderr",
     "output_type": "stream",
     "text": [
      "                                                                                \r"
     ]
    },
    {
     "name": "stdout",
     "output_type": "stream",
     "text": [
      "Coluna: Q017, Valores nulos: 0\n"
     ]
    },
    {
     "name": "stderr",
     "output_type": "stream",
     "text": [
      "                                                                                \r"
     ]
    },
    {
     "name": "stdout",
     "output_type": "stream",
     "text": [
      "Coluna: Q018, Valores nulos: 0\n"
     ]
    },
    {
     "name": "stderr",
     "output_type": "stream",
     "text": [
      "                                                                                \r"
     ]
    },
    {
     "name": "stdout",
     "output_type": "stream",
     "text": [
      "Coluna: Q019, Valores nulos: 0\n"
     ]
    },
    {
     "name": "stderr",
     "output_type": "stream",
     "text": [
      "                                                                                \r"
     ]
    },
    {
     "name": "stdout",
     "output_type": "stream",
     "text": [
      "Coluna: Q020, Valores nulos: 0\n"
     ]
    },
    {
     "name": "stderr",
     "output_type": "stream",
     "text": [
      "                                                                                \r"
     ]
    },
    {
     "name": "stdout",
     "output_type": "stream",
     "text": [
      "Coluna: Q021, Valores nulos: 0\n"
     ]
    },
    {
     "name": "stderr",
     "output_type": "stream",
     "text": [
      "                                                                                \r"
     ]
    },
    {
     "name": "stdout",
     "output_type": "stream",
     "text": [
      "Coluna: Q022, Valores nulos: 0\n"
     ]
    },
    {
     "name": "stderr",
     "output_type": "stream",
     "text": [
      "                                                                                \r"
     ]
    },
    {
     "name": "stdout",
     "output_type": "stream",
     "text": [
      "Coluna: Q023, Valores nulos: 0\n"
     ]
    },
    {
     "name": "stderr",
     "output_type": "stream",
     "text": [
      "                                                                                \r"
     ]
    },
    {
     "name": "stdout",
     "output_type": "stream",
     "text": [
      "Coluna: Q024, Valores nulos: 0\n"
     ]
    },
    {
     "name": "stderr",
     "output_type": "stream",
     "text": [
      "[Stage 601:=====================================================> (70 + 2) / 72]\r"
     ]
    },
    {
     "name": "stdout",
     "output_type": "stream",
     "text": [
      "Coluna: Q025, Valores nulos: 0\n"
     ]
    },
    {
     "name": "stderr",
     "output_type": "stream",
     "text": [
      "                                                                                \r"
     ]
    }
   ],
   "source": [
    "def nulos_por_coluna(df, verificar_nulos):\n",
    "    \"\"\"\n",
    "    Função para iterar sobre todas as colunas e contar valores nulos.\n",
    "\n",
    "    Args:\n",
    "    - df (DataFrame): o Dataframe.\n",
    "    - verificar nulos (list): Lista de nomes que irá vericar os null values\n",
    "    Prints:\n",
    "    - Nome da coluna e a quantidade de valores nulos.\n",
    "    \"\"\"\n",
    "    # iteração sobre as colunas\n",
    "    for column in verificar_nulos:\n",
    "        # Contar valores nulos\n",
    "        null_count = df.select(\n",
    "            count(when(col(column).isNull() | isnan(column), 1)).alias(\"null_count\")\n",
    "        ).collect()[0][\"null_count\"]\n",
    "        \n",
    "        # Printar o resultado\n",
    "        print(f\"Coluna: {column}, Valores nulos: {null_count}\")\n",
    "\n",
    "# Chamar a função passando o DataFrame\n",
    "nulos_por_coluna(tabela_enem_silver, verificar_nulos)\n"
   ]
  },
  {
   "cell_type": "code",
   "execution_count": 19,
   "id": "ae002d3f-f372-4dc6-b03d-ff2b2c1deb40",
   "metadata": {},
   "outputs": [
    {
     "data": {
      "text/plain": [
       "DataFrame[]"
      ]
     },
     "execution_count": 19,
     "metadata": {},
     "output_type": "execute_result"
    }
   ],
   "source": [
    "spark.sql(\"\"\"\n",
    "CREATE NAMESPACE IF NOT EXISTS nessie.silver\n",
    "\"\"\")"
   ]
  },
  {
   "cell_type": "code",
   "execution_count": 20,
   "id": "f3b9c407-9df1-49a9-979a-5518e8313d23",
   "metadata": {},
   "outputs": [
    {
     "data": {
      "text/plain": [
       "DataFrame[]"
      ]
     },
     "execution_count": 20,
     "metadata": {},
     "output_type": "execute_result"
    }
   ],
   "source": [
    "spark.sql(\"\"\"\n",
    "CREATE OR REPLACE TABLE nessie.silver.tabela_enem_silver (\n",
    "    NU_INSCRICAO STRING,\n",
    "    NU_ANO INT,\n",
    "    TP_FAIXA_ETARIA STRING,\n",
    "    TP_SEXO STRING,\n",
    "    TP_ESTADO_CIVIL STRING,\n",
    "    TP_COR_RACA STRING,\n",
    "    TP_NACIONALIDADE STRING,\n",
    "    TP_ST_CONCLUSAO STRING,\n",
    "    TP_ANO_CONCLUIU STRING,\n",
    "    TP_ESCOLA STRING,\n",
    "    TP_ENSINO STRING,\n",
    "    IN_TREINEIRO STRING,\n",
    "    CO_MUNICIPIO_ESC INT,\n",
    "    NO_MUNICIPIO_ESC STRING,\n",
    "    CO_UF_ESC INT,\n",
    "    SG_UF_ESC STRING,\n",
    "    TP_DEPENDENCIA_ADM_ESC STRING,\n",
    "    TP_LOCALIZACAO_ESC STRING,\n",
    "    TP_SIT_FUNC_ESC STRING,\n",
    "    CO_MUNICIPIO_PROVA INT,\n",
    "    NO_MUNICIPIO_PROVA STRING,\n",
    "    CO_UF_PROVA INT,\n",
    "    SG_UF_PROVA STRING,\n",
    "    TP_PRESENCA_CN STRING,\n",
    "    TP_PRESENCA_CH STRING,\n",
    "    TP_PRESENCA_LC STRING,\n",
    "    TP_PRESENCA_MT STRING,\n",
    "    CO_PROVA_CN STRING,\n",
    "    CO_PROVA_CH STRING,\n",
    "    CO_PROVA_LC STRING,\n",
    "    CO_PROVA_MT STRING,\n",
    "    NU_NOTA_CN DOUBLE,\n",
    "    NU_NOTA_CH DOUBLE,\n",
    "    NU_NOTA_LC DOUBLE,\n",
    "    NU_NOTA_MT DOUBLE,\n",
    "    TX_RESPOSTAS_CN STRING,\n",
    "    TX_RESPOSTAS_CH STRING,\n",
    "    TX_RESPOSTAS_LC STRING,\n",
    "    TX_RESPOSTAS_MT STRING,\n",
    "    TP_LINGUA STRING,\n",
    "    TX_GABARITO_CN STRING,\n",
    "    TX_GABARITO_CH STRING,\n",
    "    TX_GABARITO_LC STRING,\n",
    "    TX_GABARITO_MT STRING,\n",
    "    TP_STATUS_REDACAO STRING,\n",
    "    NU_NOTA_COMP1 DOUBLE,\n",
    "    NU_NOTA_COMP2 DOUBLE,\n",
    "    NU_NOTA_COMP3 DOUBLE,\n",
    "    NU_NOTA_COMP4 DOUBLE,\n",
    "    NU_NOTA_COMP5 DOUBLE,\n",
    "    NU_NOTA_REDACAO DOUBLE,\n",
    "    Q001 STRING,\n",
    "    Q002 STRING,\n",
    "    Q003 STRING,\n",
    "    Q004 STRING,\n",
    "    Q005 STRING,\n",
    "    Q006 STRING,\n",
    "    Q007 STRING,\n",
    "    Q008 STRING,\n",
    "    Q009 STRING,\n",
    "    Q010 STRING,\n",
    "    Q011 STRING,\n",
    "    Q012 STRING,\n",
    "    Q013 STRING,\n",
    "    Q014 STRING,\n",
    "    Q015 STRING,\n",
    "    Q016 STRING,\n",
    "    Q017 STRING,\n",
    "    Q018 STRING,\n",
    "    Q019 STRING,\n",
    "    Q020 STRING,\n",
    "    Q021 STRING,\n",
    "    Q022 STRING,\n",
    "    Q023 STRING,\n",
    "    Q024 STRING,\n",
    "    Q025 STRING,\n",
    "    ID INT\n",
    ")\n",
    "USING iceberg\n",
    "PARTITIONED BY (NU_ANO)\n",
    "LOCATION 's3a://silver/tabela_enem_silver/'\n",
    "\"\"\")"
   ]
  },
  {
   "cell_type": "code",
   "execution_count": 21,
   "id": "4e035f20-70bc-4130-971c-84b1b4b03ce8",
   "metadata": {},
   "outputs": [
    {
     "name": "stderr",
     "output_type": "stream",
     "text": [
      "                                                                                \r"
     ]
    }
   ],
   "source": [
    "tabela_enem_silver.write.format(\"iceberg\").mode(\"overwrite\").saveAsTable(\"nessie.silver.tabela_enem_silver\")"
   ]
  },
  {
   "cell_type": "code",
   "execution_count": 22,
   "id": "d8c33549-c394-43b5-a565-c73a6d64233b",
   "metadata": {},
   "outputs": [
    {
     "name": "stderr",
     "output_type": "stream",
     "text": [
      "[Stage 607:>                                                        (0 + 1) / 1]\r"
     ]
    },
    {
     "name": "stdout",
     "output_type": "stream",
     "text": [
      "+--------+\n",
      "|count(1)|\n",
      "+--------+\n",
      "|21678172|\n",
      "+--------+\n",
      "\n"
     ]
    },
    {
     "name": "stderr",
     "output_type": "stream",
     "text": [
      "                                                                                \r"
     ]
    }
   ],
   "source": [
    "spark.sql(\"\"\" SELECT COUNT(*) FROM nessie.silver.tabela_enem_silver\"\"\").show()"
   ]
  },
  {
   "cell_type": "code",
   "execution_count": 23,
   "id": "7e7d61b9-a046-4b1c-883c-da37acadec4a",
   "metadata": {},
   "outputs": [
    {
     "name": "stdout",
     "output_type": "stream",
     "text": [
      "+------------+------+---------------+-------+---------------+-----------+----------------+---------------+---------------+---------+------------+------------+\n",
      "|NU_INSCRICAO|NU_ANO|TP_FAIXA_ETARIA|TP_SEXO|TP_ESTADO_CIVIL|TP_COR_RACA|TP_NACIONALIDADE|TP_ST_CONCLUSAO|TP_ANO_CONCLUIU|TP_ESCOLA|   TP_ENSINO|IN_TREINEIRO|\n",
      "+------------+------+---------------+-------+---------------+-----------+----------------+---------------+---------------+---------+------------+------------+\n",
      "|     4583466|  2019|             11|      F|              1|          1|               1|              1|             11|        1|           1|           0|\n",
      "|     4583467|  2019|              9|      F|              1|          2|               1|              1|              6|        1|           1|           0|\n",
      "|     4583468|  2019|              7|      F|              1|          3|               1|              1|              5|        1|Desconhecido|           0|\n",
      "|     4583469|  2019|             14|      F|              2|          1|               1|              1|             13|        1|Desconhecido|           0|\n",
      "|     4583470|  2019|              1|      F|              1|          1|               1|              3|              0|        1|Desconhecido|           1|\n",
      "|     4583471|  2019|              1|      F|              1|          3|               1|              3|              0|        1|Desconhecido|           1|\n",
      "|     4583472|  2019|             14|      F|              1|          1|               1|              1|             13|        1|Desconhecido|           0|\n",
      "|     4583473|  2019|              5|      M|              1|          2|               1|              1|              4|        1|           1|           0|\n",
      "|     4583474|  2019|             11|      F|              1|          2|               1|              1|              9|        1|           1|           0|\n",
      "|     4583475|  2019|             15|      M|              0|          3|               1|              1|             12|        1|Desconhecido|           0|\n",
      "|     4583476|  2019|              8|      F|              1|          1|               1|              1|              6|        1|Desconhecido|           0|\n",
      "|     4583477|  2019|             10|      F|              1|          2|               1|              1|              8|        1|           1|           0|\n",
      "|     4583478|  2019|             14|      F|              1|          3|               1|              1|             13|        1|           1|           0|\n",
      "|     4583479|  2019|              4|      F|              1|          2|               1|              1|              2|        1|Desconhecido|           0|\n",
      "|     4583480|  2019|              6|      F|              0|          3|               1|              1|              0|        1|Desconhecido|           0|\n",
      "|     4583481|  2019|              6|      M|              1|          3|               1|              1|              4|        1|           1|           0|\n",
      "|     4583482|  2019|             13|      F|              1|          3|               1|              1|             13|        1|           1|           0|\n",
      "|     4583483|  2019|              3|      F|              1|          2|               1|              1|              1|        1|           1|           0|\n",
      "|     4583484|  2019|              3|      M|              1|          3|               1|              2|              0|        2|Desconhecido|           0|\n",
      "|     4583485|  2019|              6|      M|              1|          3|               1|              1|              0|        1|Desconhecido|           0|\n",
      "+------------+------+---------------+-------+---------------+-----------+----------------+---------------+---------------+---------+------------+------------+\n",
      "only showing top 20 rows\n",
      "\n"
     ]
    }
   ],
   "source": [
    "spark.sql(\"\"\" SELECT\n",
    "    ID\n",
    "    NU_INSCRICAO,\n",
    "    NU_ANO,\n",
    "    TP_FAIXA_ETARIA,\n",
    "    TP_SEXO,\n",
    "    TP_ESTADO_CIVIL,\n",
    "    TP_COR_RACA,\n",
    "    TP_NACIONALIDADE,\n",
    "    TP_ST_CONCLUSAO,\n",
    "    TP_ANO_CONCLUIU,\n",
    "    TP_ESCOLA,\n",
    "    TP_ENSINO,\n",
    "    IN_TREINEIRO\n",
    "    FROM nessie.silver.tabela_enem_silver\"\"\").show(20)"
   ]
  },
  {
   "cell_type": "code",
   "execution_count": 25,
   "id": "7410be31-d29b-46b0-b69a-aec0b689c084",
   "metadata": {},
   "outputs": [],
   "source": [
    "spark.stop()"
   ]
  }
 ],
 "metadata": {
  "kernelspec": {
   "display_name": "Python 3 (ipykernel)",
   "language": "python",
   "name": "python3"
  },
  "language_info": {
   "codemirror_mode": {
    "name": "ipython",
    "version": 3
   },
   "file_extension": ".py",
   "mimetype": "text/x-python",
   "name": "python",
   "nbconvert_exporter": "python",
   "pygments_lexer": "ipython3",
   "version": "3.12.7"
  }
 },
 "nbformat": 4,
 "nbformat_minor": 5
}
