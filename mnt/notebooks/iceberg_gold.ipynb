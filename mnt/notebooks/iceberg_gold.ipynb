{
 "cells": [
  {
   "cell_type": "code",
   "execution_count": 1,
   "id": "67a69636-6cee-4795-bf69-079ce4907820",
   "metadata": {},
   "outputs": [
    {
     "name": "stdout",
     "output_type": "stream",
     "text": [
      ":: loading settings :: url = jar:file:/opt/bitnami/spark/jars/ivy-2.5.1.jar!/org/apache/ivy/core/settings/ivysettings.xml\n"
     ]
    },
    {
     "name": "stderr",
     "output_type": "stream",
     "text": [
      "Ivy Default Cache set to: /root/.ivy2/cache\n",
      "The jars for the packages stored in: /root/.ivy2/jars\n",
      "org.apache.iceberg#iceberg-spark-runtime-3.5_2.12 added as a dependency\n",
      "org.projectnessie.nessie-integrations#nessie-spark-extensions-3.5_2.12 added as a dependency\n",
      "org.apache.iceberg#iceberg-aws-bundle added as a dependency\n",
      ":: resolving dependencies :: org.apache.spark#spark-submit-parent-10371fbe-5845-444a-86d5-21299f02aff3;1.0\n",
      "\tconfs: [default]\n",
      "\tfound org.apache.iceberg#iceberg-spark-runtime-3.5_2.12;1.6.1 in central\n",
      "\tfound org.projectnessie.nessie-integrations#nessie-spark-extensions-3.5_2.12;0.99.0 in central\n",
      "\tfound org.apache.iceberg#iceberg-aws-bundle;1.6.1 in central\n",
      ":: resolution report :: resolve 723ms :: artifacts dl 30ms\n",
      "\t:: modules in use:\n",
      "\torg.apache.iceberg#iceberg-aws-bundle;1.6.1 from central in [default]\n",
      "\torg.apache.iceberg#iceberg-spark-runtime-3.5_2.12;1.6.1 from central in [default]\n",
      "\torg.projectnessie.nessie-integrations#nessie-spark-extensions-3.5_2.12;0.99.0 from central in [default]\n",
      "\t---------------------------------------------------------------------\n",
      "\t|                  |            modules            ||   artifacts   |\n",
      "\t|       conf       | number| search|dwnlded|evicted|| number|dwnlded|\n",
      "\t---------------------------------------------------------------------\n",
      "\t|      default     |   3   |   0   |   0   |   0   ||   3   |   0   |\n",
      "\t---------------------------------------------------------------------\n",
      ":: retrieving :: org.apache.spark#spark-submit-parent-10371fbe-5845-444a-86d5-21299f02aff3\n",
      "\tconfs: [default]\n",
      "\t0 artifacts copied, 3 already retrieved (0kB/12ms)\n",
      "24/12/16 00:37:03 WARN NativeCodeLoader: Unable to load native-hadoop library for your platform... using builtin-java classes where applicable\n",
      "Setting default log level to \"WARN\".\n",
      "To adjust logging level use sc.setLogLevel(newLevel). For SparkR, use setLogLevel(newLevel).\n"
     ]
    },
    {
     "data": {
      "text/html": [
       "\n",
       "            <div>\n",
       "                <p><b>SparkSession - in-memory</b></p>\n",
       "                \n",
       "        <div>\n",
       "            <p><b>SparkContext</b></p>\n",
       "\n",
       "            <p><a href=\"http://be9fafb66fb0:4040\">Spark UI</a></p>\n",
       "\n",
       "            <dl>\n",
       "              <dt>Version</dt>\n",
       "                <dd><code>v3.5.3</code></dd>\n",
       "              <dt>Master</dt>\n",
       "                <dd><code>spark://spark-master:7077</code></dd>\n",
       "              <dt>AppName</dt>\n",
       "                <dd><code>Silver Iceberg</code></dd>\n",
       "            </dl>\n",
       "        </div>\n",
       "        \n",
       "            </div>\n",
       "        "
      ],
      "text/plain": [
       "<pyspark.sql.session.SparkSession at 0x7fb225b865a0>"
      ]
     },
     "execution_count": 1,
     "metadata": {},
     "output_type": "execute_result"
    }
   ],
   "source": [
    "import pyspark\n",
    "from pyspark.sql import SparkSession\n",
    "import os\n",
    "\n",
    "AWS_ACCESS_KEY = os.getenv(\"AWS_ACCESS_KEY_ID\")\n",
    "AWS_SECRET_KEY = os.getenv(\"AWS_SECRET_ACCESS_KEY\")\n",
    "S3_ENDPOINT = os.getenv(\"S3_ENDPOINT\")\n",
    "NESSIE_URI = os.getenv(\"NESSIE_URI\")\n",
    "\n",
    "MASTER = \"spark://spark-master:7077\"\n",
    "\n",
    "jar_packages = [\n",
    "    \"org.apache.iceberg:iceberg-spark-runtime-3.5_2.12:1.6.1\",\n",
    "    \"org.projectnessie.nessie-integrations:nessie-spark-extensions-3.5_2.12:0.99.0\",\n",
    "    \"org.apache.iceberg:iceberg-aws-bundle:1.6.1\"\n",
    "  ]\n",
    "\n",
    "spark_extensions = [\n",
    "    \"org.apache.iceberg.spark.extensions.IcebergSparkSessionExtensions\",\n",
    "    \"org.projectnessie.spark.extensions.NessieSparkSessionExtensions\"\n",
    "]\n",
    "conf = (\n",
    "    pyspark.SparkConf()\n",
    "    .setAppName(\"Silver Iceberg\")\n",
    "    .set(\"spark.master\", MASTER)\n",
    "    .set(\"spark.jars.packages\", ','.join(jar_packages))\n",
    "    .set(\"spark.sql.extensions\",\"org.apache.iceberg.spark.extensions.IcebergSparkSessionExtensions,org.projectnessie.spark.extensions.NessieSparkSessionExtensions\")\n",
    "    .set(\"spark.executor.memory\", \"2g\")\n",
    "    .set(\"spark.executor.cores\", \"2\")\n",
    "    .set(\"spark.executor.instances\", \"1\")\n",
    "    .set(\"spark.driver.memory\", \"2g\")\n",
    "    .set(\"spark.sql.catalog.nessie\", \"org.apache.iceberg.spark.SparkCatalog\")\n",
    "    .set(\"spark.sql.catalog.nessie.s3.path-style-access\", \"true\")\n",
    "    .set(\"spark.sql.catalog.nessie.s3.endpoint\", S3_ENDPOINT)\n",
    "    .set(\"spark.sql.catalog.nessie.warehouse\", \"s3a://gold/\")\n",
    "    .set(\"spark.sql.catalog.nessie.catalog-impl\", \"org.apache.iceberg.nessie.NessieCatalog\")\n",
    "    .set(\"spark.sql.catalog.nessie.io-impl\", \"org.apache.iceberg.aws.s3.S3FileIO\")\n",
    "    .set(\"spark.sql.catalog.nessie.uri\", NESSIE_URI)\n",
    "    .set(\"spark.sql.catalog.nessie.ref\", \"main\")\n",
    "    .set(\"spark.sql.catalog.nessie.authentication.type\", \"NONE\")\n",
    "    .set(\"spark.sql.catalog.nessie.cache-enabled\", \"false\")\n",
    "    .set(\"spark.hadoop.fs.s3a.access.key\", AWS_ACCESS_KEY)\n",
    "    .set(\"spark.hadoop.fs.s3a.secret.key\", AWS_SECRET_KEY)\n",
    "    .set(\"spark.hadoop.fs.s3a.endpoint\", S3_ENDPOINT)\n",
    "    .set(\"spark.hadoop.fs.s3a.path.style.access\", \"true\")\n",
    "    .set(\"spark.hadoop.fs.s3a.impl\", \"org.apache.hadoop.fs.s3a.S3AFileSystem\")\n",
    ")\n",
    "\n",
    "spark = SparkSession.builder.config(conf=conf).getOrCreate()\n",
    "spark.sparkContext.setLogLevel(\"ERROR\")\n",
    "spark"
   ]
  },
  {
   "cell_type": "code",
   "execution_count": 3,
   "id": "8c201c4a-b3e1-4d74-9ee3-e8af052a14e7",
   "metadata": {},
   "outputs": [],
   "source": [
    "# leitura da tabela iceberg da camada silver e criação de uma tabela temporaria\n",
    "spark.read.format(\"iceberg\").load(\"nessie.silver.tabela_enem_silver\").createOrReplaceTempView(\"tabela_enem_silver\")"
   ]
  },
  {
   "cell_type": "code",
   "execution_count": 4,
   "id": "a286166f-9f4d-47b7-8f41-ec0e17192c16",
   "metadata": {},
   "outputs": [
    {
     "data": {
      "text/plain": [
       "DataFrame[]"
      ]
     },
     "execution_count": 4,
     "metadata": {},
     "output_type": "execute_result"
    }
   ],
   "source": [
    "spark.sql(\"\"\"\n",
    "CREATE NAMESPACE IF NOT EXISTS nessie.gold\n",
    "\"\"\")"
   ]
  },
  {
   "cell_type": "markdown",
   "id": "e389547b-b729-4364-808f-4d197d629655",
   "metadata": {},
   "source": [
    "**CRIAÇÃO DA TABELA DE DIM.APLIACAO_PROVA NA CAMADA GOLD**"
   ]
  },
  {
   "cell_type": "code",
   "execution_count": 24,
   "id": "613bff12-6690-4871-9693-d31b63486fba",
   "metadata": {},
   "outputs": [
    {
     "name": "stderr",
     "output_type": "stream",
     "text": [
      "                                                                                \r"
     ]
    },
    {
     "data": {
      "text/plain": [
       "DataFrame[]"
      ]
     },
     "execution_count": 24,
     "metadata": {},
     "output_type": "execute_result"
    }
   ],
   "source": [
    "spark.sql(\"\"\"\n",
    "    CREATE TABLE nessie.gold.dim_aplicacao_prova\n",
    "    USING iceberg\n",
    "    LOCATION 's3a://gold/dim_aplicacao_prova/'\n",
    "    AS SELECT \n",
    "        ID AS ID_APLICACAO_PROVA,\n",
    "        CO_MUNICIPIO_PROVA,\n",
    "        NO_MUNICIPIO_PROVA,\n",
    "        CO_UF_PROVA,\n",
    "        SG_UF_PROVA\n",
    "      FROM tabela_enem_silver LIMIT 0;\n",
    "    \"\"\")\n",
    "\n",
    "spark.sql(\"\"\"\n",
    "    INSERT INTO nessie.gold.dim_aplicacao_prova\n",
    "    SELECT \n",
    "      ID AS ID_APLICACAO_PROVA,\n",
    "      CO_MUNICIPIO_PROVA,\n",
    "      NO_MUNICIPIO_PROVA,\n",
    "      CO_UF_PROVA,\n",
    "      SG_UF_PROVA\n",
    "    FROM tabela_enem_silver;\n",
    "    \"\"\")"
   ]
  },
  {
   "cell_type": "code",
   "execution_count": 26,
   "id": "54120f7c-5c6b-44a3-bc78-54c84d687221",
   "metadata": {},
   "outputs": [
    {
     "name": "stdout",
     "output_type": "stream",
     "text": [
      "+------------------+------------------+------------------+-----------+-----------+\n",
      "|ID_APLICACAO_PROVA|CO_MUNICIPIO_PROVA|NO_MUNICIPIO_PROVA|CO_UF_PROVA|SG_UF_PROVA|\n",
      "+------------------+------------------+------------------+-----------+-----------+\n",
      "|           4583466|           2408102|             Natal|         24|         RN|\n",
      "|           4583467|           2407203|             Macau|         24|         RN|\n",
      "|           4583468|           2408102|             Natal|         24|         RN|\n",
      "|           4583469|           2408102|             Natal|         24|         RN|\n",
      "|           4583470|           2402006|             Caic�|         24|         RN|\n",
      "|           4583471|           2404200|         Goianinha|         24|         RN|\n",
      "|           4583472|           2402006|             Caic�|         24|         RN|\n",
      "|           4583473|           2408102|             Natal|         24|         RN|\n",
      "|           4583474|           2406106|          Jucurutu|         24|         RN|\n",
      "|           4583475|           2408102|             Natal|         24|         RN|\n",
      "|           4583476|           2409407|    Pau dos Ferros|         24|         RN|\n",
      "|           4583477|           2408102|             Natal|         24|         RN|\n",
      "|           4583478|           2408102|             Natal|         24|         RN|\n",
      "|           4583479|           2411502|     Santo Ant�nio|         24|         RN|\n",
      "|           4583480|           2414407|            Touros|         24|         RN|\n",
      "|           4583481|           2403103|     Currais Novos|         24|         RN|\n",
      "|           4583482|           2408102|             Natal|         24|         RN|\n",
      "|           4583483|           2411205|        Santa Cruz|         24|         RN|\n",
      "|           4583484|           2408102|             Natal|         24|         RN|\n",
      "|           4583485|           2402303|          Cara�bas|         24|         RN|\n",
      "+------------------+------------------+------------------+-----------+-----------+\n",
      "only showing top 20 rows\n",
      "\n"
     ]
    }
   ],
   "source": [
    "spark.sql(\"\"\"SELECT * FROM nessie.gold.dim_aplicacao_prova\"\"\").show()"
   ]
  },
  {
   "cell_type": "markdown",
   "id": "047b9a1e-9b1c-4c2f-8468-31d011869021",
   "metadata": {},
   "source": [
    "**CRIAÇÃO DA TABELA DE DIM.ESCOLA NA CAMADA GOLD**"
   ]
  },
  {
   "cell_type": "code",
   "execution_count": 28,
   "id": "c034d861-25a7-4b90-8f06-abd7748f111f",
   "metadata": {},
   "outputs": [
    {
     "name": "stderr",
     "output_type": "stream",
     "text": [
      "                                                                                \r"
     ]
    },
    {
     "data": {
      "text/plain": [
       "DataFrame[]"
      ]
     },
     "execution_count": 28,
     "metadata": {},
     "output_type": "execute_result"
    }
   ],
   "source": [
    "spark.sql(\"\"\"\n",
    "    CREATE TABLE nessie.gold.dim_escola\n",
    "    USING iceberg\n",
    "    LOCATION 's3a://gold/dim_escola/'\n",
    "    AS SELECT \n",
    "        ID AS ID_ESCOLA,\n",
    "        CO_MUNICIPIO_ESC,\n",
    "        NO_MUNICIPIO_ESC,\n",
    "        CO_UF_ESC,\n",
    "        SG_UF_ESC,\n",
    "        TP_DEPENDENCIA_ADM_ESC,\n",
    "        TP_LOCALIZACAO_ESC,\n",
    "        TP_SIT_FUNC_ESC\n",
    "      FROM tabela_enem_silver LIMIT 0;\n",
    "    \"\"\")\n",
    "\n",
    "spark.sql(\"\"\"\n",
    "    INSERT INTO nessie.gold.dim_escola\n",
    "    SELECT \n",
    "      ID AS ID_ESCOLA,\n",
    "      CO_MUNICIPIO_ESC,\n",
    "      NO_MUNICIPIO_ESC,\n",
    "      CO_UF_ESC,\n",
    "      SG_UF_ESC,\n",
    "    CASE\n",
    "      WHEN TP_DEPENDENCIA_ADM_ESC = '1' THEN 'Federal'\n",
    "      WHEN TP_DEPENDENCIA_ADM_ESC = '2' THEN 'Estadual'\n",
    "      WHEN TP_DEPENDENCIA_ADM_ESC = '3' THEN 'Municipal'\n",
    "      WHEN TP_DEPENDENCIA_ADM_ESC = '4' THEN 'Privada'\n",
    "      ELSE TP_DEPENDENCIA_ADM_ESC\n",
    "    END AS TP_DEPENDENCIA_ADM_ESC,\n",
    "    CASE\n",
    "      WHEN TP_LOCALIZACAO_ESC = '1' THEN 'Urbana'\n",
    "      WHEN TP_LOCALIZACAO_ESC = '2' THEN 'Rural'\n",
    "      ELSE TP_LOCALIZACAO_ESC\n",
    "    END AS TP_LOCALIZACAO_ESC,\n",
    "    CASE\n",
    "      WHEN TP_SIT_FUNC_ESC = '1' THEN 'Em atividade'\n",
    "      WHEN TP_SIT_FUNC_ESC = '2' THEN 'Paralisada'\n",
    "      WHEN TP_SIT_FUNC_ESC = '3' THEN 'Extinta'\n",
    "      ELSE TP_SIT_FUNC_ESC\n",
    "    END AS TP_SIT_FUNC_ESC\n",
    "    FROM tabela_enem_silver;\n",
    "    \"\"\")"
   ]
  },
  {
   "cell_type": "code",
   "execution_count": 33,
   "id": "f5f2f5c6-94af-4683-a0ef-6f3349be316f",
   "metadata": {},
   "outputs": [
    {
     "name": "stdout",
     "output_type": "stream",
     "text": [
      "+---------+----------------+--------------------+---------+---------+----------------------+------------------+---------------+\n",
      "|ID_ESCOLA|CO_MUNICIPIO_ESC|    NO_MUNICIPIO_ESC|CO_UF_ESC|SG_UF_ESC|TP_DEPENDENCIA_ADM_ESC|TP_LOCALIZACAO_ESC|TP_SIT_FUNC_ESC|\n",
      "+---------+----------------+--------------------+---------+---------+----------------------+------------------+---------------+\n",
      "|  4583484|         2408102|               Natal|       24|       RN|              Estadual|            Urbana|   Em atividade|\n",
      "|  4583488|         2408102|               Natal|       24|       RN|              Estadual|            Urbana|   Em atividade|\n",
      "|  4583490|         2412005|S�o Gon�alo do Am...|       24|       RN|              Estadual|            Urbana|   Em atividade|\n",
      "|  4583507|         2413003|         S�o Vicente|       24|       RN|              Estadual|            Urbana|   Em atividade|\n",
      "|  4583508|         2403251|          Parnamirim|       24|       RN|              Estadual|            Urbana|   Em atividade|\n",
      "|  4583523|         2404309|Governador Dix-Se...|       24|       RN|              Estadual|            Urbana|   Em atividade|\n",
      "|  4583595|         2408102|               Natal|       24|       RN|              Estadual|            Urbana|   Em atividade|\n",
      "|  4583656|         2400703|   Alto do Rodrigues|       24|       RN|              Estadual|            Urbana|   Em atividade|\n",
      "|  4583664|         2403103|       Currais Novos|       24|       RN|              Estadual|            Urbana|   Em atividade|\n",
      "|  4583677|         2403608|            Extremoz|       24|       RN|              Estadual|            Urbana|   Em atividade|\n",
      "|  4583682|         2409902|          Pend�ncias|       24|       RN|              Estadual|            Urbana|   Em atividade|\n",
      "|  4583692|         2408102|               Natal|       24|       RN|              Estadual|            Urbana|   Em atividade|\n",
      "|  4583724|         2408102|               Natal|       24|       RN|               Federal|            Urbana|   Em atividade|\n",
      "|  4583733|         2408102|               Natal|       24|       RN|              Estadual|            Urbana|   Em atividade|\n",
      "|  4583750|         2402600|         Cear�-Mirim|       24|       RN|              Estadual|            Urbana|   Em atividade|\n",
      "|  4583769|         2400802|             Angicos|       24|       RN|              Estadual|            Urbana|   Em atividade|\n",
      "|  4583791|         2512408|            Puxinan�|       25|       PB|              Estadual|             Rural|   Em atividade|\n",
      "|  4583821|         2507507|         Jo�o Pessoa|       25|       PB|              Estadual|            Urbana|   Em atividade|\n",
      "|  4583826|         2507507|         Jo�o Pessoa|       25|       PB|               Privada|            Urbana|   Em atividade|\n",
      "|  4583828|         2500700|S�o Jo�o do Rio d...|       25|       PB|              Estadual|            Urbana|   Em atividade|\n",
      "+---------+----------------+--------------------+---------+---------+----------------------+------------------+---------------+\n",
      "only showing top 20 rows\n",
      "\n"
     ]
    }
   ],
   "source": [
    "spark.sql(\"\"\"SELECT * FROM nessie.gold.dim_escola WHERE CO_MUNICIPIO_ESC != 0\"\"\").show()"
   ]
  },
  {
   "cell_type": "markdown",
   "id": "1cf96e78-30dc-47b9-89d8-945a8678ad66",
   "metadata": {},
   "source": [
    "**CRIAÇÃO DA TABELA DE DIM.PARTICIPANTE NA CAMADA GOLD**"
   ]
  },
  {
   "cell_type": "code",
   "execution_count": 34,
   "id": "10ad66ca-819a-4177-b255-2496ccd8d7d0",
   "metadata": {},
   "outputs": [
    {
     "name": "stderr",
     "output_type": "stream",
     "text": [
      "                                                                                \r"
     ]
    },
    {
     "data": {
      "text/plain": [
       "DataFrame[]"
      ]
     },
     "execution_count": 34,
     "metadata": {},
     "output_type": "execute_result"
    }
   ],
   "source": [
    "spark.sql(\"\"\"\n",
    "    CREATE TABLE nessie.gold.dim_participante\n",
    "    USING iceberg\n",
    "    LOCATION 's3a://gold/dim_participante/'\n",
    "    AS SELECT \n",
    "        ID AS ID_PARTICIPANTE,\n",
    "        NU_INSCRICAO,\n",
    "        NU_ANO,\n",
    "        TP_FAIXA_ETARIA,\n",
    "        TP_SEXO,\n",
    "        TP_ESTADO_CIVIL,\n",
    "        TP_COR_RACA,\n",
    "        TP_NACIONALIDADE,\n",
    "        TP_ST_CONCLUSAO,\n",
    "        TP_ANO_CONCLUIU,\n",
    "        TP_ESCOLA,\n",
    "        TP_ENSINO,\n",
    "        IN_TREINEIRO\n",
    "      FROM tabela_enem_silver LIMIT 0;\n",
    "    \"\"\")\n",
    "\n",
    "spark.sql(\"\"\"\n",
    "    INSERT INTO nessie.gold.dim_participante\n",
    "    SELECT \n",
    "      ID AS ID_PARTICIPANTE,\n",
    "      NU_INSCRICAO,\n",
    "      NU_ANO,\n",
    "      CASE\n",
    "          WHEN TP_FAIXA_ETARIA = '1' THEN 'Menor de 17 anos'\n",
    "          WHEN TP_FAIXA_ETARIA = '2' THEN '17 anos'\n",
    "          WHEN TP_FAIXA_ETARIA = '3' THEN '18 anos'\n",
    "          WHEN TP_FAIXA_ETARIA = '4' THEN '19 anos'\n",
    "          WHEN TP_FAIXA_ETARIA = '5' THEN '20 anos'\n",
    "          WHEN TP_FAIXA_ETARIA = '6' THEN '21 anos'\n",
    "          WHEN TP_FAIXA_ETARIA = '7' THEN '22 anos'\n",
    "          WHEN TP_FAIXA_ETARIA = '8' THEN '23 anos'\n",
    "          WHEN TP_FAIXA_ETARIA = '9' THEN '24 anos'\n",
    "          WHEN TP_FAIXA_ETARIA = '10' THEN '25 anos'\n",
    "          WHEN TP_FAIXA_ETARIA = '11' THEN 'Entre 26 a 30 anos'\n",
    "          WHEN TP_FAIXA_ETARIA = '12' THEN 'Entre 31 a 35 anos'\n",
    "          WHEN TP_FAIXA_ETARIA = '13' THEN 'Entre 36 a 40 anos'\n",
    "          WHEN TP_FAIXA_ETARIA = '14' THEN 'Entre 41 a 45 anos'\n",
    "          WHEN TP_FAIXA_ETARIA = '15' THEN 'Entre 46 a 50 anos'\n",
    "          WHEN TP_FAIXA_ETARIA = '16' THEN 'Entre 51 a 55 anos'\n",
    "          WHEN TP_FAIXA_ETARIA = '17' THEN 'Entre 56 a 60 anos'\n",
    "          WHEN TP_FAIXA_ETARIA = '18' THEN 'Entre 61 a 65 anos'\n",
    "          WHEN TP_FAIXA_ETARIA = '19' THEN 'Entre 66 a 70 anos'\n",
    "          WHEN TP_FAIXA_ETARIA = '20' THEN 'Maior de 70 anos'\n",
    "          ELSE TP_FAIXA_ETARIA\n",
    "      END AS TP_FAIXA_ETARIA,\n",
    "      CASE\n",
    "          WHEN TP_SEXO = 'F' THEN 'Feminino'\n",
    "          WHEN TP_SEXO = 'M' THEN 'Masculino'\n",
    "          ELSE 'Não encontrado'\n",
    "      END AS TP_SEXO,\n",
    "      CASE\n",
    "          WHEN TP_ESTADO_CIVIL = '0' THEN 'Não informado'\n",
    "          WHEN TP_ESTADO_CIVIL = '1' THEN 'Solteiro(a)'\n",
    "          WHEN TP_ESTADO_CIVIL = '2' THEN 'Casado(a) Mora com companheiro(a)'\n",
    "          WHEN TP_ESTADO_CIVIL = '3' THEN 'Divorciado(a)/Desquitado(a)/Separado(a)'\n",
    "          WHEN TP_ESTADO_CIVIL = '4' THEN 'Viúvo(a)'\n",
    "          ELSE TP_ESTADO_CIVIL\n",
    "      END AS TP_ESTADO_CIVIL,\n",
    "      CASE\n",
    "          WHEN TP_COR_RACA = '0' THEN 'Não declarado'\n",
    "          WHEN TP_COR_RACA = '1' THEN 'Branca'\n",
    "          WHEN TP_COR_RACA = '2' THEN 'Preta'\n",
    "          WHEN TP_COR_RACA = '3' THEN 'Parda'\n",
    "          WHEN TP_COR_RACA = '4' THEN 'Amarela'\n",
    "          WHEN TP_COR_RACA = '5' THEN 'Indígena'\n",
    "          ELSE TP_COR_RACA\n",
    "      END AS TP_COR_RACA,\n",
    "      CASE\n",
    "          WHEN TP_NACIONALIDADE = '0' THEN 'Não informado'\n",
    "          WHEN TP_NACIONALIDADE = '1' THEN 'Brasileiro(a)'\n",
    "          WHEN TP_NACIONALIDADE = '2' THEN 'Brasileiro(a) Naturalizado(a)'\n",
    "          WHEN TP_NACIONALIDADE = '3' THEN 'Estrangeiro(a)'\n",
    "          WHEN TP_NACIONALIDADE = '4' THEN 'Brasileiro(a) Nato(a), nascido(a) no exterior'\n",
    "          ELSE TP_NACIONALIDADE\n",
    "      END AS TP_NACIONALIDADE,\n",
    "      CASE\n",
    "          WHEN TP_ST_CONCLUSAO = '1' THEN 'Já concluí o Ensino Médio'\n",
    "          WHEN TP_ST_CONCLUSAO = '2' THEN 'Estou cursando e concluirei o Ensino Médio em 2020'\n",
    "          WHEN TP_ST_CONCLUSAO = '3' THEN 'Estou cursando e concluirei o Ensino Médio após 2020'\n",
    "          WHEN TP_ST_CONCLUSAO = '4' THEN 'Não concluí e não estou cursando o Ensino Médio'\n",
    "          ELSE TP_ST_CONCLUSAO\n",
    "      END AS TP_ST_CONCLUSAO,\n",
    "      CASE\n",
    "          WHEN TP_ANO_CONCLUIU = '0' THEN 'Não informado'\n",
    "          WHEN TP_ANO_CONCLUIU = '1' THEN '2019'\n",
    "          WHEN TP_ANO_CONCLUIU = '2' THEN '2018'\n",
    "          WHEN TP_ANO_CONCLUIU = '3' THEN '2017'\n",
    "          WHEN TP_ANO_CONCLUIU = '4' THEN '2016'\n",
    "          WHEN TP_ANO_CONCLUIU = '5' THEN '2015'\n",
    "          WHEN TP_ANO_CONCLUIU = '6' THEN '2014'\n",
    "          WHEN TP_ANO_CONCLUIU = '7' THEN '2013'\n",
    "          WHEN TP_ANO_CONCLUIU = '8' THEN '2012'\n",
    "          WHEN TP_ANO_CONCLUIU = '9' THEN '2011'\n",
    "          WHEN TP_ANO_CONCLUIU = '10' THEN '2010'\n",
    "          WHEN TP_ANO_CONCLUIU = '11' THEN '2009'\n",
    "          WHEN TP_ANO_CONCLUIU = '12' THEN '2008'\n",
    "          WHEN TP_ANO_CONCLUIU = '13' THEN '2007'\n",
    "          WHEN TP_ANO_CONCLUIU = '14' THEN 'Antes de 2007'\n",
    "          ELSE TP_ANO_CONCLUIU\n",
    "      END AS TP_ANO_CONCLUIU,\n",
    "      CASE\n",
    "          WHEN TP_ESCOLA = '1' THEN 'Não Respondeu'\n",
    "          WHEN TP_ESCOLA = '2' THEN 'Pública'\n",
    "          WHEN TP_ESCOLA = '3' THEN 'Privada'\n",
    "          WHEN TP_ESCOLA = '4' THEN 'Exterior'\n",
    "          ELSE TP_ESCOLA\n",
    "      END AS TP_ESCOLA,\n",
    "      CASE\n",
    "          WHEN TP_ENSINO = '1' THEN 'Ensino Regular'\n",
    "          WHEN TP_ENSINO = '2' THEN 'Educação Especial - Modalidade Substitutiva'\n",
    "          WHEN TP_ENSINO = '3' THEN 'Educação de Jovens e Adultos'\n",
    "          ELSE TP_ENSINO\n",
    "      END AS TP_ENSINO,\n",
    "      CASE\n",
    "          WHEN IN_TREINEIRO = '0' THEN 'Sim'\n",
    "          WHEN IN_TREINEIRO = '1' THEN 'Não'\n",
    "          ELSE IN_TREINEIRO\n",
    "      END AS IN_TREINEIRO\n",
    "    FROM tabela_enem_silver;\n",
    "    \"\"\")"
   ]
  },
  {
   "cell_type": "code",
   "execution_count": 36,
   "id": "afe316ee-da43-48ff-a378-d65e57c2b6d5",
   "metadata": {},
   "outputs": [
    {
     "name": "stdout",
     "output_type": "stream",
     "text": [
      "+---------------+------------+------+------------------+---------+--------------------+-----------+----------------+--------------------+---------------+-------------+--------------+------------+\n",
      "|ID_PARTICIPANTE|NU_INSCRICAO|NU_ANO|   TP_FAIXA_ETARIA|  TP_SEXO|     TP_ESTADO_CIVIL|TP_COR_RACA|TP_NACIONALIDADE|     TP_ST_CONCLUSAO|TP_ANO_CONCLUIU|    TP_ESCOLA|     TP_ENSINO|IN_TREINEIRO|\n",
      "+---------------+------------+------+------------------+---------+--------------------+-----------+----------------+--------------------+---------------+-------------+--------------+------------+\n",
      "|        4583466|190005588305|  2019|Entre 26 a 30 anos| Feminino|         Solteiro(a)|     Branca|   Brasileiro(a)|Já concluí o Ensi...|           2009|Não Respondeu|Ensino Regular|         Sim|\n",
      "|        4583467|190005588306|  2019|           24 anos| Feminino|         Solteiro(a)|      Preta|   Brasileiro(a)|Já concluí o Ensi...|           2014|Não Respondeu|Ensino Regular|         Sim|\n",
      "|        4583468|190005588307|  2019|           22 anos| Feminino|         Solteiro(a)|      Parda|   Brasileiro(a)|Já concluí o Ensi...|           2015|Não Respondeu|  Desconhecido|         Sim|\n",
      "|        4583469|190005588308|  2019|Entre 41 a 45 anos| Feminino|Casado(a) Mora co...|     Branca|   Brasileiro(a)|Já concluí o Ensi...|           2007|Não Respondeu|  Desconhecido|         Sim|\n",
      "|        4583470|190005588309|  2019|  Menor de 17 anos| Feminino|         Solteiro(a)|     Branca|   Brasileiro(a)|Estou cursando e ...|  Não informado|Não Respondeu|  Desconhecido|         Não|\n",
      "|        4583471|190005588310|  2019|  Menor de 17 anos| Feminino|         Solteiro(a)|      Parda|   Brasileiro(a)|Estou cursando e ...|  Não informado|Não Respondeu|  Desconhecido|         Não|\n",
      "|        4583472|190005588311|  2019|Entre 41 a 45 anos| Feminino|         Solteiro(a)|     Branca|   Brasileiro(a)|Já concluí o Ensi...|           2007|Não Respondeu|  Desconhecido|         Sim|\n",
      "|        4583473|190005588312|  2019|           20 anos|Masculino|         Solteiro(a)|      Preta|   Brasileiro(a)|Já concluí o Ensi...|           2016|Não Respondeu|Ensino Regular|         Sim|\n",
      "|        4583474|190005588313|  2019|Entre 26 a 30 anos| Feminino|         Solteiro(a)|      Preta|   Brasileiro(a)|Já concluí o Ensi...|           2011|Não Respondeu|Ensino Regular|         Sim|\n",
      "|        4583475|190005588314|  2019|Entre 46 a 50 anos|Masculino|       Não informado|      Parda|   Brasileiro(a)|Já concluí o Ensi...|           2008|Não Respondeu|  Desconhecido|         Sim|\n",
      "|        4583476|190005588315|  2019|           23 anos| Feminino|         Solteiro(a)|     Branca|   Brasileiro(a)|Já concluí o Ensi...|           2014|Não Respondeu|  Desconhecido|         Sim|\n",
      "|        4583477|190005588316|  2019|           25 anos| Feminino|         Solteiro(a)|      Preta|   Brasileiro(a)|Já concluí o Ensi...|           2012|Não Respondeu|Ensino Regular|         Sim|\n",
      "|        4583478|190005588317|  2019|Entre 41 a 45 anos| Feminino|         Solteiro(a)|      Parda|   Brasileiro(a)|Já concluí o Ensi...|           2007|Não Respondeu|Ensino Regular|         Sim|\n",
      "|        4583479|190005588318|  2019|           19 anos| Feminino|         Solteiro(a)|      Preta|   Brasileiro(a)|Já concluí o Ensi...|           2018|Não Respondeu|  Desconhecido|         Sim|\n",
      "|        4583480|190005588319|  2019|           21 anos| Feminino|       Não informado|      Parda|   Brasileiro(a)|Já concluí o Ensi...|  Não informado|Não Respondeu|  Desconhecido|         Sim|\n",
      "|        4583481|190005588320|  2019|           21 anos|Masculino|         Solteiro(a)|      Parda|   Brasileiro(a)|Já concluí o Ensi...|           2016|Não Respondeu|Ensino Regular|         Sim|\n",
      "|        4583482|190005588321|  2019|Entre 36 a 40 anos| Feminino|         Solteiro(a)|      Parda|   Brasileiro(a)|Já concluí o Ensi...|           2007|Não Respondeu|Ensino Regular|         Sim|\n",
      "|        4583483|190005588322|  2019|           18 anos| Feminino|         Solteiro(a)|      Preta|   Brasileiro(a)|Já concluí o Ensi...|           2019|Não Respondeu|Ensino Regular|         Sim|\n",
      "|        4583484|190005588323|  2019|           18 anos|Masculino|         Solteiro(a)|      Parda|   Brasileiro(a)|Estou cursando e ...|  Não informado|      Pública|  Desconhecido|         Sim|\n",
      "|        4583485|190005588324|  2019|           21 anos|Masculino|         Solteiro(a)|      Parda|   Brasileiro(a)|Já concluí o Ensi...|  Não informado|Não Respondeu|  Desconhecido|         Sim|\n",
      "+---------------+------------+------+------------------+---------+--------------------+-----------+----------------+--------------------+---------------+-------------+--------------+------------+\n",
      "only showing top 20 rows\n",
      "\n"
     ]
    }
   ],
   "source": [
    "spark.sql(\"\"\"SELECT * FROM nessie.gold.dim_participante\"\"\").show()"
   ]
  },
  {
   "cell_type": "markdown",
   "id": "6b739f5a-b464-494c-9cbe-d606a1e08540",
   "metadata": {},
   "source": [
    "**CRIAÇÃO DA TABELA DE DIM.PROVA_OBJETIVA NA CAMADA GOLD**"
   ]
  },
  {
   "cell_type": "code",
   "execution_count": 37,
   "id": "940f9c08-6143-49db-be27-b422144d4b73",
   "metadata": {},
   "outputs": [
    {
     "name": "stderr",
     "output_type": "stream",
     "text": [
      "                                                                                \r"
     ]
    },
    {
     "data": {
      "text/plain": [
       "DataFrame[]"
      ]
     },
     "execution_count": 37,
     "metadata": {},
     "output_type": "execute_result"
    }
   ],
   "source": [
    "spark.sql(\"\"\"\n",
    "    CREATE TABLE nessie.gold.dim_prova_objetiva\n",
    "    USING iceberg\n",
    "    LOCATION 's3a://gold/dim_prova_objetiva/'\n",
    "    AS SELECT \n",
    "        ID AS ID_PROVA_OBJETIVA,\n",
    "        TP_PRESENCA_CN,\n",
    "        TP_PRESENCA_CH,\n",
    "        TP_PRESENCA_LC,\n",
    "        TP_PRESENCA_MT,\n",
    "        CO_PROVA_CN,\n",
    "        CO_PROVA_CH,\n",
    "        CO_PROVA_LC,\n",
    "        CO_PROVA_MT,\n",
    "        NU_NOTA_CN,\n",
    "        NU_NOTA_CH,\n",
    "        NU_NOTA_LC,\n",
    "        NU_NOTA_MT,\n",
    "        TX_RESPOSTAS_CN,\n",
    "        TX_RESPOSTAS_CH,\n",
    "        TX_RESPOSTAS_LC,\n",
    "        TX_RESPOSTAS_MT,\n",
    "        TP_LINGUA,\n",
    "        TX_GABARITO_CN,\n",
    "        TX_GABARITO_CH,\n",
    "        TX_GABARITO_LC,\n",
    "        TX_GABARITO_MT\n",
    "      FROM tabela_enem_silver LIMIT 0;\n",
    "    \"\"\")\n",
    "\n",
    "spark.sql(\"\"\"\n",
    "    INSERT INTO nessie.gold.dim_prova_objetiva\n",
    "    SELECT \n",
    "      ID AS ID_PROVA_OBJETIVA,\n",
    "      CASE\n",
    "          WHEN TP_PRESENCA_CN = '0' THEN 'Faltou à prova'\n",
    "          WHEN TP_PRESENCA_CN = '1' THEN 'Presente na prova'\n",
    "          WHEN TP_PRESENCA_CN = '2' THEN 'Eliminado na prova'\n",
    "          ELSE TP_PRESENCA_CN\n",
    "      END AS TP_PRESENCA_CN,\n",
    "      CASE\n",
    "          WHEN TP_PRESENCA_CH = '0' THEN 'Faltou à prova'\n",
    "          WHEN TP_PRESENCA_CH = '1' THEN 'Presente na prova'\n",
    "          WHEN TP_PRESENCA_CH = '2' THEN 'Eliminado na prova'\n",
    "          ELSE TP_PRESENCA_CH\n",
    "      END AS TP_PRESENCA_CH,\n",
    "      CASE\n",
    "          WHEN TP_PRESENCA_LC = '0' THEN 'Faltou à prova'\n",
    "          WHEN TP_PRESENCA_LC = '1' THEN 'Presente na prova'\n",
    "          WHEN TP_PRESENCA_LC = '2' THEN 'Eliminado na prova'\n",
    "          ELSE TP_PRESENCA_LC\n",
    "      END AS TP_PRESENCA_LC,\n",
    "      CASE\n",
    "          WHEN TP_PRESENCA_MT = '0' THEN 'Faltou à prova'\n",
    "          WHEN TP_PRESENCA_MT = '1' THEN 'Presente na prova'\n",
    "          WHEN TP_PRESENCA_MT = '2' THEN 'Eliminado na prova'\n",
    "          ELSE TP_PRESENCA_MT\n",
    "      END AS TP_PRESENCA_MT,\n",
    "      CASE\n",
    "          WHEN CO_PROVA_CN = '597' THEN 'Azul'\n",
    "          WHEN CO_PROVA_CN = '598' THEN 'Amarela'\n",
    "          WHEN CO_PROVA_CN = '599' THEN 'Cinza'\n",
    "          WHEN CO_PROVA_CN = '600' THEN 'Rosa'\n",
    "          WHEN CO_PROVA_CN = '601' THEN 'Rosa - Ampliada'\n",
    "          WHEN CO_PROVA_CN = '602' THEN 'Rosa - Superampliada'\n",
    "          WHEN CO_PROVA_CN = '604' THEN 'Laranja - Adaptada Ledor'\n",
    "          WHEN CO_PROVA_CN = '605' THEN 'Verde - Videoprova - Libras'\n",
    "          WHEN CO_PROVA_CN = '677' THEN 'Azul (Reaplicação)'\n",
    "          WHEN CO_PROVA_CN = '678' THEN 'Amarela (Reaplicação)'\n",
    "          WHEN CO_PROVA_CN = '679' THEN 'Cinza (Reaplicação)'\n",
    "          WHEN CO_PROVA_CN = '680' THEN 'Rosa (Reaplicação)'\n",
    "          WHEN CO_PROVA_CN = '684' THEN 'Laranja - Adaptada Ledor (Reaplicação)'\n",
    "          WHEN CO_PROVA_CN = '699' THEN 'Azul (Digital)'\n",
    "          WHEN CO_PROVA_CN = '700' THEN 'Amarela (Digital)'\n",
    "          WHEN CO_PROVA_CN = '701' THEN 'Rosa (Digital)'\n",
    "          WHEN CO_PROVA_CN = '702' THEN 'Cinza (Digital)'\n",
    "          ELSE 'Não encontrado'\n",
    "      END AS CO_PROVA_CN,\n",
    "      CASE\n",
    "          WHEN CO_PROVA_CH = '567' THEN 'Azul'\n",
    "          WHEN CO_PROVA_CH = '568' THEN 'Amarela'\n",
    "          WHEN CO_PROVA_CH = '569' THEN 'Cinza'\n",
    "          WHEN CO_PROVA_CH = '570' THEN 'Rosa'\n",
    "          WHEN CO_PROVA_CH = '571' THEN 'Rosa - Ampliada'\n",
    "          WHEN CO_PROVA_CH = '572' THEN 'Rosa - Superampliada'\n",
    "          WHEN CO_PROVA_CH = '574' THEN 'Laranja - Adaptada Ledor'\n",
    "          WHEN CO_PROVA_CH = '575' THEN 'Verde - Videoprova - Libras'\n",
    "          WHEN CO_PROVA_CH = '647' THEN 'Azul (Reaplicação)'\n",
    "          WHEN CO_PROVA_CH = '648' THEN 'Amarela (Reaplicação)'\n",
    "          WHEN CO_PROVA_CH = '649' THEN 'Cinza (Reaplicação)'\n",
    "          WHEN CO_PROVA_CH = '650' THEN 'Rosa (Reaplicação)'\n",
    "          WHEN CO_PROVA_CH = '654' THEN 'Laranja - Adaptada Ledor (Reaplicação)'\n",
    "          WHEN CO_PROVA_CH = '687' THEN 'Azul (Digital)'\n",
    "          WHEN CO_PROVA_CH = '688' THEN 'Amarela (Digital)'\n",
    "          WHEN CO_PROVA_CH = '689' THEN 'Rosa (Digital)'\n",
    "          WHEN CO_PROVA_CH = '690' THEN 'Cinza (Digital)'\n",
    "          ELSE 'Não encontrado'\n",
    "      END AS CO_PROVA_CH,\n",
    "      CASE\n",
    "          WHEN CO_PROVA_LC = '577' THEN 'Azul'\n",
    "          WHEN CO_PROVA_LC = '578' THEN 'Amarela'\n",
    "          WHEN CO_PROVA_LC = '579' THEN 'Rosa'\n",
    "          WHEN CO_PROVA_LC = '580' THEN 'Branca'\n",
    "          WHEN CO_PROVA_LC = '581' THEN 'Rosa - Ampliada'\n",
    "          WHEN CO_PROVA_LC = '582' THEN 'Rosa - Superampliada'\n",
    "          WHEN CO_PROVA_LC = '584' THEN 'Laranja - Adaptada Ledor'\n",
    "          WHEN CO_PROVA_LC = '585' THEN 'Verde - Videoprova - Libras'\n",
    "          WHEN CO_PROVA_LC = '657' THEN 'Azul (Reaplicação)'\n",
    "          WHEN CO_PROVA_LC = '658' THEN 'Amarela (Reaplicação)'\n",
    "          WHEN CO_PROVA_LC = '659' THEN 'Rosa (Reaplicação)'\n",
    "          WHEN CO_PROVA_LC = '660' THEN 'Branca (Reaplicação)'\n",
    "          WHEN CO_PROVA_LC = '664' THEN 'Laranja - Adaptada Ledor (Reaplicação)'\n",
    "          WHEN CO_PROVA_LC = '691' THEN 'Azul (Digital)'\n",
    "          WHEN CO_PROVA_LC = '692' THEN 'Amarela (Digital)'\n",
    "          WHEN CO_PROVA_LC = '693' THEN 'Branca (Digital)'\n",
    "          WHEN CO_PROVA_LC = '694' THEN 'Rosa (Digital)'\n",
    "          ELSE 'Não encontrado'\n",
    "      END AS CO_PROVA_LC,\n",
    "      CASE\n",
    "          WHEN CO_PROVA_MT = '587' THEN 'Azul'\n",
    "          WHEN CO_PROVA_MT = '588' THEN 'Amarela'\n",
    "          WHEN CO_PROVA_MT = '589' THEN 'Rosa'\n",
    "          WHEN CO_PROVA_MT = '590' THEN 'Cinza'\n",
    "          WHEN CO_PROVA_MT = '591' THEN 'Rosa - Ampliada'\n",
    "          WHEN CO_PROVA_MT = '592' THEN 'Rosa - Superampliada'\n",
    "          WHEN CO_PROVA_MT = '594' THEN 'Laranja - Adaptada Ledor'\n",
    "          WHEN CO_PROVA_MT = '595' THEN 'Verde - Videoprova - Libras'\n",
    "          WHEN CO_PROVA_MT = '667' THEN 'Azul (Reaplicação)'\n",
    "          WHEN CO_PROVA_MT = '668' THEN 'Amarela (Reaplicação)'\n",
    "          WHEN CO_PROVA_MT = '669' THEN 'Rosa (Reaplicação)'\n",
    "          WHEN CO_PROVA_MT = '670' THEN 'Cinza (Reaplicação)'\n",
    "          WHEN CO_PROVA_MT = '674' THEN 'Laranja - Adaptada Ledor (Reaplicação)'\n",
    "          WHEN CO_PROVA_MT = '695' THEN 'Azul (Digital)'\n",
    "          WHEN CO_PROVA_MT = '696' THEN 'Amarela (Digital)'\n",
    "          WHEN CO_PROVA_MT = '697' THEN 'Rosa (Digital)'\n",
    "          WHEN CO_PROVA_MT = '698' THEN 'Cinza (Digital)'\n",
    "          ELSE 'Não encontrado'\n",
    "      END AS CO_PROVA_MT,\n",
    "      NU_NOTA_CN,\n",
    "      NU_NOTA_CH,\n",
    "      NU_NOTA_LC,\n",
    "      NU_NOTA_MT,\n",
    "      TX_RESPOSTAS_CN,\n",
    "      TX_RESPOSTAS_CH,\n",
    "      TX_RESPOSTAS_LC,\n",
    "      TX_RESPOSTAS_MT,\n",
    "      CASE\n",
    "          WHEN TP_LINGUA = '0' THEN 'Inglês'\n",
    "          WHEN TP_LINGUA = '1' THEN 'Espanhol'\n",
    "          ELSE 'Não encontrado'\n",
    "      END AS TP_LINGUA,\n",
    "      TX_GABARITO_CN,\n",
    "      TX_GABARITO_CH,\n",
    "      TX_GABARITO_LC,\n",
    "      TX_GABARITO_MT\n",
    "    FROM tabela_enem_silver;\n",
    "    \"\"\")"
   ]
  },
  {
   "cell_type": "code",
   "execution_count": 38,
   "id": "75d380b8-a52d-49b9-bb68-4d6a57f91b6f",
   "metadata": {},
   "outputs": [
    {
     "name": "stdout",
     "output_type": "stream",
     "text": [
      "+-----------------+-----------------+-----------------+-----------------+-----------------+--------------+--------------+--------------+--------------+----------+----------+----------+----------+--------------------+--------------------+--------------------+--------------------+---------+--------------------+--------------------+--------------------+--------------------+\n",
      "|ID_PROVA_OBJETIVA|   TP_PRESENCA_CN|   TP_PRESENCA_CH|   TP_PRESENCA_LC|   TP_PRESENCA_MT|   CO_PROVA_CN|   CO_PROVA_CH|   CO_PROVA_LC|   CO_PROVA_MT|NU_NOTA_CN|NU_NOTA_CH|NU_NOTA_LC|NU_NOTA_MT|     TX_RESPOSTAS_CN|     TX_RESPOSTAS_CH|     TX_RESPOSTAS_LC|     TX_RESPOSTAS_MT|TP_LINGUA|      TX_GABARITO_CN|      TX_GABARITO_CH|      TX_GABARITO_LC|      TX_GABARITO_MT|\n",
      "+-----------------+-----------------+-----------------+-----------------+-----------------+--------------+--------------+--------------+--------------+----------+----------+----------+----------+--------------------+--------------------+--------------------+--------------------+---------+--------------------+--------------------+--------------------+--------------------+\n",
      "|                1|Presente na prova|Presente na prova|Presente na prova|Presente na prova|Não encontrado|Não encontrado|Não encontrado|Não encontrado|     472.9|     466.0|     497.3|     369.1|DECCEBAECBDADCDBB...|CCBCAEDAAECEDABED...|DBBCB99999BDCCDBB...|ADBBDEDCABCEDCACB...|   Inglês|BEEAAEBEEBADEADDA...|ACACEEBCCBABADBBB...|EBBADCABDABACBCEB...|BEDEEEAADBEBACABC...|\n",
      "|                2|Presente na prova|Presente na prova|Presente na prova|Presente na prova|Não encontrado|Não encontrado|Não encontrado|Não encontrado|     358.9|     495.4|     482.3|     416.5|DAEDEBDCDEBAAACDA...|CEACBBDEEABDDACAD...|99999ADBEAEBDACDA...|DACCCBDCCCBACCCCE...| Espanhol|DEADBAAAEBEECEBCB...|EEBCEEDBADBBCBABC...|ADBBEDCABAABBCBCD...|AADDDBEEEBEDDBEBA...|\n",
      "|                3|Presente na prova|Presente na prova|Presente na prova|Presente na prova|Não encontrado|Não encontrado|Não encontrado|Não encontrado|     574.2|     538.7|     582.6|     571.5|AABDAECAECECCBCBD...|ABACCEABCDADABACB...|ADBBC99999EDBCBBA...|DECCABCBCDBBBEAEC...|   Inglês|DADCCEBBCCACBEEBE...|EEBCEEDBADBBCBABC...|ADBBEDCABAABBCBCD...|DBEBACABCDBABECEE...|\n",
      "|                4|   Faltou à prova|   Faltou à prova|   Faltou à prova|   Faltou à prova|Não encontrado|Não encontrado|Não encontrado|Não encontrado|       0.0|       0.0|       0.0|       0.0|        Desconhecido|        Desconhecido|        Desconhecido|        Desconhecido| Espanhol|        Desconhecido|        Desconhecido|        Desconhecido|        Desconhecido|\n",
      "|                5|   Faltou à prova|   Faltou à prova|   Faltou à prova|   Faltou à prova|Não encontrado|Não encontrado|Não encontrado|Não encontrado|       0.0|       0.0|       0.0|       0.0|        Desconhecido|        Desconhecido|        Desconhecido|        Desconhecido| Espanhol|        Desconhecido|        Desconhecido|        Desconhecido|        Desconhecido|\n",
      "|                6|Presente na prova|Presente na prova|Presente na prova|Presente na prova|Não encontrado|Não encontrado|Não encontrado|Não encontrado|     522.0|     592.6|     582.0|     605.3|EEDAACCEEABAEADAC...|ABAAADBACCEEACABC...|99999BDAAACBBBEEB...|AAECDAEBBDCAAEDBA...| Espanhol|DEADBAAAEBEECEBCB...|CBABADBBCEEEBCBAD...|BBEDABDACACBABAEC...|AADDDBEEEBEDDBEBA...|\n",
      "|                7|Presente na prova|Presente na prova|Presente na prova|Presente na prova|Não encontrado|Não encontrado|Não encontrado|Não encontrado|     407.4|     480.1|     464.3|     581.5|CADACDBEBBCEACCEA...|AEADABBDEABAAAACC...|99999DDEEBCCBDADE...|DCAEDAAADEBEACDBA...| Espanhol|BEEAAEBEEBADEADDA...|EEBCEEDBADBBCBABC...|ADBBEDCABAABBCBCD...|BEDEEEAADBEBACABC...|\n",
      "|                8|Presente na prova|Presente na prova|Presente na prova|Presente na prova|Não encontrado|Não encontrado|Não encontrado|Não encontrado|     369.7|     398.2|     395.6|     473.8|CBACBAEABDBDDEEDA...|CABAEBAEBBCEECADA...|BCCAD99999CCDEBDB...|DAADEADABDECBDEAD...|   Inglês|BEEAAEBEEBADEADDA...|CBABADBBCEEEBCBAD...|BBEDABDACACBABAEC...|BEDEEEAADBEBACABC...|\n",
      "|                9|Presente na prova|Presente na prova|Presente na prova|Presente na prova|Não encontrado|Não encontrado|Não encontrado|Não encontrado|     370.7|     386.4|     354.2|     375.5|DDDACECEECBADDCBC...|EEDCAEEBCC*DEACCC...|99999ADBEBADECDBA...|CECC.BCEBBABCDCAC...| Espanhol|DEADBAAAEBEECEBCB...|ACACEEBCCBABADBBB...|EBBADCABDABACBCEB...|AADDDBEEEBEDDBEBA...|\n",
      "|               10|Presente na prova|Presente na prova|Presente na prova|Presente na prova|Não encontrado|Não encontrado|Não encontrado|Não encontrado|     443.5|     432.4|     515.3|     397.0|CBDAEECEBECBDADCB...|CEADCABBBEABAACBE...|99999CCEBDCEECBAE...|EAEEDCBEECACADEAB...| Espanhol|BEEAAEBEEBADEADDA...|EEBCEEDBADBBCBABC...|ADBBEDCABAABBCBCD...|BEDEEEAADBEBACABC...|\n",
      "|               11|Presente na prova|Presente na prova|Presente na prova|Presente na prova|Não encontrado|Não encontrado|Não encontrado|Não encontrado|     477.6|     596.9|     549.7|     583.2|ABBEADCEDCEBCBBAE...|ABABADBECCAEBC*AD...|BDDEA99999CCADCED...|ECABAECBBDEABECAC...|   Inglês|DADCCEBBCCACBEEBE...|CBABADBBCEEEBCBAD...|BBEDABDACACBABAEC...|DBEBACABCDBABECEE...|\n",
      "|               12|   Faltou à prova|   Faltou à prova|   Faltou à prova|   Faltou à prova|Não encontrado|Não encontrado|Não encontrado|Não encontrado|       0.0|       0.0|       0.0|       0.0|        Desconhecido|        Desconhecido|        Desconhecido|        Desconhecido|   Inglês|        Desconhecido|        Desconhecido|        Desconhecido|        Desconhecido|\n",
      "|               13|   Faltou à prova|   Faltou à prova|   Faltou à prova|   Faltou à prova|Não encontrado|Não encontrado|Não encontrado|Não encontrado|       0.0|       0.0|       0.0|       0.0|        Desconhecido|        Desconhecido|        Desconhecido|        Desconhecido| Espanhol|        Desconhecido|        Desconhecido|        Desconhecido|        Desconhecido|\n",
      "|               14|   Faltou à prova|   Faltou à prova|   Faltou à prova|   Faltou à prova|Não encontrado|Não encontrado|Não encontrado|Não encontrado|       0.0|       0.0|       0.0|       0.0|        Desconhecido|        Desconhecido|        Desconhecido|        Desconhecido|   Inglês|        Desconhecido|        Desconhecido|        Desconhecido|        Desconhecido|\n",
      "|               15|   Faltou à prova|   Faltou à prova|   Faltou à prova|   Faltou à prova|Não encontrado|Não encontrado|Não encontrado|Não encontrado|       0.0|       0.0|       0.0|       0.0|        Desconhecido|        Desconhecido|        Desconhecido|        Desconhecido| Espanhol|        Desconhecido|        Desconhecido|        Desconhecido|        Desconhecido|\n",
      "|               16|Presente na prova|Presente na prova|Presente na prova|Presente na prova|Não encontrado|Não encontrado|Não encontrado|Não encontrado|     376.4|     354.7|     525.8|     389.4|EBBAEEDECADBDCBCA...|ADEDDAABABAECACCB...|99999ADDBCDBBBEDD...|DAABCBDEECBCADCBE...| Espanhol|BEEAAEBEEBADEADDA...|BACCCBABBADCBCEEE...|BDABEABCADBCBAADD...|BEDEEEAADBEBACABC...|\n",
      "|               17|Presente na prova|Presente na prova|Presente na prova|Presente na prova|Não encontrado|Não encontrado|Não encontrado|Não encontrado|     423.0|     372.8|     488.7|     516.5|AADCEBCBECACBDDBC...|ABDBAACACBDEDEDAB...|BBCDA99999EDBCDBD...|DDBCBEADB*EDDBBCA...|   Inglês|DEADBAAAEBEECEBCB...|BACCCBABBADCBCEEE...|BDABEABCADBCBAADD...|AADDDBEEEBEDDBEBA...|\n",
      "|               18|Presente na prova|Presente na prova|Presente na prova|Presente na prova|Não encontrado|Não encontrado|Não encontrado|Não encontrado|     373.3|     405.2|     441.4|     496.5|ECCCECDD*BACBDADA...|CCBBECBCCABBBECCD...|99999BEEBCDEABCBC...|CDADCBEEDCAADAECB...| Espanhol|DEADBAAAEBEECEBCB...|BACCCBABBADCBCEEE...|BDABEABCADBCBAADD...|AADDDBEEEBEDDBEBA...|\n",
      "|               19|Presente na prova|Presente na prova|Presente na prova|Presente na prova|Não encontrado|Não encontrado|Não encontrado|Não encontrado|     451.8|     521.0|     538.4|     560.8|CEEDDCBDCDBAABEBD...|CCEBCAECBBAEABAAA...|99999DABBBBBCCCBE...|ECEBEBCCAEACBDEDE...| Espanhol|AAECACDEADCBCDDDB...|ACACEEBCCBABADBBB...|EBBADCABDABACBCEB...|EEEADBEBACABCDBAB...|\n",
      "|               20|Presente na prova|Presente na prova|Presente na prova|Presente na prova|Não encontrado|Não encontrado|Não encontrado|Não encontrado|     463.6|     417.3|     431.0|     397.9|DEEDEEEDCCBEDCACE...|DAAAABAACACBBDACD...|99999BDEEBEEDBBBD...|ECBBAEBCAEDCAAEDD...| Espanhol|AAECACDEADCBCDDDB...|CBABADBBCEEEBCBAD...|BBEDABDACACBABAEC...|EEEADBEBACABCDBAB...|\n",
      "+-----------------+-----------------+-----------------+-----------------+-----------------+--------------+--------------+--------------+--------------+----------+----------+----------+----------+--------------------+--------------------+--------------------+--------------------+---------+--------------------+--------------------+--------------------+--------------------+\n",
      "only showing top 20 rows\n",
      "\n"
     ]
    }
   ],
   "source": [
    "spark.sql(\"\"\"SELECT * FROM nessie.gold.dim_prova_objetiva\"\"\").show()"
   ]
  },
  {
   "cell_type": "markdown",
   "id": "c19bb8db-f141-4613-9f29-066832b19b6b",
   "metadata": {},
   "source": [
    "**CRIAÇÃO DA TABELA DE DIM.Q_SE NA CAMADA GOLD**"
   ]
  },
  {
   "cell_type": "code",
   "execution_count": 40,
   "id": "204912db-b141-4ebd-bcce-f343177d42d6",
   "metadata": {},
   "outputs": [
    {
     "name": "stderr",
     "output_type": "stream",
     "text": [
      "                                                                                \r"
     ]
    },
    {
     "data": {
      "text/plain": [
       "DataFrame[]"
      ]
     },
     "execution_count": 40,
     "metadata": {},
     "output_type": "execute_result"
    }
   ],
   "source": [
    "spark.sql(\"\"\"\n",
    "    CREATE TABLE nessie.gold.dim_q_se\n",
    "    USING iceberg\n",
    "    LOCATION 's3a://gold/dim_q_se/'\n",
    "    AS SELECT \n",
    "      ID AS ID_Q_SE,\n",
    "      Q001,\n",
    "      Q002,\n",
    "      Q003,\n",
    "      Q004,\n",
    "      Q005,\n",
    "      Q006,\n",
    "      Q007,\n",
    "      Q008,\n",
    "      Q009,\n",
    "      Q010,\n",
    "      Q011,\n",
    "      Q012,\n",
    "      Q013,\n",
    "      Q014,\n",
    "      Q015,\n",
    "      Q016,\n",
    "      Q017,\n",
    "      Q018,\n",
    "      Q019,\n",
    "      Q020,\n",
    "      Q021,\n",
    "      Q022,\n",
    "      Q023,\n",
    "      Q024,\n",
    "      Q025\n",
    "      FROM tabela_enem_silver LIMIT 0;\n",
    "    \"\"\")\n",
    "\n",
    "spark.sql(\"\"\"\n",
    "    INSERT INTO nessie.gold.dim_q_se\n",
    "    SELECT \n",
    "      ID AS ID_Q_SE,\n",
    "      Q001,\n",
    "      Q002,\n",
    "      Q003,\n",
    "      Q004,\n",
    "      Q005,\n",
    "      Q006,\n",
    "      Q007,\n",
    "      Q008,\n",
    "      Q009,\n",
    "      Q010,\n",
    "      Q011,\n",
    "      Q012,\n",
    "      Q013,\n",
    "      Q014,\n",
    "      Q015,\n",
    "      Q016,\n",
    "      Q017,\n",
    "      Q018,\n",
    "      Q019,\n",
    "      Q020,\n",
    "      Q021,\n",
    "      Q022,\n",
    "      Q023,\n",
    "      Q024,\n",
    "      Q025\n",
    "    FROM tabela_enem_silver;\n",
    "    \"\"\")"
   ]
  },
  {
   "cell_type": "code",
   "execution_count": 42,
   "id": "009b4bcb-dda1-4891-89b3-814d3695aa18",
   "metadata": {},
   "outputs": [
    {
     "name": "stdout",
     "output_type": "stream",
     "text": [
      "+-------+------------+------------+------------+------------+------------+------------+------------+------------+------------+------------+------------+------------+------------+------------+------------+------------+------------+------------+------------+------------+------------+------------+------------+------------+------------+\n",
      "|ID_Q_SE|        Q001|        Q002|        Q003|        Q004|        Q005|        Q006|        Q007|        Q008|        Q009|        Q010|        Q011|        Q012|        Q013|        Q014|        Q015|        Q016|        Q017|        Q018|        Q019|        Q020|        Q021|        Q022|        Q023|        Q024|        Q025|\n",
      "+-------+------------+------------+------------+------------+------------+------------+------------+------------+------------+------------+------------+------------+------------+------------+------------+------------+------------+------------+------------+------------+------------+------------+------------+------------+------------+\n",
      "|8628212|           E|           C|           C|           B|           4|           B|           A|           C|           C|           A|           A|           B|           A|           A|           A|           B|           A|           A|           B|           A|           A|           D|           A|           A|           A|\n",
      "|8628213|           B|           D|           A|           B|           4|           E|           A|           B|           C|           A|           B|           B|           A|           A|           A|           B|           A|           A|           B|           A|           A|           C|           A|           B|           B|\n",
      "|8628214|           E|           E|           C|           C|           5|           D|           A|           C|           E|           B|           B|           B|           A|           B|           A|           B|           A|           A|           C|           A|           A|           E|           A|           B|           B|\n",
      "|8628215|           F|           E|           D|           B|           4|           D|           A|           C|           D|           B|           B|           B|           B|           B|           A|           A|           A|           A|           C|           A|           A|           D|           B|           C|           B|\n",
      "|8628216|           H|           E|           C|           B|           4|           B|           A|           B|           C|           A|           A|           B|           A|           A|           A|           A|           A|           A|           B|           A|           A|           C|           A|           A|           A|\n",
      "|8628217|           E|           E|           B|           B|           1|           B|           A|           C|           D|           A|           A|           B|           A|           A|           A|           A|           A|           A|           B|           A|           A|           B|           A|           A|           B|\n",
      "|8628218|           E|           E|           B|           B|           4|           B|           A|           B|           C|           A|           A|           B|           A|           B|           B|           A|           A|           A|           B|           A|           A|           B|           A|           A|           B|\n",
      "|8628219|           B|           C|           A|           A|           2|           B|           A|           B|           C|           A|           A|           B|           A|           A|           A|           B|           A|           A|           B|           A|           A|           C|           A|           B|           B|\n",
      "|8628220|           D|           B|           C|           B|           4|           B|           A|           C|           D|           B|           A|           B|           A|           A|           A|           A|           A|           A|           B|           A|           A|           C|           A|           B|           B|\n",
      "|8628221|           E|           E|           F|           F|           1|           F|           A|           C|           C|           B|           A|           B|           A|           B|           A|           B|           A|           A|           B|           A|           A|           C|           B|           A|           B|\n",
      "|8628222|           C|           D|           D|           D|           3|           G|           A|           B|           C|           B|           B|           B|           B|           B|           A|           B|           A|           A|           C|           A|           A|           D|           A|           B|           B|\n",
      "|8628223|           G|           F|           C|           D|           4|           N|           A|           B|           C|           B|           A|           B|           B|           B|           B|           A|           B|           B|           C|           A|           B|           E|           B|           E|           B|\n",
      "|8628224|Desconhecido|Desconhecido|Desconhecido|Desconhecido|Desconhecido|Desconhecido|Desconhecido|Desconhecido|Desconhecido|Desconhecido|Desconhecido|Desconhecido|Desconhecido|Desconhecido|Desconhecido|Desconhecido|Desconhecido|Desconhecido|Desconhecido|Desconhecido|Desconhecido|Desconhecido|Desconhecido|Desconhecido|Desconhecido|\n",
      "|8628225|           C|           C|           B|           A|           2|           B|           A|           B|           C|           A|           A|           B|           A|           A|           A|           A|           A|           A|           B|           A|           A|           C|           A|           A|           B|\n",
      "|8628226|           G|           F|           D|           E|           4|           C|           A|           C|           D|           B|           A|           B|           B|           B|           A|           B|           A|           A|           C|           A|           A|           C|           A|           B|           B|\n",
      "|8628227|           D|           C|           B|           B|           5|           C|           A|           B|           C|           B|           A|           B|           A|           A|           A|           A|           A|           A|           B|           A|           B|           C|           A|           A|           B|\n",
      "|8628228|           E|           A|           F|           F|           3|           F|           A|           B|           C|           B|           A|           B|           A|           A|           A|           B|           A|           A|           B|           A|           A|           C|           A|           B|           B|\n",
      "|8628229|           F|           E|           D|           B|           5|           H|           A|           D|           D|           C|           C|           B|           B|           B|           A|           A|           A|           A|           B|           B|           A|           E|           B|           C|           B|\n",
      "|8628230|           B|           F|           D|           D|           3|           E|           A|           B|           C|           B|           A|           B|           B|           A|           A|           B|           A|           A|           B|           A|           A|           C|           A|           B|           A|\n",
      "|8628231|           E|           B|           A|           A|           4|           B|           A|           B|           C|           A|           A|           B|           A|           A|           A|           B|           A|           A|           B|           A|           A|           C|           A|           A|           B|\n",
      "+-------+------------+------------+------------+------------+------------+------------+------------+------------+------------+------------+------------+------------+------------+------------+------------+------------+------------+------------+------------+------------+------------+------------+------------+------------+------------+\n",
      "only showing top 20 rows\n",
      "\n"
     ]
    }
   ],
   "source": [
    "spark.sql(\"\"\"SELECT * FROM nessie.gold.dim_q_se\"\"\").show()"
   ]
  },
  {
   "cell_type": "markdown",
   "id": "334861c1-b6ba-4593-b9ae-7a4ff06ff758",
   "metadata": {},
   "source": [
    "**CRIAÇÃO DA TABELA DE DIM.REDACAO NA CAMADA GOLD**"
   ]
  },
  {
   "cell_type": "code",
   "execution_count": 44,
   "id": "597ed9d3-5f75-44ae-aef9-5c294e711115",
   "metadata": {},
   "outputs": [
    {
     "name": "stderr",
     "output_type": "stream",
     "text": [
      "                                                                                \r"
     ]
    },
    {
     "data": {
      "text/plain": [
       "DataFrame[]"
      ]
     },
     "execution_count": 44,
     "metadata": {},
     "output_type": "execute_result"
    }
   ],
   "source": [
    "spark.sql(\"\"\"\n",
    "    CREATE TABLE nessie.gold.dim_redacao\n",
    "    USING iceberg\n",
    "    LOCATION 's3a://gold/dim_redacao/'\n",
    "    AS SELECT \n",
    "        ID AS ID_REDACAO,\n",
    "        TP_STATUS_REDACAO,\n",
    "        NU_NOTA_COMP1,\n",
    "        NU_NOTA_COMP2,\n",
    "        NU_NOTA_COMP3,\n",
    "        NU_NOTA_COMP4,\n",
    "        NU_NOTA_COMP5,\n",
    "        NU_NOTA_REDACAO\n",
    "      FROM tabela_enem_silver LIMIT 0;\n",
    "    \"\"\")\n",
    "\n",
    "spark.sql(\"\"\"\n",
    "    INSERT INTO nessie.gold.dim_redacao\n",
    "    SELECT \n",
    "      ID AS ID_REDACAO,\n",
    "      CASE\n",
    "          WHEN TP_STATUS_REDACAO = '1' THEN 'Sem problemas'\n",
    "          WHEN TP_STATUS_REDACAO = '2' THEN 'Anulada'\n",
    "          WHEN TP_STATUS_REDACAO = '3' THEN 'Cópia Texto Motivador'\n",
    "          WHEN TP_STATUS_REDACAO = '4' THEN 'Em Branco'\n",
    "          WHEN TP_STATUS_REDACAO = '6' THEN 'Fuga ao tema'\n",
    "          WHEN TP_STATUS_REDACAO = '7' THEN 'Não atendimento ao tipo textual'\n",
    "          WHEN TP_STATUS_REDACAO = '8' THEN 'Texto insuficiente'\n",
    "          WHEN TP_STATUS_REDACAO = '9' THEN 'Parte desconectada'\n",
    "          ELSE TP_STATUS_REDACAO\n",
    "      END AS TP_STATUS_REDACAO,\n",
    "      NU_NOTA_COMP1,\n",
    "      NU_NOTA_COMP2,\n",
    "      NU_NOTA_COMP3,\n",
    "      NU_NOTA_COMP4,\n",
    "      NU_NOTA_COMP5,\n",
    "      NU_NOTA_REDACAO\n",
    "    FROM tabela_enem_silver;\n",
    "    \"\"\")"
   ]
  },
  {
   "cell_type": "code",
   "execution_count": 46,
   "id": "53f2902d-89aa-4b85-bd76-37219898b03c",
   "metadata": {},
   "outputs": [
    {
     "name": "stdout",
     "output_type": "stream",
     "text": [
      "+----------+-----------------+-------------+-------------+-------------+-------------+-------------+---------------+\n",
      "|ID_REDACAO|TP_STATUS_REDACAO|NU_NOTA_COMP1|NU_NOTA_COMP2|NU_NOTA_COMP3|NU_NOTA_COMP4|NU_NOTA_COMP5|NU_NOTA_REDACAO|\n",
      "+----------+-----------------+-------------+-------------+-------------+-------------+-------------+---------------+\n",
      "|   4583466|    Sem problemas|        140.0|         80.0|        120.0|        120.0|         60.0|          520.0|\n",
      "|   4583467|    Sem problemas|        120.0|        120.0|        120.0|        100.0|        180.0|          640.0|\n",
      "|   4583468|     Desconhecido|          0.0|          0.0|          0.0|          0.0|          0.0|            0.0|\n",
      "|   4583469|     Desconhecido|          0.0|          0.0|          0.0|          0.0|          0.0|            0.0|\n",
      "|   4583470|    Sem problemas|        100.0|        140.0|        120.0|        140.0|        100.0|          600.0|\n",
      "|   4583471|    Sem problemas|        140.0|        120.0|        120.0|        100.0|          0.0|          480.0|\n",
      "|   4583472|    Sem problemas|        120.0|        100.0|         80.0|         80.0|         80.0|          460.0|\n",
      "|   4583473|    Sem problemas|        120.0|        120.0|        120.0|        120.0|        120.0|          600.0|\n",
      "|   4583474|    Sem problemas|        120.0|         80.0|        120.0|        120.0|        140.0|          580.0|\n",
      "|   4583475|     Desconhecido|          0.0|          0.0|          0.0|          0.0|          0.0|            0.0|\n",
      "|   4583476|     Desconhecido|          0.0|          0.0|          0.0|          0.0|          0.0|            0.0|\n",
      "|   4583477|    Sem problemas|        160.0|        120.0|        160.0|        160.0|        140.0|          740.0|\n",
      "|   4583478|     Desconhecido|          0.0|          0.0|          0.0|          0.0|          0.0|            0.0|\n",
      "|   4583479|    Sem problemas|        120.0|        100.0|        120.0|        120.0|        100.0|          560.0|\n",
      "|   4583480|    Sem problemas|        120.0|        100.0|        120.0|        100.0|          0.0|          440.0|\n",
      "|   4583481|    Sem problemas|        120.0|        180.0|        160.0|        120.0|        120.0|          700.0|\n",
      "|   4583482|     Desconhecido|          0.0|          0.0|          0.0|          0.0|          0.0|            0.0|\n",
      "|   4583483|    Sem problemas|        100.0|        120.0|        120.0|        120.0|         60.0|          520.0|\n",
      "|   4583484|    Sem problemas|        120.0|        160.0|        120.0|        140.0|        100.0|          640.0|\n",
      "|   4583485|     Desconhecido|          0.0|          0.0|          0.0|          0.0|          0.0|            0.0|\n",
      "+----------+-----------------+-------------+-------------+-------------+-------------+-------------+---------------+\n",
      "only showing top 20 rows\n",
      "\n"
     ]
    }
   ],
   "source": [
    "spark.sql(\"\"\"SELECT * FROM nessie.gold.dim_redacao\"\"\").show()"
   ]
  },
  {
   "cell_type": "markdown",
   "id": "e34adfb3-b5f5-431e-b9f2-9337ff2087ec",
   "metadata": {},
   "source": [
    "**CRIAÇÃO DA TABELA DE DIM.FATO_RESULTADOS_ENEM NA CAMADA GOLD**"
   ]
  },
  {
   "cell_type": "code",
   "execution_count": 60,
   "id": "51c2164e-5edd-48aa-ab37-004a85b7365b",
   "metadata": {},
   "outputs": [
    {
     "name": "stderr",
     "output_type": "stream",
     "text": [
      "                                                                                \r"
     ]
    },
    {
     "data": {
      "text/plain": [
       "DataFrame[]"
      ]
     },
     "execution_count": 60,
     "metadata": {},
     "output_type": "execute_result"
    }
   ],
   "source": [
    "# Criando a tabela usando Iceberg\n",
    "spark.sql(\"\"\"\n",
    "    CREATE TABLE nessie.gold.fato_resultados_enem\n",
    "    USING iceberg\n",
    "    LOCATION 's3a://gold/fato_resultados_enem/'\n",
    "    AS SELECT \n",
    "        ID AS ID_PARTICIPANTE,\n",
    "        ID AS ID_ESCOLA,\n",
    "        ID AS ID_APLICACAO_PROVA,\n",
    "        ID AS ID_PROVA_OBJETIVA,\n",
    "        ID AS ID_Q_SE,\n",
    "        ID AS ID_REDACAO,\n",
    "        NU_NOTA_CN,\n",
    "        NU_NOTA_CH,\n",
    "        NU_NOTA_LC,\n",
    "        NU_NOTA_MT,\n",
    "        TX_RESPOSTAS_CN,\n",
    "        TX_RESPOSTAS_CH,\n",
    "        TX_RESPOSTAS_LC,\n",
    "        TX_RESPOSTAS_MT,\n",
    "        TX_GABARITO_CN,\n",
    "        TX_GABARITO_CH,\n",
    "        TX_GABARITO_LC,\n",
    "        TX_GABARITO_MT,\n",
    "        NU_NOTA_COMP1,\n",
    "        NU_NOTA_COMP2,\n",
    "        NU_NOTA_COMP3,\n",
    "        NU_NOTA_COMP4,\n",
    "        NU_NOTA_COMP5,\n",
    "        NU_NOTA_REDACAO\n",
    "    FROM tabela_enem_silver\n",
    "    LIMIT 0;\n",
    "\"\"\")\n",
    "\n",
    "# Inserindo os dados na tabela\n",
    "spark.sql(\"\"\"\n",
    "    INSERT INTO nessie.gold.fato_resultados_enem\n",
    "    SELECT \n",
    "        -- Chaves estrangeiras (FK)\n",
    "        p.ID_PARTICIPANTE,\n",
    "        e.ID_ESCOLA,\n",
    "        ap.ID_APLICACAO_PROVA,\n",
    "        pr.ID_PROVA_OBJETIVA,\n",
    "        q.ID_Q_SE,\n",
    "        r.ID_REDACAO,\n",
    "\n",
    "        -- Notas e resultados das provas\n",
    "        pr.NU_NOTA_CN AS NOTA_CN,\n",
    "        pr.NU_NOTA_CH AS NOTA_CH,\n",
    "        pr.NU_NOTA_LC AS NOTA_LC,\n",
    "        pr.NU_NOTA_MT AS NOTA_MT,\n",
    "\n",
    "        -- Respostas de múltipla escolha\n",
    "        pr.TX_RESPOSTAS_CN,\n",
    "        pr.TX_RESPOSTAS_CH,\n",
    "        pr.TX_RESPOSTAS_LC,\n",
    "        pr.TX_RESPOSTAS_MT,\n",
    "\n",
    "        -- Gabarito das provas\n",
    "        pr.TX_GABARITO_CN,\n",
    "        pr.TX_GABARITO_CH,\n",
    "        pr.TX_GABARITO_LC,\n",
    "        pr.TX_GABARITO_MT,\n",
    "\n",
    "        -- Notas da redação\n",
    "        r.NU_NOTA_COMP1,\n",
    "        r.NU_NOTA_COMP2,\n",
    "        r.NU_NOTA_COMP3,\n",
    "        r.NU_NOTA_COMP4,\n",
    "        r.NU_NOTA_COMP5,\n",
    "        r.NU_NOTA_REDACAO\n",
    "\n",
    "    FROM\n",
    "        tabela_enem_silver en\n",
    "    LEFT JOIN nessie.gold.dim_participante p\n",
    "        ON en.ID = p.ID_PARTICIPANTE\n",
    "    LEFT JOIN nessie.gold.dim_escola e\n",
    "        ON en.ID = e.ID_ESCOLA\n",
    "    LEFT JOIN nessie.gold.dim_aplicacao_prova ap\n",
    "        ON en.ID = ap.ID_APLICACAO_PROVA\n",
    "    LEFT JOIN nessie.gold.dim_prova_objetiva pr\n",
    "        ON en.ID = pr.ID_PROVA_OBJETIVA\n",
    "    LEFT JOIN nessie.gold.dim_q_se q\n",
    "        ON en.ID = q.ID_Q_SE\n",
    "    LEFT JOIN nessie.gold.dim_redacao r\n",
    "        ON en.ID = r.ID_REDACAO;\n",
    "\"\"\")\n"
   ]
  },
  {
   "cell_type": "code",
   "execution_count": 61,
   "id": "7bcf1898-be34-40e8-9285-89ba08083700",
   "metadata": {},
   "outputs": [
    {
     "name": "stdout",
     "output_type": "stream",
     "text": [
      "+---------------+---------+------------------+-----------------+-------+----------+----------+----------+----------+----------+--------------------+--------------------+--------------------+--------------------+--------------------+--------------------+--------------------+--------------------+-------------+-------------+-------------+-------------+-------------+---------------+\n",
      "|ID_PARTICIPANTE|ID_ESCOLA|ID_APLICACAO_PROVA|ID_PROVA_OBJETIVA|ID_Q_SE|ID_REDACAO|NU_NOTA_CN|NU_NOTA_CH|NU_NOTA_LC|NU_NOTA_MT|     TX_RESPOSTAS_CN|     TX_RESPOSTAS_CH|     TX_RESPOSTAS_LC|     TX_RESPOSTAS_MT|      TX_GABARITO_CN|      TX_GABARITO_CH|      TX_GABARITO_LC|      TX_GABARITO_MT|NU_NOTA_COMP1|NU_NOTA_COMP2|NU_NOTA_COMP3|NU_NOTA_COMP4|NU_NOTA_COMP5|NU_NOTA_REDACAO|\n",
      "+---------------+---------+------------------+-----------------+-------+----------+----------+----------+----------+----------+--------------------+--------------------+--------------------+--------------------+--------------------+--------------------+--------------------+--------------------+-------------+-------------+-------------+-------------+-------------+---------------+\n",
      "|            300|      300|               300|              300|    300|       300|     404.6|     487.1|     443.4|     388.6|CEDDDEDAEDDEADBAA...|ACABCBBABCCEDDBBE...|99999BDCABABDEECE...|DCACBEDCABBDAAEED...|AAECACDEADCBCDDDB...|CBABADBBCEEEBCBAD...|BBEDABDACACBABAEC...|EEEADBEBACABCDBAB...|        120.0|        120.0|        120.0|         80.0|         80.0|          520.0|\n",
      "|            406|      406|               406|              406|    406|       406|     354.5|     416.7|     424.8|     474.7|DDCEEBDEDBBCBAECE...|ABAAABAACAABABABC...|99999EABDBCBBBACE...|AECBDADECAAADAECB...|DEADBAAAEBEECEBCB...|CBABADBBCEEEBCBAD...|BBEDABDACACBABAEC...|AADDDBEEEBEDDBEBA...|        100.0|        120.0|        120.0|         80.0|          0.0|          420.0|\n",
      "|            412|      412|               412|              412|    412|       412|     505.4|     517.5|     551.2|     523.7|DEDDBCCEDBECDAACA...|ACABEBCBABAABDBDB...|99999ACBDAEACBCDE...|CBBADDCEABDADDDDD...|DEADBAAAEBEECEBCB...|ACACEEBCCBABADBBB...|EBBADCABDABACBCEB...|AADDDBEEEBEDDBEBA...|        160.0|        200.0|        200.0|        200.0|        160.0|          920.0|\n",
      "|            497|      497|               497|              497|    497|       497|     512.8|     547.8|     569.2|     546.3|CBACDEABEBDDDDDAC...|CCABAEACABABCDCAB...|EBBDD99999BACBCDB...|AAEEADECD.DBADCAA...|BEEAAEBEEBADEADDA...|ACACEEBCCBABADBBB...|EBBADCABDABACBCEB...|BEDEEEAADBEBACABC...|        120.0|        140.0|        120.0|        160.0|        120.0|          660.0|\n",
      "|            587|      587|               587|              587|    587|       587|     406.7|     474.5|     526.5|     385.2|BEADEDADECCEEDBCC...|BCECCEAEAACAAAABE...|99999DCBEBADCDCBD...|EBCDBBDCEEBCABCBD...|BEEAAEBEEBADEADDA...|ACACEEBCCBABADBBB...|EBBADCABDABACBCEB...|BEDEEEAADBEBACABC...|        140.0|        120.0|        100.0|        120.0|        100.0|          580.0|\n",
      "|            596|      596|               596|              596|    596|       596|     359.2|     434.5|     418.8|     530.3|DAECBDCAABAABBDEC...|BDAEABACBDBBBABAD...|99999EBCCABDCBABB...|DBADAAEDBBBABDCBB...|DEADBAAAEBEECEBCB...|ACACEEBCCBABADBBB...|EBBADCABDABACBCEB...|AADDDBEEEBEDDBEBA...|          0.0|          0.0|          0.0|          0.0|          0.0|            0.0|\n",
      "|            731|      731|               731|              731|    731|       731|       0.0|       0.0|       0.0|       0.0|        Desconhecido|        Desconhecido|        Desconhecido|        Desconhecido|        Desconhecido|        Desconhecido|        Desconhecido|        Desconhecido|          0.0|          0.0|          0.0|          0.0|          0.0|            0.0|\n",
      "|            762|      762|               762|              762|    762|       762|     440.5|     394.4|     508.8|     398.8|EADBBADDDBEEBDCDE...|EDADDBADCBEEDAADB...|DEABB99999DBBCCCE...|EECCBBCDAAEBEDBEB...|DADCCEBBCCACBEEBE...|BACCCBABBADCBCEEE...|BDABEABCADBCBAADD...|DBEBACABCDBABECEE...|        100.0|        120.0|        120.0|        160.0|         60.0|          560.0|\n",
      "|            784|      784|               784|              784|    784|       784|       0.0|       0.0|       0.0|       0.0|        Desconhecido|        Desconhecido|        Desconhecido|        Desconhecido|        Desconhecido|        Desconhecido|        Desconhecido|        Desconhecido|          0.0|          0.0|          0.0|          0.0|          0.0|            0.0|\n",
      "|            787|      787|               787|              787|    787|       787|     415.8|     497.7|     539.7|     438.2|DADBEADBEABDCCEBB...|CEECDECBCADDDBAAB...|99999DDAECBBBCBBC...|EBBACEDCCBCCBDEBE...|AAECACDEADCBCDDDB...|EEBCEEDBADBBCBABC...|ADBBEDCABAABBCBCD...|EEEADBEBACABCDBAB...|        120.0|        120.0|        100.0|        120.0|        100.0|          560.0|\n",
      "|            842|      842|               842|              842|    842|       842|     644.6|     661.9|     626.7|     723.3|BEEAAECCEBBDEADBD...|EABCCBABCBACECEEE...|99999ABCADBCBAAEE...|AEBECBAADBEBABCAC...|BEEAAEBEEBADEADDA...|BACCCBABBADCBCEEE...|BDABEABCADBCBAADD...|BEDEEEAADBEBACABC...|        160.0|        160.0|        180.0|        180.0|        200.0|          880.0|\n",
      "|            988|      988|               988|              988|    988|       988|     541.2|     464.0|     579.9|     526.9|AEEDDCEEADCACDBEB...|ACDCCBDDABEEEBAAD...|ACDDE99999ABDCBDD...|EBCEEDDDCDBEACECD...|AAECACDEADCBCDDDB...|EEBCEEDBADBBCBABC...|ADBBEDCABAABBCBCD...|EEEADBEBACABCDBAB...|        140.0|        140.0|        120.0|        140.0|        160.0|          700.0|\n",
      "|           1030|     1030|              1030|             1030|   1030|      1030|       0.0|       0.0|       0.0|       0.0|        Desconhecido|        Desconhecido|        Desconhecido|        Desconhecido|        Desconhecido|        Desconhecido|        Desconhecido|        Desconhecido|          0.0|          0.0|          0.0|          0.0|          0.0|            0.0|\n",
      "|           1034|     1034|              1034|             1034|   1034|      1034|       0.0|       0.0|       0.0|       0.0|        Desconhecido|        Desconhecido|        Desconhecido|        Desconhecido|        Desconhecido|        Desconhecido|        Desconhecido|        Desconhecido|          0.0|          0.0|          0.0|          0.0|          0.0|            0.0|\n",
      "|           1051|     1051|              1051|             1051|   1051|      1051|     407.3|     553.5|     544.2|     544.3|BBCBBECDDCEBCACAC...|ACACAECCDBCAACBEE...|CBAAE99999EABDECE...|BCDECBCADDDCCDCDB...|BEEAAEBEEBADEADDA...|ACACEEBCCBABADBBB...|EBBADCABDABACBCEB...|BEDEEEAADBEBACABC...|        120.0|        120.0|        120.0|        120.0|        160.0|          640.0|\n",
      "|           1064|     1064|              1064|             1064|   1064|      1064|     413.1|     486.0|     522.0|     503.9|DDCABBEEAEDCBDADA...|DCACCEDDADBEADEBA...|ABCDE99999BBDCEDE...|CBEBCBEBACAEABCCA...|DEADBAAAEBEECEBCB...|EEBCEEDBADBBCBABC...|ADBBEDCABAABBCBCD...|AADDDBEEEBEDDBEBA...|        120.0|        120.0|        120.0|        120.0|        140.0|          620.0|\n",
      "|           1156|     1156|              1156|             1156|   1156|      1156|     493.3|     563.4|     514.8|     490.8|ADBDCBAEDACCCACDD...|BCACEEBCACEDADBDA...|99999ABDDABDCBCEA...|BDBCBEDACDABDEBCC...|DEADBAAAEBEECEBCB...|ACACEEBCCBABADBBB...|EBBADCABDABACBCEB...|AADDDBEEEBEDDBEBA...|        120.0|        160.0|        120.0|        180.0|        120.0|          700.0|\n",
      "|           1163|     1163|              1163|             1163|   1163|      1163|     516.3|     535.6|     539.9|     497.8|DEDDAEDCEEEAABEDA...|EEBAABAEABADDCAAE...|99999CADEBBABADDA...|CBABCCDBADEAAEACA...|DEADBAAAEBEECEBCB...|BACCCBABBADCBCEEE...|BDABEABCADBCBAADD...|AADDDBEEEBEDDBEBA...|        100.0|        120.0|        120.0|        100.0|          0.0|          440.0|\n",
      "|           1243|     1243|              1243|             1243|   1243|      1243|     485.7|     549.7|     503.1|     553.6|AEABEDCEECAADECCB...|CCBEACBCAEDBADEBE...|99999ECEDBACAEBCC...|EC*ABCECBCACECDBA...|DEADBAAAEBEECEBCB...|ACACEEBCCBABADBBB...|EBBADCABDABACBCEB...|AADDDBEEEBEDDBEBA...|        120.0|        120.0|        120.0|        120.0|          0.0|          480.0|\n",
      "|           1274|     1274|              1274|             1274|   1274|      1274|     559.2|     607.9|     571.3|     489.2|EEEDBCAEDDCCBDDBB...|BBAEADBECEEBBCDAA...|BBDDA99999CAABDEC...|ECBBCBCCABCABDECB...|AAECACDEADCBCDDDB...|CBABADBBCEEEBCBAD...|BBEDABDACACBABAEC...|EEEADBEBACABCDBAB...|        140.0|        180.0|        160.0|        140.0|        140.0|          760.0|\n",
      "+---------------+---------+------------------+-----------------+-------+----------+----------+----------+----------+----------+--------------------+--------------------+--------------------+--------------------+--------------------+--------------------+--------------------+--------------------+-------------+-------------+-------------+-------------+-------------+---------------+\n",
      "only showing top 20 rows\n",
      "\n"
     ]
    },
    {
     "name": "stderr",
     "output_type": "stream",
     "text": [
      "                                                                                \r"
     ]
    }
   ],
   "source": [
    "spark.sql(\"\"\"SELECT * FROM nessie.gold.fato_resultados_enem\"\"\").show()"
   ]
  },
  {
   "cell_type": "code",
   "execution_count": 63,
   "id": "7d704d9b-36b0-4fd7-be74-b03f4bfacd39",
   "metadata": {},
   "outputs": [
    {
     "name": "stdout",
     "output_type": "stream",
     "text": [
      "+------------------+---------+-------+\n",
      "|          col_name|data_type|comment|\n",
      "+------------------+---------+-------+\n",
      "|   ID_PARTICIPANTE|      int|   NULL|\n",
      "|         ID_ESCOLA|      int|   NULL|\n",
      "|ID_APLICACAO_PROVA|      int|   NULL|\n",
      "| ID_PROVA_OBJETIVA|      int|   NULL|\n",
      "|           ID_Q_SE|      int|   NULL|\n",
      "|        ID_REDACAO|      int|   NULL|\n",
      "|        NU_NOTA_CN|   double|   NULL|\n",
      "|        NU_NOTA_CH|   double|   NULL|\n",
      "|        NU_NOTA_LC|   double|   NULL|\n",
      "|        NU_NOTA_MT|   double|   NULL|\n",
      "|   TX_RESPOSTAS_CN|   string|   NULL|\n",
      "|   TX_RESPOSTAS_CH|   string|   NULL|\n",
      "|   TX_RESPOSTAS_LC|   string|   NULL|\n",
      "|   TX_RESPOSTAS_MT|   string|   NULL|\n",
      "|    TX_GABARITO_CN|   string|   NULL|\n",
      "|    TX_GABARITO_CH|   string|   NULL|\n",
      "|    TX_GABARITO_LC|   string|   NULL|\n",
      "|    TX_GABARITO_MT|   string|   NULL|\n",
      "|     NU_NOTA_COMP1|   double|   NULL|\n",
      "|     NU_NOTA_COMP2|   double|   NULL|\n",
      "+------------------+---------+-------+\n",
      "only showing top 20 rows\n",
      "\n"
     ]
    }
   ],
   "source": [
    "spark.sql(\"DESCRIBE FORMATTED nessie.gold.fato_resultados_enem\").show()\n"
   ]
  },
  {
   "cell_type": "code",
   "execution_count": 65,
   "id": "08f22f93-52bb-45af-9904-f83baaed33c1",
   "metadata": {},
   "outputs": [
    {
     "name": "stderr",
     "output_type": "stream",
     "text": [
      "[Stage 97:=================================================>        (6 + 1) / 7]\r"
     ]
    },
    {
     "name": "stdout",
     "output_type": "stream",
     "text": [
      "+------+---------------+-----------------+\n",
      "|NU_ANO|ID_PARTICIPANTE|      MEDIA_TOTAL|\n",
      "+------+---------------+-----------------+\n",
      "|  2019|        2512768|850.8199999999999|\n",
      "|  2020|       10041752|858.5799999999999|\n",
      "|  2021|       11769458|           862.68|\n",
      "|  2022|       15196456|855.9799999999999|\n",
      "|  2023|       19660803|862.5799999999999|\n",
      "+------+---------------+-----------------+\n",
      "\n"
     ]
    },
    {
     "name": "stderr",
     "output_type": "stream",
     "text": [
      "                                                                                \r"
     ]
    }
   ],
   "source": [
    "spark.sql(\"\"\"\n",
    "    WITH medias AS (\n",
    "        SELECT\n",
    "            p.NU_ANO,  -- Ano do participante\n",
    "            p.ID_PARTICIPANTE,  -- ID do participante\n",
    "            (\n",
    "                (pr.NU_NOTA_CN + pr.NU_NOTA_CH + pr.NU_NOTA_LC + pr.NU_NOTA_MT + r.NU_NOTA_REDACAO) / 5.0\n",
    "            ) AS MEDIA_TOTAL  -- Média total de todas as provas (objetivas + redação)\n",
    "        FROM\n",
    "            nessie.gold.fato_resultados_enem f\n",
    "        LEFT JOIN nessie.gold.dim_participante p\n",
    "            ON f.ID_PARTICIPANTE = p.ID_PARTICIPANTE\n",
    "        LEFT JOIN nessie.gold.dim_prova_objetiva pr\n",
    "            ON f.ID_PROVA_OBJETIVA = pr.ID_PROVA_OBJETIVA\n",
    "        LEFT JOIN nessie.gold.dim_redacao r\n",
    "            ON f.ID_REDACAO = r.ID_REDACAO\n",
    "    )\n",
    "    SELECT\n",
    "        m.NU_ANO,\n",
    "        m.ID_PARTICIPANTE,\n",
    "        m.MEDIA_TOTAL\n",
    "    FROM\n",
    "        medias m\n",
    "    WHERE\n",
    "        (m.NU_ANO, m.MEDIA_TOTAL) IN (\n",
    "            SELECT\n",
    "                NU_ANO,\n",
    "                MAX(MEDIA_TOTAL) AS MEDIA_TOTAL\n",
    "            FROM\n",
    "                medias\n",
    "            GROUP BY\n",
    "                NU_ANO\n",
    "        )\n",
    "    ORDER BY\n",
    "        m.NU_ANO, m.MEDIA_TOTAL DESC\n",
    "\"\"\").show()\n"
   ]
  },
  {
   "cell_type": "code",
   "execution_count": 58,
   "id": "4892bef1-d629-4119-a137-1fa630990ddd",
   "metadata": {},
   "outputs": [],
   "source": [
    "spark.sparkContext.cancelAllJobs()"
   ]
  },
  {
   "cell_type": "code",
   "execution_count": null,
   "id": "b0afdc39-5068-402c-8d6e-cded49e89148",
   "metadata": {},
   "outputs": [],
   "source": [
    "spark.stop()"
   ]
  }
 ],
 "metadata": {
  "kernelspec": {
   "display_name": "Python 3 (ipykernel)",
   "language": "python",
   "name": "python3"
  },
  "language_info": {
   "codemirror_mode": {
    "name": "ipython",
    "version": 3
   },
   "file_extension": ".py",
   "mimetype": "text/x-python",
   "name": "python",
   "nbconvert_exporter": "python",
   "pygments_lexer": "ipython3",
   "version": "3.12.7"
  }
 },
 "nbformat": 4,
 "nbformat_minor": 5
}
