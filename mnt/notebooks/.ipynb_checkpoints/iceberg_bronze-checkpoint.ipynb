{
 "cells": [
  {
   "cell_type": "code",
   "execution_count": 1,
   "id": "8aabf4fe-c34d-4fc0-aab7-e0413b15c488",
   "metadata": {},
   "outputs": [],
   "source": [
    "import pyspark\n",
    "from pyspark.sql import SparkSession\n",
    "import os\n",
    "\n",
    "AWS_ACCESS_KEY = os.getenv(\"AWS_ACCESS_KEY_ID\")\n",
    "AWS_SECRET_KEY = os.getenv(\"AWS_SECRET_ACCESS_KEY\")\n",
    "S3_ENDPOINT = os.getenv(\"S3_ENDPOINT\")\n",
    "NESSIE_URI = os.getenv(\"NESSIE_URI\")\n"
   ]
  },
  {
   "cell_type": "code",
   "execution_count": 14,
   "id": "0c9c88ad-08fb-4110-ba7a-58e7cc37ecd6",
   "metadata": {},
   "outputs": [
    {
     "name": "stdout",
     "output_type": "stream",
     "text": [
      "<pyspark.sql.session.SparkSession object at 0x7f7f485b97c0>\n"
     ]
    }
   ],
   "source": [
    "import pyspark\n",
    "from pyspark.sql import SparkSession\n",
    "import os\n",
    "\n",
    "AWS_ACCESS_KEY = \"sua-access-key\"\n",
    "AWS_SECRET_KEY = \"sua-secret-key\"\n",
    "S3_ENDPOINT = \"http://seu-minio-endpoint:9000\"\n",
    "NESSIE_URI = \"http://seu-nessie-uri\"\n",
    "\n",
    "MASTER = \"spark://spark-master:7077\"\n",
    "\n",
    "jar_packages = [\n",
    "    \"org.apache.iceberg:iceberg-spark-runtime-3.5_2.12:1.6.1\",\n",
    "    \"org.projectnessie:nessie-spark-extensions-3.5_2.12:0.99.0\",\n",
    "    \"software.amazon.awssdk:bundle:2.28.13\",\n",
    "    \"software.amazon.awssdk:url-connection-client:2.28.13\",\n",
    "    \"org.apache.iceberg:iceberg-aws:1.6.1\"\n",
    "]\n",
    "\n",
    "spark_extensions = [\n",
    "    \"org.apache.iceberg.spark.extensions.IcebergSparkSessionExtensions\",\n",
    "    \"org.projectnessie.spark.extensions.NessieSparkSessionExtensions\"\n",
    "]\n",
    "    #.set(\"spark.master\", MASTER)\n",
    "conf = (\n",
    "    pyspark.SparkConf()\n",
    "    .setAppName(\"Iceberg\")\n",
    "    .set(\"spark.jars.repositories\", \"https://repo.maven.apache.org/maven2,https://oss.sonatype.org/content/repositories/releases\")\n",
    "    .set(\"spark.jars.packages\", ','.join(jar_packages))\n",
    "    .set(\"spark.sql.extensions\", ','.join(spark_extensions))\n",
    "    .set(\"spark.executor.memory\", \"2g\")\n",
    "    .set(\"spark.executor.cores\", \"2\")\n",
    "    .set(\"spark.executor.instances\", \"1\")\n",
    "    .set(\"spark.driver.memory\", \"2g\")\n",
    "    .set(\"spark.sql.catalog.nessie\", \"org.apache.iceberg.spark.SparkCatalog\")\n",
    "    .set(\"spark.sql.catalog.nessie.s3.path-style-access\", \"true\")\n",
    "    .set(\"spark.sql.catalog.nessie.s3.endpoint\", S3_ENDPOINT)\n",
    "    .set(\"spark.sql.catalog.nessie.warehouse\", \"s3a://bronze/\")\n",
    "    .set(\"spark.sql.catalog.nessie.catalog-impl\", \"org.apache.iceberg.nessie.NessieCatalog\")\n",
    "    .set(\"spark.sql.catalog.nessie.io-impl\", \"org.apache.iceberg.aws.s3.S3FileIO\")\n",
    "    .set(\"spark.sql.catalog.nessie.uri\", NESSIE_URI)\n",
    "    .set(\"spark.sql.catalog.nessie.ref\", \"main\")\n",
    "    .set(\"spark.sql.catalog.nessie.authentication.type\", \"NONE\")\n",
    "    .set(\"spark.sql.catalog.nessie.cache-enabled\", \"false\")\n",
    "    .set(\"spark.hadoop.fs.s3a.access.key\", AWS_ACCESS_KEY)\n",
    "    .set(\"spark.hadoop.fs.s3a.secret.key\", AWS_SECRET_KEY)\n",
    "    .set(\"spark.hadoop.fs.s3a.endpoint\", S3_ENDPOINT)\n",
    "    .set(\"spark.hadoop.fs.s3a.path.style.access\", \"true\")\n",
    "    .set(\"spark.hadoop.fs.s3a.impl\", \"org.apache.hadoop.fs.s3a.S3AFileSystem\")\n",
    ")\n",
    "\n",
    "spark = SparkSession.builder.config(conf=conf).getOrCreate()\n",
    "spark.sparkContext.setLogLevel(\"ERROR\")\n",
    "print(spark)\n"
   ]
  },
  {
   "cell_type": "code",
   "execution_count": 64,
   "id": "ed9ffd22-e9a6-4da7-a914-1cdd89b7b767",
   "metadata": {},
   "outputs": [
    {
     "name": "stdout",
     "output_type": "stream",
     "text": [
      "http://minio:9000\n"
     ]
    }
   ],
   "source": [
    "print(S3_ENDPOINT)"
   ]
  },
  {
   "cell_type": "code",
   "execution_count": 13,
   "id": "4fb8b9d6-d501-484b-8149-5c37326c780f",
   "metadata": {},
   "outputs": [],
   "source": [
    "spark.stop()"
   ]
  },
  {
   "cell_type": "code",
   "execution_count": 5,
   "id": "1f6ead9c-db43-4f5f-aedb-565d178cdb77",
   "metadata": {},
   "outputs": [
    {
     "name": "stderr",
     "output_type": "stream",
     "text": [
      "Setting default log level to \"WARN\".\n",
      "To adjust logging level use sc.setLogLevel(newLevel). For SparkR, use setLogLevel(newLevel).\n",
      "24/12/02 14:56:38 WARN NativeCodeLoader: Unable to load native-hadoop library for your platform... using builtin-java classes where applicable\n"
     ]
    }
   ],
   "source": [
    "spark = SparkSession.builder \\\n",
    "    .appName(\"MinIO-Spark-Test\") \\\n",
    "    .config(\"spark.hadoop.fs.s3a.endpoint\", S3_ENDPOINT) \\\n",
    "    .config(\"spark.hadoop.fs.s3a.access.key\", AWS_ACCESS_KEY) \\\n",
    "    .config(\"spark.hadoop.fs.s3a.secret.key\", AWS_SECRET_KEY) \\\n",
    "    .config(\"spark.hadoop.fs.s3a.path.style.access\", \"true\") \\\n",
    "    .getOrCreate()"
   ]
  },
  {
   "cell_type": "code",
   "execution_count": 15,
   "id": "a89733f1-83c7-4185-867f-66809c499709",
   "metadata": {},
   "outputs": [
    {
     "name": "stdout",
     "output_type": "stream",
     "text": [
      "+------------+---------+\n",
      "| marca_carro|cod_marca|\n",
      "+------------+---------+\n",
      "|       Acura|        1|\n",
      "|Aston Martin|        2|\n",
      "|        Audi|        3|\n",
      "|      Austin|        4|\n",
      "|         BMW|        5|\n",
      "|     Bentley|        6|\n",
      "|     Bugatti|        7|\n",
      "|       Buick|        8|\n",
      "|    Cadillac|        9|\n",
      "|   Chevrolet|       10|\n",
      "|    Chrysler|       11|\n",
      "|     Citroën|       12|\n",
      "|      Daewoo|       13|\n",
      "|       Dodge|       14|\n",
      "|       Eagle|       15|\n",
      "|     Ferrari|       16|\n",
      "|        Ford|       17|\n",
      "|         GMC|       18|\n",
      "|         Geo|       19|\n",
      "|       Honda|       20|\n",
      "+------------+---------+\n",
      "only showing top 20 rows\n",
      "\n"
     ]
    }
   ],
   "source": [
    "# Testando leitura do arquivo\n",
    "df = spark.read.csv(\"s3a://landing/marca_carro.csv\", header=True, inferSchema=True)\n",
    "df.show()"
   ]
  },
  {
   "cell_type": "code",
   "execution_count": 17,
   "id": "09842b65-0dc5-4a6e-9a5c-3a460dedec74",
   "metadata": {},
   "outputs": [
    {
     "name": "stdout",
     "output_type": "stream",
     "text": [
      "+------------+\n",
      "| marca_carro|\n",
      "+------------+\n",
      "|       Acura|\n",
      "|Aston Martin|\n",
      "|        Audi|\n",
      "|      Austin|\n",
      "|         BMW|\n",
      "|     Bentley|\n",
      "|     Bugatti|\n",
      "|       Buick|\n",
      "|    Cadillac|\n",
      "|   Chevrolet|\n",
      "|    Chrysler|\n",
      "|     Citroën|\n",
      "|      Daewoo|\n",
      "|       Dodge|\n",
      "|       Eagle|\n",
      "|     Ferrari|\n",
      "|        Ford|\n",
      "|         GMC|\n",
      "|         Geo|\n",
      "|       Honda|\n",
      "+------------+\n",
      "only showing top 20 rows\n",
      "\n"
     ]
    }
   ],
   "source": [
    "df.select('marca_carro').show()"
   ]
  },
  {
   "cell_type": "code",
   "execution_count": null,
   "id": "facad42c-694d-40af-9675-beb5a219ecd0",
   "metadata": {},
   "outputs": [],
   "source": []
  }
 ],
 "metadata": {
  "kernelspec": {
   "display_name": "Python 3 (ipykernel)",
   "language": "python",
   "name": "python3"
  },
  "language_info": {
   "codemirror_mode": {
    "name": "ipython",
    "version": 3
   },
   "file_extension": ".py",
   "mimetype": "text/x-python",
   "name": "python",
   "nbconvert_exporter": "python",
   "pygments_lexer": "ipython3",
   "version": "3.12.7"
  }
 },
 "nbformat": 4,
 "nbformat_minor": 5
}
