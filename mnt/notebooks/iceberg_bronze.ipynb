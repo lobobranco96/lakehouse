{
 "cells": [
  {
   "cell_type": "code",
   "execution_count": 1,
   "id": "0c9c88ad-08fb-4110-ba7a-58e7cc37ecd6",
   "metadata": {},
   "outputs": [
    {
     "name": "stdout",
     "output_type": "stream",
     "text": [
      ":: loading settings :: url = jar:file:/opt/bitnami/spark/jars/ivy-2.5.1.jar!/org/apache/ivy/core/settings/ivysettings.xml\n"
     ]
    },
    {
     "name": "stderr",
     "output_type": "stream",
     "text": [
      "Ivy Default Cache set to: /root/.ivy2/cache\n",
      "The jars for the packages stored in: /root/.ivy2/jars\n",
      "org.apache.iceberg#iceberg-spark-runtime-3.5_2.12 added as a dependency\n",
      "org.projectnessie.nessie-integrations#nessie-spark-extensions-3.5_2.12 added as a dependency\n",
      "org.apache.iceberg#iceberg-aws-bundle added as a dependency\n",
      ":: resolving dependencies :: org.apache.spark#spark-submit-parent-13ead859-9399-46a3-a10b-df4738610ab6;1.0\n",
      "\tconfs: [default]\n",
      "\tfound org.apache.iceberg#iceberg-spark-runtime-3.5_2.12;1.6.1 in central\n",
      "\tfound org.projectnessie.nessie-integrations#nessie-spark-extensions-3.5_2.12;0.99.0 in central\n",
      "\tfound org.apache.iceberg#iceberg-aws-bundle;1.6.1 in central\n",
      ":: resolution report :: resolve 597ms :: artifacts dl 24ms\n",
      "\t:: modules in use:\n",
      "\torg.apache.iceberg#iceberg-aws-bundle;1.6.1 from central in [default]\n",
      "\torg.apache.iceberg#iceberg-spark-runtime-3.5_2.12;1.6.1 from central in [default]\n",
      "\torg.projectnessie.nessie-integrations#nessie-spark-extensions-3.5_2.12;0.99.0 from central in [default]\n",
      "\t---------------------------------------------------------------------\n",
      "\t|                  |            modules            ||   artifacts   |\n",
      "\t|       conf       | number| search|dwnlded|evicted|| number|dwnlded|\n",
      "\t---------------------------------------------------------------------\n",
      "\t|      default     |   3   |   0   |   0   |   0   ||   3   |   0   |\n",
      "\t---------------------------------------------------------------------\n",
      ":: retrieving :: org.apache.spark#spark-submit-parent-13ead859-9399-46a3-a10b-df4738610ab6\n",
      "\tconfs: [default]\n",
      "\t0 artifacts copied, 3 already retrieved (0kB/30ms)\n",
      "24/12/10 20:52:29 WARN NativeCodeLoader: Unable to load native-hadoop library for your platform... using builtin-java classes where applicable\n",
      "Setting default log level to \"WARN\".\n",
      "To adjust logging level use sc.setLogLevel(newLevel). For SparkR, use setLogLevel(newLevel).\n"
     ]
    },
    {
     "name": "stdout",
     "output_type": "stream",
     "text": [
      "<pyspark.sql.session.SparkSession object at 0x7f983ea9a840>\n"
     ]
    }
   ],
   "source": [
    "import pyspark\n",
    "from pyspark.sql import SparkSession\n",
    "import os\n",
    "\n",
    "AWS_ACCESS_KEY = os.getenv(\"AWS_ACCESS_KEY_ID\")\n",
    "AWS_SECRET_KEY = os.getenv(\"AWS_SECRET_ACCESS_KEY\")\n",
    "S3_ENDPOINT = os.getenv(\"S3_ENDPOINT\")\n",
    "NESSIE_URI = os.getenv(\"NESSIE_URI\")\n",
    "\n",
    "MASTER = \"spark://spark-master:7077\"\n",
    "\n",
    "jar_packages = [\n",
    "    \"org.apache.iceberg:iceberg-spark-runtime-3.5_2.12:1.6.1\",\n",
    "    \"org.projectnessie.nessie-integrations:nessie-spark-extensions-3.5_2.12:0.99.0\",\n",
    "    #\"software.amazon.awssdk:bundle:2.28.13\",\n",
    "    #\"software.amazon.awssdk:url-connection-client:2.28.13\",\n",
    "    \"org.apache.iceberg:iceberg-aws-bundle:1.6.1\"\n",
    "  ]\n",
    "\n",
    "spark_extensions = [\n",
    "    \"org.apache.iceberg.spark.extensions.IcebergSparkSessionExtensions\",\n",
    "    \"org.projectnessie.spark.extensions.NessieSparkSessionExtensions\"\n",
    "]\n",
    "conf = (\n",
    "    pyspark.SparkConf()\n",
    "    .setAppName(\"Iceberg\")\n",
    "    .set(\"spark.master\", MASTER)\n",
    "    .set(\"spark.jars.packages\", ','.join(jar_packages))\n",
    "    .set(\"spark.sql.extensions\",\"org.apache.iceberg.spark.extensions.IcebergSparkSessionExtensions,org.projectnessie.spark.extensions.NessieSparkSessionExtensions\")\n",
    "    .set(\"spark.executor.memory\", \"2g\")\n",
    "    .set(\"spark.executor.cores\", \"2\")\n",
    "    .set(\"spark.executor.instances\", \"1\")\n",
    "    .set(\"spark.driver.memory\", \"2g\")\n",
    "    .set(\"spark.sql.catalog.nessie\", \"org.apache.iceberg.spark.SparkCatalog\")\n",
    "    .set(\"spark.sql.catalog.nessie.s3.path-style-access\", \"true\")\n",
    "    .set(\"spark.sql.catalog.nessie.s3.endpoint\", S3_ENDPOINT)\n",
    "    .set(\"spark.sql.catalog.nessie.warehouse\", \"s3a://bronze/\")\n",
    "    .set(\"spark.sql.catalog.nessie.catalog-impl\", \"org.apache.iceberg.nessie.NessieCatalog\")\n",
    "    .set(\"spark.sql.catalog.nessie.io-impl\", \"org.apache.iceberg.aws.s3.S3FileIO\")\n",
    "    .set(\"spark.sql.catalog.nessie.uri\", NESSIE_URI)\n",
    "    .set(\"spark.sql.catalog.nessie.ref\", \"main\")\n",
    "    .set(\"spark.sql.catalog.nessie.authentication.type\", \"NONE\")\n",
    "    .set(\"spark.sql.catalog.nessie.cache-enabled\", \"false\")\n",
    "    .set(\"spark.hadoop.fs.s3a.access.key\", AWS_ACCESS_KEY)\n",
    "    .set(\"spark.hadoop.fs.s3a.secret.key\", AWS_SECRET_KEY)\n",
    "    .set(\"spark.hadoop.fs.s3a.endpoint\", S3_ENDPOINT)\n",
    "    .set(\"spark.hadoop.fs.s3a.path.style.access\", \"true\")\n",
    "    .set(\"spark.hadoop.fs.s3a.impl\", \"org.apache.hadoop.fs.s3a.S3AFileSystem\")\n",
    ")\n",
    "\n",
    "spark = SparkSession.builder.config(conf=conf).getOrCreate()\n",
    "spark.sparkContext.setLogLevel(\"ERROR\")\n",
    "print(spark)"
   ]
  },
  {
   "cell_type": "code",
   "execution_count": 2,
   "id": "30d3f353-811e-4062-ad93-18e0902ba2c5",
   "metadata": {},
   "outputs": [
    {
     "name": "stdout",
     "output_type": "stream",
     "text": [
      "+-------------+\n",
      "|      catalog|\n",
      "+-------------+\n",
      "|spark_catalog|\n",
      "+-------------+\n",
      "\n"
     ]
    }
   ],
   "source": [
    "spark.sql(\"SHOW CATALOGS\").show()"
   ]
  },
  {
   "cell_type": "code",
   "execution_count": 3,
   "id": "a89733f1-83c7-4185-867f-66809c499709",
   "metadata": {},
   "outputs": [
    {
     "name": "stderr",
     "output_type": "stream",
     "text": [
      "                                                                                \r"
     ]
    }
   ],
   "source": [
    "enem_2019 = spark.read.csv(\"s3a://landing/MICRODADOS_ENEM_2019.csv\", header=True, inferSchema=True, sep=\";\")\n",
    "enem_2020 = spark.read.csv(\"s3a://landing/MICRODADOS_ENEM_2020.csv\", header=True, inferSchema=True, sep=\";\")\n",
    "enem_2021 = spark.read.csv(\"s3a://landing/MICRODADOS_ENEM_2021.csv\", header=True, inferSchema=True, sep=\";\")\n",
    "enem_2022 = spark.read.csv(\"s3a://landing/MICRODADOS_ENEM_2022.csv\", header=True, inferSchema=True, sep=\";\")\n",
    "enem_2023 = spark.read.csv(\"s3a://landing/MICRODADOS_ENEM_2023.csv\", header=True, inferSchema=True, sep=\";\")"
   ]
  },
  {
   "cell_type": "code",
   "execution_count": 4,
   "id": "7f389b54-eb1e-44fb-a1b5-af6aafc4acfe",
   "metadata": {},
   "outputs": [
    {
     "data": {
      "text/plain": [
       "DataFrame[]"
      ]
     },
     "execution_count": 4,
     "metadata": {},
     "output_type": "execute_result"
    }
   ],
   "source": [
    "spark.sql(\"\"\"\n",
    "CREATE NAMESPACE IF NOT EXISTS nessie.bronze\n",
    "\"\"\")\n"
   ]
  },
  {
   "cell_type": "code",
   "execution_count": 17,
   "id": "1cf0683b-5753-436f-9a01-f713af9c891b",
   "metadata": {},
   "outputs": [
    {
     "data": {
      "text/plain": [
       "DataFrame[]"
      ]
     },
     "execution_count": 17,
     "metadata": {},
     "output_type": "execute_result"
    }
   ],
   "source": [
    "spark.sql(\"\"\"\n",
    "CREATE OR REPLACE TABLE nessie.bronze.enem_2019 (\n",
    "    NU_INSCRICAO STRING,\n",
    "    NU_ANO INT,\n",
    "    TP_FAIXA_ETARIA INT,\n",
    "    TP_SEXO STRING,\n",
    "    TP_ESTADO_CIVIL STRING,\n",
    "    TP_COR_RACA INT,\n",
    "    TP_NACIONALIDADE INT,\n",
    "    TP_ST_CONCLUSAO INT,\n",
    "    TP_ANO_CONCLUIU INT,\n",
    "    TP_ESCOLA INT,\n",
    "    TP_ENSINO INT,\n",
    "    IN_TREINEIRO INT,\n",
    "    CO_MUNICIPIO_ESC INT,\n",
    "    NO_MUNICIPIO_ESC STRING,\n",
    "    CO_UF_ESC INT,\n",
    "    SG_UF_ESC STRING,\n",
    "    TP_DEPENDENCIA_ADM_ESC INT,\n",
    "    TP_LOCALIZACAO_ESC INT,\n",
    "    TP_SIT_FUNC_ESC INT,\n",
    "    CO_MUNICIPIO_PROVA INT,\n",
    "    NO_MUNICIPIO_PROVA STRING,\n",
    "    CO_UF_PROVA INT,\n",
    "    SG_UF_PROVA STRING,\n",
    "    TP_PRESENCA_CN INT,\n",
    "    TP_PRESENCA_CH INT,\n",
    "    TP_PRESENCA_LC INT,\n",
    "    TP_PRESENCA_MT INT,\n",
    "    CO_PROVA_CN INT,\n",
    "    CO_PROVA_CH INT,\n",
    "    CO_PROVA_LC INT,\n",
    "    CO_PROVA_MT INT,\n",
    "    NU_NOTA_CN DOUBLE,\n",
    "    NU_NOTA_CH DOUBLE,\n",
    "    NU_NOTA_LC DOUBLE,\n",
    "    NU_NOTA_MT DOUBLE,\n",
    "    TX_RESPOSTAS_CN STRING,\n",
    "    TX_RESPOSTAS_CH STRING,\n",
    "    TX_RESPOSTAS_LC STRING,\n",
    "    TX_RESPOSTAS_MT STRING,\n",
    "    TP_LINGUA INT,\n",
    "    TX_GABARITO_CN STRING,\n",
    "    TX_GABARITO_CH STRING,\n",
    "    TX_GABARITO_LC STRING,\n",
    "    TX_GABARITO_MT STRING,\n",
    "    TP_STATUS_REDACAO INT,\n",
    "    NU_NOTA_COMP1 DOUBLE,\n",
    "    NU_NOTA_COMP2 DOUBLE,\n",
    "    NU_NOTA_COMP3 DOUBLE,\n",
    "    NU_NOTA_COMP4 DOUBLE,\n",
    "    NU_NOTA_COMP5 DOUBLE,\n",
    "    NU_NOTA_REDACAO DOUBLE,\n",
    "    Q001 STRING,\n",
    "    Q002 STRING,\n",
    "    Q003 STRING,\n",
    "    Q004 STRING,\n",
    "    Q005 STRING,\n",
    "    Q006 STRING,\n",
    "    Q007 STRING,\n",
    "    Q008 STRING,\n",
    "    Q009 STRING,\n",
    "    Q010 STRING,\n",
    "    Q011 STRING,\n",
    "    Q012 STRING,\n",
    "    Q013 STRING,\n",
    "    Q014 STRING,\n",
    "    Q015 STRING,\n",
    "    Q016 STRING,\n",
    "    Q017 STRING,\n",
    "    Q018 STRING,\n",
    "    Q019 STRING,\n",
    "    Q020 STRING,\n",
    "    Q021 STRING,\n",
    "    Q022 STRING,\n",
    "    Q023 STRING,\n",
    "    Q024 STRING,\n",
    "    Q025 STRING\n",
    ")\n",
    "USING iceberg\n",
    "LOCATION 's3a://bronze/enem_2019/'\n",
    "\"\"\")"
   ]
  },
  {
   "cell_type": "code",
   "execution_count": 16,
   "id": "7fa240f9-9c69-4ae9-b4cc-91fcfce23203",
   "metadata": {},
   "outputs": [
    {
     "data": {
      "text/plain": [
       "DataFrame[]"
      ]
     },
     "execution_count": 16,
     "metadata": {},
     "output_type": "execute_result"
    }
   ],
   "source": [
    "spark.sql(\"\"\"\n",
    "CREATE OR REPLACE TABLE nessie.bronze.enem_2020 (\n",
    "    NU_INSCRICAO STRING,\n",
    "    NU_ANO INT,\n",
    "    TP_FAIXA_ETARIA INT,\n",
    "    TP_SEXO STRING,\n",
    "    TP_ESTADO_CIVIL STRING,\n",
    "    TP_COR_RACA INT,\n",
    "    TP_NACIONALIDADE INT,\n",
    "    TP_ST_CONCLUSAO INT,\n",
    "    TP_ANO_CONCLUIU INT,\n",
    "    TP_ESCOLA INT,\n",
    "    TP_ENSINO INT,\n",
    "    IN_TREINEIRO INT,\n",
    "    CO_MUNICIPIO_ESC INT,\n",
    "    NO_MUNICIPIO_ESC STRING,\n",
    "    CO_UF_ESC INT,\n",
    "    SG_UF_ESC STRING,\n",
    "    TP_DEPENDENCIA_ADM_ESC INT,\n",
    "    TP_LOCALIZACAO_ESC INT,\n",
    "    TP_SIT_FUNC_ESC INT,\n",
    "    CO_MUNICIPIO_PROVA INT,\n",
    "    NO_MUNICIPIO_PROVA STRING,\n",
    "    CO_UF_PROVA INT,\n",
    "    SG_UF_PROVA STRING,\n",
    "    TP_PRESENCA_CN INT,\n",
    "    TP_PRESENCA_CH INT,\n",
    "    TP_PRESENCA_LC INT,\n",
    "    TP_PRESENCA_MT INT,\n",
    "    CO_PROVA_CN INT,\n",
    "    CO_PROVA_CH INT,\n",
    "    CO_PROVA_LC INT,\n",
    "    CO_PROVA_MT INT,\n",
    "    NU_NOTA_CN DOUBLE,\n",
    "    NU_NOTA_CH DOUBLE,\n",
    "    NU_NOTA_LC DOUBLE,\n",
    "    NU_NOTA_MT DOUBLE,\n",
    "    TX_RESPOSTAS_CN STRING,\n",
    "    TX_RESPOSTAS_CH STRING,\n",
    "    TX_RESPOSTAS_LC STRING,\n",
    "    TX_RESPOSTAS_MT STRING,\n",
    "    TP_LINGUA INT,\n",
    "    TX_GABARITO_CN STRING,\n",
    "    TX_GABARITO_CH STRING,\n",
    "    TX_GABARITO_LC STRING,\n",
    "    TX_GABARITO_MT STRING,\n",
    "    TP_STATUS_REDACAO INT,\n",
    "    NU_NOTA_COMP1 DOUBLE,\n",
    "    NU_NOTA_COMP2 DOUBLE,\n",
    "    NU_NOTA_COMP3 DOUBLE,\n",
    "    NU_NOTA_COMP4 DOUBLE,\n",
    "    NU_NOTA_COMP5 DOUBLE,\n",
    "    NU_NOTA_REDACAO DOUBLE,\n",
    "    Q001 STRING,\n",
    "    Q002 STRING,\n",
    "    Q003 STRING,\n",
    "    Q004 STRING,\n",
    "    Q005 STRING,\n",
    "    Q006 STRING,\n",
    "    Q007 STRING,\n",
    "    Q008 STRING,\n",
    "    Q009 STRING,\n",
    "    Q010 STRING,\n",
    "    Q011 STRING,\n",
    "    Q012 STRING,\n",
    "    Q013 STRING,\n",
    "    Q014 STRING,\n",
    "    Q015 STRING,\n",
    "    Q016 STRING,\n",
    "    Q017 STRING,\n",
    "    Q018 STRING,\n",
    "    Q019 STRING,\n",
    "    Q020 STRING,\n",
    "    Q021 STRING,\n",
    "    Q022 STRING,\n",
    "    Q023 STRING,\n",
    "    Q024 STRING,\n",
    "    Q025 STRING\n",
    ")\n",
    "USING iceberg\n",
    "LOCATION 's3a://bronze/enem_2020/'\n",
    "\"\"\")"
   ]
  },
  {
   "cell_type": "code",
   "execution_count": 15,
   "id": "21b5e78d-2938-4f40-bd3d-fbd6e2ef2407",
   "metadata": {},
   "outputs": [
    {
     "data": {
      "text/plain": [
       "DataFrame[]"
      ]
     },
     "execution_count": 15,
     "metadata": {},
     "output_type": "execute_result"
    }
   ],
   "source": [
    "spark.sql(\"\"\"\n",
    "CREATE OR REPLACE TABLE nessie.bronze.enem_2021 (\n",
    "    NU_INSCRICAO STRING,\n",
    "    NU_ANO INT,\n",
    "    TP_FAIXA_ETARIA INT,\n",
    "    TP_SEXO STRING,\n",
    "    TP_ESTADO_CIVIL STRING,\n",
    "    TP_COR_RACA INT,\n",
    "    TP_NACIONALIDADE INT,\n",
    "    TP_ST_CONCLUSAO INT,\n",
    "    TP_ANO_CONCLUIU INT,\n",
    "    TP_ESCOLA INT,\n",
    "    TP_ENSINO INT,\n",
    "    IN_TREINEIRO INT,\n",
    "    CO_MUNICIPIO_ESC INT,\n",
    "    NO_MUNICIPIO_ESC STRING,\n",
    "    CO_UF_ESC INT,\n",
    "    SG_UF_ESC STRING,\n",
    "    TP_DEPENDENCIA_ADM_ESC INT,\n",
    "    TP_LOCALIZACAO_ESC INT,\n",
    "    TP_SIT_FUNC_ESC INT,\n",
    "    CO_MUNICIPIO_PROVA INT,\n",
    "    NO_MUNICIPIO_PROVA STRING,\n",
    "    CO_UF_PROVA INT,\n",
    "    SG_UF_PROVA STRING,\n",
    "    TP_PRESENCA_CN INT,\n",
    "    TP_PRESENCA_CH INT,\n",
    "    TP_PRESENCA_LC INT,\n",
    "    TP_PRESENCA_MT INT,\n",
    "    CO_PROVA_CN INT,\n",
    "    CO_PROVA_CH INT,\n",
    "    CO_PROVA_LC INT,\n",
    "    CO_PROVA_MT INT,\n",
    "    NU_NOTA_CN DOUBLE,\n",
    "    NU_NOTA_CH DOUBLE,\n",
    "    NU_NOTA_LC DOUBLE,\n",
    "    NU_NOTA_MT DOUBLE,\n",
    "    TX_RESPOSTAS_CN STRING,\n",
    "    TX_RESPOSTAS_CH STRING,\n",
    "    TX_RESPOSTAS_LC STRING,\n",
    "    TX_RESPOSTAS_MT STRING,\n",
    "    TP_LINGUA INT,\n",
    "    TX_GABARITO_CN STRING,\n",
    "    TX_GABARITO_CH STRING,\n",
    "    TX_GABARITO_LC STRING,\n",
    "    TX_GABARITO_MT STRING,\n",
    "    TP_STATUS_REDACAO INT,\n",
    "    NU_NOTA_COMP1 DOUBLE,\n",
    "    NU_NOTA_COMP2 DOUBLE,\n",
    "    NU_NOTA_COMP3 DOUBLE,\n",
    "    NU_NOTA_COMP4 DOUBLE,\n",
    "    NU_NOTA_COMP5 DOUBLE,\n",
    "    NU_NOTA_REDACAO DOUBLE,\n",
    "    Q001 STRING,\n",
    "    Q002 STRING,\n",
    "    Q003 STRING,\n",
    "    Q004 STRING,\n",
    "    Q005 STRING,\n",
    "    Q006 STRING,\n",
    "    Q007 STRING,\n",
    "    Q008 STRING,\n",
    "    Q009 STRING,\n",
    "    Q010 STRING,\n",
    "    Q011 STRING,\n",
    "    Q012 STRING,\n",
    "    Q013 STRING,\n",
    "    Q014 STRING,\n",
    "    Q015 STRING,\n",
    "    Q016 STRING,\n",
    "    Q017 STRING,\n",
    "    Q018 STRING,\n",
    "    Q019 STRING,\n",
    "    Q020 STRING,\n",
    "    Q021 STRING,\n",
    "    Q022 STRING,\n",
    "    Q023 STRING,\n",
    "    Q024 STRING,\n",
    "    Q025 STRING\n",
    ")\n",
    "USING iceberg\n",
    "LOCATION 's3a://bronze/enem_2021/'\n",
    "\"\"\")"
   ]
  },
  {
   "cell_type": "code",
   "execution_count": 14,
   "id": "16759813-7bcd-4e04-8a48-674dd05bdc45",
   "metadata": {},
   "outputs": [
    {
     "data": {
      "text/plain": [
       "DataFrame[]"
      ]
     },
     "execution_count": 14,
     "metadata": {},
     "output_type": "execute_result"
    }
   ],
   "source": [
    "spark.sql(\"\"\"\n",
    "CREATE OR REPLACE TABLE nessie.bronze.enem_2022 (\n",
    "    NU_INSCRICAO STRING,\n",
    "    NU_ANO INT,\n",
    "    TP_FAIXA_ETARIA INT,\n",
    "    TP_SEXO STRING,\n",
    "    TP_ESTADO_CIVIL STRING,\n",
    "    TP_COR_RACA INT,\n",
    "    TP_NACIONALIDADE INT,\n",
    "    TP_ST_CONCLUSAO INT,\n",
    "    TP_ANO_CONCLUIU INT,\n",
    "    TP_ESCOLA INT,\n",
    "    TP_ENSINO INT,\n",
    "    IN_TREINEIRO INT,\n",
    "    CO_MUNICIPIO_ESC INT,\n",
    "    NO_MUNICIPIO_ESC STRING,\n",
    "    CO_UF_ESC INT,\n",
    "    SG_UF_ESC STRING,\n",
    "    TP_DEPENDENCIA_ADM_ESC INT,\n",
    "    TP_LOCALIZACAO_ESC INT,\n",
    "    TP_SIT_FUNC_ESC INT,\n",
    "    CO_MUNICIPIO_PROVA INT,\n",
    "    NO_MUNICIPIO_PROVA STRING,\n",
    "    CO_UF_PROVA INT,\n",
    "    SG_UF_PROVA STRING,\n",
    "    TP_PRESENCA_CN INT,\n",
    "    TP_PRESENCA_CH INT,\n",
    "    TP_PRESENCA_LC INT,\n",
    "    TP_PRESENCA_MT INT,\n",
    "    CO_PROVA_CN INT,\n",
    "    CO_PROVA_CH INT,\n",
    "    CO_PROVA_LC INT,\n",
    "    CO_PROVA_MT INT,\n",
    "    NU_NOTA_CN DOUBLE,\n",
    "    NU_NOTA_CH DOUBLE,\n",
    "    NU_NOTA_LC DOUBLE,\n",
    "    NU_NOTA_MT DOUBLE,\n",
    "    TX_RESPOSTAS_CN STRING,\n",
    "    TX_RESPOSTAS_CH STRING,\n",
    "    TX_RESPOSTAS_LC STRING,\n",
    "    TX_RESPOSTAS_MT STRING,\n",
    "    TP_LINGUA INT,\n",
    "    TX_GABARITO_CN STRING,\n",
    "    TX_GABARITO_CH STRING,\n",
    "    TX_GABARITO_LC STRING,\n",
    "    TX_GABARITO_MT STRING,\n",
    "    TP_STATUS_REDACAO INT,\n",
    "    NU_NOTA_COMP1 DOUBLE,\n",
    "    NU_NOTA_COMP2 DOUBLE,\n",
    "    NU_NOTA_COMP3 DOUBLE,\n",
    "    NU_NOTA_COMP4 DOUBLE,\n",
    "    NU_NOTA_COMP5 DOUBLE,\n",
    "    NU_NOTA_REDACAO DOUBLE,\n",
    "    Q001 STRING,\n",
    "    Q002 STRING,\n",
    "    Q003 STRING,\n",
    "    Q004 STRING,\n",
    "    Q005 STRING,\n",
    "    Q006 STRING,\n",
    "    Q007 STRING,\n",
    "    Q008 STRING,\n",
    "    Q009 STRING,\n",
    "    Q010 STRING,\n",
    "    Q011 STRING,\n",
    "    Q012 STRING,\n",
    "    Q013 STRING,\n",
    "    Q014 STRING,\n",
    "    Q015 STRING,\n",
    "    Q016 STRING,\n",
    "    Q017 STRING,\n",
    "    Q018 STRING,\n",
    "    Q019 STRING,\n",
    "    Q020 STRING,\n",
    "    Q021 STRING,\n",
    "    Q022 STRING,\n",
    "    Q023 STRING,\n",
    "    Q024 STRING,\n",
    "    Q025 STRING\n",
    ")\n",
    "USING iceberg\n",
    "LOCATION 's3a://bronze/enem_2022/'\n",
    "\"\"\")"
   ]
  },
  {
   "cell_type": "code",
   "execution_count": 13,
   "id": "0239631a-33ab-476e-b871-7dbc1f7c050a",
   "metadata": {},
   "outputs": [
    {
     "data": {
      "text/plain": [
       "DataFrame[]"
      ]
     },
     "execution_count": 13,
     "metadata": {},
     "output_type": "execute_result"
    }
   ],
   "source": [
    "spark.sql(\"\"\"\n",
    "CREATE OR REPLACE TABLE nessie.bronze.enem_2023 (\n",
    "    NU_INSCRICAO STRING,\n",
    "    NU_ANO INT,\n",
    "    TP_FAIXA_ETARIA INT,\n",
    "    TP_SEXO STRING,\n",
    "    TP_ESTADO_CIVIL STRING,\n",
    "    TP_COR_RACA INT,\n",
    "    TP_NACIONALIDADE INT,\n",
    "    TP_ST_CONCLUSAO INT,\n",
    "    TP_ANO_CONCLUIU INT,\n",
    "    TP_ESCOLA INT,\n",
    "    TP_ENSINO INT,\n",
    "    IN_TREINEIRO INT,\n",
    "    CO_MUNICIPIO_ESC INT,\n",
    "    NO_MUNICIPIO_ESC STRING,\n",
    "    CO_UF_ESC INT,\n",
    "    SG_UF_ESC STRING,\n",
    "    TP_DEPENDENCIA_ADM_ESC INT,\n",
    "    TP_LOCALIZACAO_ESC INT,\n",
    "    TP_SIT_FUNC_ESC INT,\n",
    "    CO_MUNICIPIO_PROVA INT,\n",
    "    NO_MUNICIPIO_PROVA STRING,\n",
    "    CO_UF_PROVA INT,\n",
    "    SG_UF_PROVA STRING,\n",
    "    TP_PRESENCA_CN INT,\n",
    "    TP_PRESENCA_CH INT,\n",
    "    TP_PRESENCA_LC INT,\n",
    "    TP_PRESENCA_MT INT,\n",
    "    CO_PROVA_CN INT,\n",
    "    CO_PROVA_CH INT,\n",
    "    CO_PROVA_LC INT,\n",
    "    CO_PROVA_MT INT,\n",
    "    NU_NOTA_CN DOUBLE,\n",
    "    NU_NOTA_CH DOUBLE,\n",
    "    NU_NOTA_LC DOUBLE,\n",
    "    NU_NOTA_MT DOUBLE,\n",
    "    TX_RESPOSTAS_CN STRING,\n",
    "    TX_RESPOSTAS_CH STRING,\n",
    "    TX_RESPOSTAS_LC STRING,\n",
    "    TX_RESPOSTAS_MT STRING,\n",
    "    TP_LINGUA INT,\n",
    "    TX_GABARITO_CN STRING,\n",
    "    TX_GABARITO_CH STRING,\n",
    "    TX_GABARITO_LC STRING,\n",
    "    TX_GABARITO_MT STRING,\n",
    "    TP_STATUS_REDACAO INT,\n",
    "    NU_NOTA_COMP1 DOUBLE,\n",
    "    NU_NOTA_COMP2 DOUBLE,\n",
    "    NU_NOTA_COMP3 DOUBLE,\n",
    "    NU_NOTA_COMP4 DOUBLE,\n",
    "    NU_NOTA_COMP5 DOUBLE,\n",
    "    NU_NOTA_REDACAO DOUBLE,\n",
    "    Q001 STRING,\n",
    "    Q002 STRING,\n",
    "    Q003 STRING,\n",
    "    Q004 STRING,\n",
    "    Q005 STRING,\n",
    "    Q006 STRING,\n",
    "    Q007 STRING,\n",
    "    Q008 STRING,\n",
    "    Q009 STRING,\n",
    "    Q010 STRING,\n",
    "    Q011 STRING,\n",
    "    Q012 STRING,\n",
    "    Q013 STRING,\n",
    "    Q014 STRING,\n",
    "    Q015 STRING,\n",
    "    Q016 STRING,\n",
    "    Q017 STRING,\n",
    "    Q018 STRING,\n",
    "    Q019 STRING,\n",
    "    Q020 STRING,\n",
    "    Q021 STRING,\n",
    "    Q022 STRING,\n",
    "    Q023 STRING,\n",
    "    Q024 STRING,\n",
    "    Q025 STRING\n",
    ")\n",
    "USING iceberg\n",
    "LOCATION 's3a://bronze/enem_2023/'\n",
    "\"\"\")"
   ]
  },
  {
   "cell_type": "code",
   "execution_count": 18,
   "id": "feb59a9e-7799-4c42-ba3e-b440c7359768",
   "metadata": {},
   "outputs": [
    {
     "name": "stdout",
     "output_type": "stream",
     "text": [
      "+-------------+\n",
      "|      catalog|\n",
      "+-------------+\n",
      "|       nessie|\n",
      "|spark_catalog|\n",
      "+-------------+\n",
      "\n"
     ]
    }
   ],
   "source": [
    "spark.sql(\"SHOW CATALOGS\").show()"
   ]
  },
  {
   "cell_type": "code",
   "execution_count": 19,
   "id": "2c28273c-563b-497b-8b5f-cd6ac15baa5a",
   "metadata": {},
   "outputs": [
    {
     "name": "stdout",
     "output_type": "stream",
     "text": [
      "+---------+---------+-----------+\n",
      "|namespace|tableName|isTemporary|\n",
      "+---------+---------+-----------+\n",
      "|   bronze|enem_2019|      false|\n",
      "|   bronze|enem_2020|      false|\n",
      "|   bronze|enem_2021|      false|\n",
      "|   bronze|enem_2022|      false|\n",
      "|   bronze|enem_2023|      false|\n",
      "+---------+---------+-----------+\n",
      "\n"
     ]
    }
   ],
   "source": [
    "spark.sql(\"SHOW TABLES IN nessie.bronze\").show()"
   ]
  },
  {
   "cell_type": "code",
   "execution_count": 20,
   "id": "d2ae8132-2f7a-4444-a0d1-feeb9ea89670",
   "metadata": {},
   "outputs": [
    {
     "name": "stderr",
     "output_type": "stream",
     "text": [
      "                                                                                \r"
     ]
    }
   ],
   "source": [
    "enem_2019.write.format(\"iceberg\").mode(\"overwrite\").save(\"nessie.bronze.enem_2019\")\n",
    "enem_2020.write.format(\"iceberg\").mode(\"overwrite\").save(\"nessie.bronze.enem_2020\")\n",
    "enem_2021.write.format(\"iceberg\").mode(\"overwrite\").save(\"nessie.bronze.enem_2021\")\n",
    "enem_2022.write.format(\"iceberg\").mode(\"overwrite\").save(\"nessie.bronze.enem_2022\")\n",
    "enem_2023.write.format(\"iceberg\").mode(\"overwrite\").save(\"nessie.bronze.enem_2023\")"
   ]
  },
  {
   "cell_type": "code",
   "execution_count": 21,
   "id": "b24c7c1a-3e65-41f6-b154-20ee8b917e56",
   "metadata": {},
   "outputs": [
    {
     "name": "stderr",
     "output_type": "stream",
     "text": [
      "[Stage 15:>                                                         (0 + 1) / 1]\r"
     ]
    },
    {
     "name": "stdout",
     "output_type": "stream",
     "text": [
      "+------------+------+---------------+-------+---------------+-----------+----------------+---------------+---------------+---------+---------+------------+----------------+----------------+---------+---------+----------------------+------------------+---------------+------------------+--------------------+-----------+-----------+--------------+--------------+--------------+--------------+-----------+-----------+-----------+-----------+----------+----------+----------+----------+--------------------+--------------------+--------------------+--------------------+---------+--------------------+--------------------+--------------------+--------------------+-----------------+-------------+-------------+-------------+-------------+-------------+---------------+----+----+----+----+----+----+----+----+----+----+----+----+----+----+----+----+----+----+----+----+----+----+----+----+----+\n",
      "|NU_INSCRICAO|NU_ANO|TP_FAIXA_ETARIA|TP_SEXO|TP_ESTADO_CIVIL|TP_COR_RACA|TP_NACIONALIDADE|TP_ST_CONCLUSAO|TP_ANO_CONCLUIU|TP_ESCOLA|TP_ENSINO|IN_TREINEIRO|CO_MUNICIPIO_ESC|NO_MUNICIPIO_ESC|CO_UF_ESC|SG_UF_ESC|TP_DEPENDENCIA_ADM_ESC|TP_LOCALIZACAO_ESC|TP_SIT_FUNC_ESC|CO_MUNICIPIO_PROVA|  NO_MUNICIPIO_PROVA|CO_UF_PROVA|SG_UF_PROVA|TP_PRESENCA_CN|TP_PRESENCA_CH|TP_PRESENCA_LC|TP_PRESENCA_MT|CO_PROVA_CN|CO_PROVA_CH|CO_PROVA_LC|CO_PROVA_MT|NU_NOTA_CN|NU_NOTA_CH|NU_NOTA_LC|NU_NOTA_MT|     TX_RESPOSTAS_CN|     TX_RESPOSTAS_CH|     TX_RESPOSTAS_LC|     TX_RESPOSTAS_MT|TP_LINGUA|      TX_GABARITO_CN|      TX_GABARITO_CH|      TX_GABARITO_LC|      TX_GABARITO_MT|TP_STATUS_REDACAO|NU_NOTA_COMP1|NU_NOTA_COMP2|NU_NOTA_COMP3|NU_NOTA_COMP4|NU_NOTA_COMP5|NU_NOTA_REDACAO|Q001|Q002|Q003|Q004|Q005|Q006|Q007|Q008|Q009|Q010|Q011|Q012|Q013|Q014|Q015|Q016|Q017|Q018|Q019|Q020|Q021|Q022|Q023|Q024|Q025|\n",
      "+------------+------+---------------+-------+---------------+-----------+----------------+---------------+---------------+---------+---------+------------+----------------+----------------+---------+---------+----------------------+------------------+---------------+------------------+--------------------+-----------+-----------+--------------+--------------+--------------+--------------+-----------+-----------+-----------+-----------+----------+----------+----------+----------+--------------------+--------------------+--------------------+--------------------+---------+--------------------+--------------------+--------------------+--------------------+-----------------+-------------+-------------+-------------+-------------+-------------+---------------+----+----+----+----+----+----+----+----+----+----+----+----+----+----+----+----+----+----+----+----+----+----+----+----+----+\n",
      "|210059787242|  2023|              4|      F|              1|          3|               1|              1|              2|        1|     NULL|           0|            NULL|            NULL|     NULL|     NULL|                  NULL|              NULL|           NULL|           2604106|             Caruaru|         26|         PE|             0|             0|             0|             0|       NULL|       NULL|       NULL|       NULL|      NULL|      NULL|      NULL|      NULL|                NULL|                NULL|                NULL|                NULL|        0|                NULL|                NULL|                NULL|                NULL|             NULL|         NULL|         NULL|         NULL|         NULL|         NULL|           NULL|   B|   B|   C|   C|   4|   C|   A|   B|   C|   A|   A|   B|   B|   A|   A|   B|   A|   A|   C|   A|   A|   D|   A|   A|   B|\n",
      "|210060270853|  2023|              8|      F|              0|          4|               1|              1|              5|        1|     NULL|           0|            NULL|            NULL|     NULL|     NULL|                  NULL|              NULL|           NULL|           1600303|              Macap�|         16|         AP|             0|             0|             0|             0|       NULL|       NULL|       NULL|       NULL|      NULL|      NULL|      NULL|      NULL|                NULL|                NULL|                NULL|                NULL|        1|                NULL|                NULL|                NULL|                NULL|             NULL|         NULL|         NULL|         NULL|         NULL|         NULL|           NULL|   B|   B|   A|   B|   5|   C|   A|   B|   C|   A|   A|   B|   B|   B|   A|   A|   A|   A|   B|   A|   A|   C|   A|   A|   A|\n",
      "|210060257814|  2023|              3|      F|              1|          3|               1|              2|              0|        2|        1|           0|         5218805|       Rio Verde|       52|       GO|                     4|                 1|              1|           5218805|           Rio Verde|         52|         GO|             1|             1|             1|             1|       1222|       1191|       1201|       1212|     447.4|     560.1|     480.0|     433.7|CBCEECDAABCBCCCAC...|CDBEACBEAAEEAAAEB...|CAECDDAEAEBACBBBC...|ACEDBEBCDBCADEDCA...|        0|CAAADCCCCDDDABDCA...|CDAEECABAACEAADEC...|BBDABAAEBADACEEDC...|DCECACCBDECBEEABE...|                1|        160.0|        140.0|        140.0|        180.0|        140.0|          760.0|   H|   F|   D|   D|   2|   D|   A|   B|   D|   A|   A|   B|   A|   A|   A|   B|   A|   A|   B|   A|   A|   B|   A|   B|   B|\n",
      "|210060609566|  2023|              6|      F|              1|          1|               1|              1|              0|        1|     NULL|           0|            NULL|            NULL|     NULL|     NULL|                  NULL|              NULL|           NULL|           3304557|      Rio de Janeiro|         33|         RJ|             0|             0|             0|             0|       NULL|       NULL|       NULL|       NULL|      NULL|      NULL|      NULL|      NULL|                NULL|                NULL|                NULL|                NULL|        0|                NULL|                NULL|                NULL|                NULL|             NULL|         NULL|         NULL|         NULL|         NULL|         NULL|           NULL|   C|   H|   C|   B|   4|   B|   A|   B|   B|   A|   A|   B|   A|   B|   A|   A|   A|   A|   B|   A|   A|   C|   A|   A|   B|\n",
      "|210060346036|  2023|              2|      M|              1|          3|               1|              3|              0|        1|     NULL|           1|            NULL|            NULL|     NULL|     NULL|                  NULL|              NULL|           NULL|           3162708| S�o Jo�o do Para�so|         31|         MG|             1|             1|             1|             1|       1221|       1193|       1204|       1211|     446.9|     456.7|     430.3|     518.8|EBACBDCDEDCABBCED...|CCBBBBABDDCBDDECE...|CDEABBBADBADDABBE...|BBCCABBCDCDBDEDBB...|        0|DBEABDABDCACDBECD...|ACEEABAADCDAADEAB...|DBABBAEBAAAACDACD...|BCCDEEABCBEDCEABB...|                6|          0.0|          0.0|          0.0|          0.0|          0.0|            0.0|   C|   G|   C|   D|   3|   D|   A|   C|   E|   B|   B|   B|   B|   B|   A|   B|   B|   B|   A|   A|   A|   E|   A|   B|   B|\n",
      "|210060498501|  2023|              2|      M|              1|          1|               1|              2|              0|        3|        1|           0|         2800308|         Aracaju|       28|       SE|                     4|                 1|              1|           2800308|             Aracaju|         28|         SE|             1|             1|             1|             1|       1224|       1192|       1202|       1214|     645.4|     637.4|     622.0|     844.6|CECDAEBACDBEDBDEA...|DAAADEADCDCDBABCD...|BBBDACCAAEDAAEBBA...|ECDAADAEBEACBEBCE...|        0|CDDDABBABDBEABDEC...|DBAADEADCDCABABCD...|BBBDAABAEACCEEEDE...|EBDADDAEBEACBEDCE...|                1|        140.0|        200.0|        160.0|        180.0|        200.0|          880.0|   E|   G|   C|   E|   5|   L|   A|   C|   D|   B|   B|   B|   B|   B|   A|   B|   A|   B|   E|   A|   A|   E|   B|   C|   B|\n",
      "|210059141972|  2023|              4|      F|              1|          2|               1|              2|              0|        2|        1|           0|            NULL|            NULL|     NULL|     NULL|                  NULL|              NULL|           NULL|           2611606|              Recife|         26|         PE|             1|             1|             1|             1|       1224|       1192|       1202|       1214|     459.7|     444.5|     487.3|     461.4|ADCBBADEAEBDCEDCA...|ECDADEECCCBAEDCAB...|BDCDECAEAECDBCDAB...|EDCADEDCEBDDBCEAD...|        1|CDDDABBABDBEABDEC...|DBAADEADCDCABABCD...|BBBDAABAEACCEEEDE...|EBDADDAEBEACBEDCE...|                1|         60.0|        140.0|        120.0|        120.0|        100.0|          540.0|   D|   B|   B|   F|   5|   B|   A|   B|   C|   A|   A|   B|   A|   A|   A|   A|   A|   A|   B|   A|   A|   B|   A|   A|   B|\n",
      "|210059484735|  2023|              4|      F|              1|          1|               1|              1|              1|        1|     NULL|           0|            NULL|            NULL|     NULL|     NULL|                  NULL|              NULL|           NULL|           3529005|             Mar�lia|         35|         SP|             1|             1|             1|             1|       1224|       1192|       1202|       1214|     649.2|     697.6|     634.7|     719.5|CBBDABBBDDBCBCDDE...|DBAADEADCDCDBABCE...|BBBDACCEAEBCACBCA...|EBDADDBEBDACBDBCD...|        0|CDDDABBABDBEABDEC...|DBAADEADCDCABABCD...|BBBDAABAEACCEEEDE...|EBDADDAEBEACBEDCE...|                1|        160.0|        200.0|        200.0|        200.0|        180.0|          940.0|   G|   G|   E|   E|   4|   G|   A|   E|   D|   C|   A|   B|   B|   C|   A|   B|   A|   B|   C|   A|   B|   E|   A|   C|   B|\n",
      "|210061065436|  2023|             14|      F|              2|          3|               1|              1|             17|        1|     NULL|           0|            NULL|            NULL|     NULL|     NULL|                  NULL|              NULL|           NULL|           2508901|          Mamanguape|         25|         PB|             0|             0|             0|             0|       NULL|       NULL|       NULL|       NULL|      NULL|      NULL|      NULL|      NULL|                NULL|                NULL|                NULL|                NULL|        1|                NULL|                NULL|                NULL|                NULL|             NULL|         NULL|         NULL|         NULL|         NULL|         NULL|           NULL|   B|   D|   A|   B|   4|   C|   A|   B|   C|   A|   A|   B|   A|   B|   A|   B|   A|   A|   B|   A|   B|   C|   B|   A|   B|\n",
      "|210060703282|  2023|              3|      M|              1|          2|               1|              2|              0|        2|        1|           0|            NULL|            NULL|     NULL|     NULL|                  NULL|              NULL|           NULL|           4317103|Sant'Ana do Livra...|         43|         RS|             1|             1|             1|             1|       1222|       1191|       1201|       1212|     554.1|     558.5|     534.7|     517.9|EEDEECCACCBDEEBDB...|CAADADABBACEAADEB...|BCAABDAAAEBCBBBBA...|DDECCBCCCAAAEBEEB...|        0|CAAADCCCCDDDABDCA...|CDAEECABAACEAADEC...|BBDABAAEBADACEEDC...|DCECACCBDECBEEABE...|                1|        120.0|        160.0|        120.0|        120.0|        160.0|          680.0|   D|   C|   F|   B|   3|   A|   A|   B|   D|   A|   A|   B|   A|   A|   A|   A|   A|   A|   B|   A|   A|   D|   A|   A|   B|\n",
      "|210058501366|  2023|              8|      M|              1|          3|               1|              1|              6|        1|     NULL|           0|            NULL|            NULL|     NULL|     NULL|                  NULL|              NULL|           NULL|           3127701|Governador Valadares|         31|         MG|             1|             1|             1|             1|       1221|       1193|       1204|       1211|     539.8|     624.9|     610.7|     611.1|DBEDCACBCCDCDEBAE...|ACEEADAABCDAADDEA...|AEBAABECDACDEDAAC...|DCBCEEBDBADDEAABB...|        1|DBEABDABDCACDBECD...|ACEEABAADCDAADEAB...|DBABBAEBAAAACDACD...|BCCDEEABCBEDCEABB...|                1|        120.0|        120.0|        120.0|        120.0|         80.0|          560.0|   C|   G|   C|   D|   4|   F|   A|   C|   D|   B|   A|   B|   B|   B|   A|   A|   A|   A|   B|   A|   B|   D|   A|   B|   B|\n",
      "|210059484736|  2023|              3|      F|              1|          3|               1|              2|              0|        2|        1|           0|         2902708|           Barra|       29|       BA|                     2|                 1|              1|           2902708|               Barra|         29|         BA|             1|             1|             1|             1|       1222|       1191|       1201|       1212|     462.8|     459.1|     502.2|     372.9|EACEBDCABDCBCDBAB...|ADAEDCAEBAEDBACBE...|ACEBECAAAEBDCBBAE...|CDDDBCBAAEDECDCEA...|        1|CAAADCCCCDDDABDCA...|CDAEECABAACEAADEC...|BBDABAAEBADACEEDC...|DCECACCBDECBEEABE...|                1|        160.0|        160.0|        160.0|        160.0|        160.0|          800.0|   H|   E|   F|   B|   2|   A|   A|   B|   C|   A|   A|   B|   A|   A|   A|   A|   A|   A|   B|   A|   A|   C|   A|   A|   B|\n",
      "|210060511019|  2023|              9|      F|              1|          3|               1|              1|              0|        1|     NULL|           0|            NULL|            NULL|     NULL|     NULL|                  NULL|              NULL|           NULL|           4316907|         Santa Maria|         43|         RS|             1|             1|             1|             1|       1222|       1191|       1201|       1212|     565.5|     669.2|     651.8|     603.3|CEDEDEEAADDBCBCEB...|CDAEEAABDACEAADEC...|BCDABDACAEACCDEAD...|DBDCBCDCECCBCBCEC...|        0|CAAADCCCCDDDABDCA...|CDAEECABAACEAADEC...|BBDABAAEBADACEEDC...|DCECACCBDECBEEABE...|                1|        140.0|        200.0|        140.0|        180.0|        120.0|          780.0|   E|   E|   C|   B|   2|   C|   A|   B|   B|   B|   A|   B|   B|   B|   A|   B|   A|   A|   B|   A|   A|   B|   A|   A|   B|\n",
      "|210058663654|  2023|              5|      F|              1|          3|               1|              1|              1|        1|     NULL|           0|            NULL|            NULL|     NULL|     NULL|                  NULL|              NULL|           NULL|           3304557|      Rio de Janeiro|         33|         RJ|             0|             0|             0|             0|       NULL|       NULL|       NULL|       NULL|      NULL|      NULL|      NULL|      NULL|                NULL|                NULL|                NULL|                NULL|        0|                NULL|                NULL|                NULL|                NULL|             NULL|         NULL|         NULL|         NULL|         NULL|         NULL|           NULL|   E|   E|   C|   B|   4|   C|   A|   B|   C|   A|   A|   B|   A|   B|   A|   B|   A|   A|   C|   A|   A|   D|   A|   B|   B|\n",
      "|210058572175|  2023|              3|      F|              1|          3|               1|              2|              0|        2|        1|           0|            NULL|            NULL|     NULL|     NULL|                  NULL|              NULL|           NULL|           2613909|       Serra Talhada|         26|         PE|             1|             1|             1|             1|       1223|       1194|       1203|       1213|     520.7|     438.1|     439.0|     489.0|CBDACAAECEDBACCDA...|ABCDBABECAADBCDCE...|ACBACAAEDACDDCEAB...|EEDBEACCADDCCDCEE...|        1|CEDAEEDEECCEBADCC...|ABCDCBDACDAEACEEC...|BDBBABAAAEAAECBBE...|EBDEEBDADDABCCBCC...|                1|         80.0|        160.0|        120.0|        120.0|         80.0|          560.0|   D|   F|   A|   D|   5|   B|   A|   C|   C|   B|   A|   B|   B|   B|   A|   A|   A|   A|   B|   A|   B|   E|   A|   B|   B|\n",
      "|210059368394|  2023|              3|      F|              1|          3|               1|              2|              0|        2|        1|           0|         3550308|       S�o Paulo|       35|       SP|                     2|                 1|              1|           3550308|           S�o Paulo|         35|         SP|             1|             1|             1|             1|       1221|       1193|       1204|       1211|     455.7|     507.1|     465.4|     361.8|ABEBECDBBBDECEADD...|AEBDCEEBDCDCADAAB...|CDCBEADBCABACBAAE...|BAAADACDAADBDAAED...|        0|DBEABDABDCACDBECD...|ACEEABAADCDAADEAB...|DBABBAEBAAAACDACD...|BCCDEEABCBEDCEABB...|                1|        120.0|        120.0|        100.0|        100.0|          0.0|          440.0|   E|   E|   B|   B|   4|   C|   A|   B|   C|   B|   A|   B|   A|   A|   A|   A|   A|   B|   B|   A|   A|   D|   A|   A|   B|\n",
      "|210059141973|  2023|              4|      F|              1|          1|               1|              1|              1|        1|     NULL|           0|            NULL|            NULL|     NULL|     NULL|                  NULL|              NULL|           NULL|           3121605|          Diamantina|         31|         MG|             1|             1|             1|             1|       1221|       1193|       1204|       1211|     580.3|     622.5|     662.6|     680.7|DBEEECBCDAACEABCD...|CDEEABBADCDAADECB...|DBABBAAEDACDCDAAC...|DCBCEECBEECCCCCBC...|        0|DBEABDABDCACDBECD...|ACEEABAADCDAADEAB...|DBABBAEBAAAACDACD...|BCCDEEABCBEDCEABB...|                1|        160.0|        200.0|        160.0|        180.0|        200.0|          900.0|   E|   G|   D|   D|   4|   G|   A|   C|   D|   C|   B|   B|   A|   B|   A|   B|   A|   A|   B|   A|   B|   D|   A|   B|   B|\n",
      "|210061385762|  2023|             17|      F|              1|          2|               1|              1|              0|        1|     NULL|           0|            NULL|            NULL|     NULL|     NULL|                  NULL|              NULL|           NULL|           1501402|               Bel�m|         15|         PA|             0|             0|             0|             0|       NULL|       NULL|       NULL|       NULL|      NULL|      NULL|      NULL|      NULL|                NULL|                NULL|                NULL|                NULL|        1|                NULL|                NULL|                NULL|                NULL|             NULL|         NULL|         NULL|         NULL|         NULL|         NULL|           NULL|   A|   A|   A|   A|   4|   D|   A|   B|   C|   A|   B|   B|   A|   A|   A|   A|   A|   A|   B|   A|   B|   E|   A|   A|   B|\n",
      "|210059449846|  2023|              5|      F|              1|          1|               1|              1|              2|        1|     NULL|           0|            NULL|            NULL|     NULL|     NULL|                  NULL|              NULL|           NULL|           4314902|        Porto Alegre|         43|         RS|             0|             0|             0|             0|       NULL|       NULL|       NULL|       NULL|      NULL|      NULL|      NULL|      NULL|                NULL|                NULL|                NULL|                NULL|        1|                NULL|                NULL|                NULL|                NULL|             NULL|         NULL|         NULL|         NULL|         NULL|         NULL|           NULL|   H|   E|   C|   B|   4|   C|   A|   B|   A|   A|   A|   B|   B|   B|   A|   A|   A|   A|   B|   A|   A|   D|   A|   B|   B|\n",
      "|210058832638|  2023|              3|      F|              1|          3|               1|              2|              0|        2|        1|           0|         3304557|  Rio de Janeiro|       33|       RJ|                     2|                 1|              1|           3304557|      Rio de Janeiro|         33|         RJ|             1|             1|             1|             1|       1224|       1192|       1202|       1214|     449.0|     339.9|     471.1|     373.8|CDADCDBEBCBAAECDE...|EADBCBDCAECACADAD...|CBBEAABEADACACEBA...|BCAADEDBEDABACEAB...|        0|CDDDABBABDBEABDEC...|DBAADEADCDCABABCD...|BBBDAABAEACCEEEDE...|EBDADDAEBEACBEDCE...|                1|        120.0|        120.0|        100.0|        100.0|         40.0|          480.0|   B|   B|   B|   B|   5|   A|   A|   B|   C|   A|   A|   B|   A|   B|   B|   B|   A|   A|   B|   A|   A|   C|   A|   A|   B|\n",
      "+------------+------+---------------+-------+---------------+-----------+----------------+---------------+---------------+---------+---------+------------+----------------+----------------+---------+---------+----------------------+------------------+---------------+------------------+--------------------+-----------+-----------+--------------+--------------+--------------+--------------+-----------+-----------+-----------+-----------+----------+----------+----------+----------+--------------------+--------------------+--------------------+--------------------+---------+--------------------+--------------------+--------------------+--------------------+-----------------+-------------+-------------+-------------+-------------+-------------+---------------+----+----+----+----+----+----+----+----+----+----+----+----+----+----+----+----+----+----+----+----+----+----+----+----+----+\n",
      "only showing top 20 rows\n",
      "\n"
     ]
    },
    {
     "name": "stderr",
     "output_type": "stream",
     "text": [
      "                                                                                \r"
     ]
    }
   ],
   "source": [
    "spark.sql(\"SELECT * FROM nessie.bronze.enem_2023\").show()"
   ]
  },
  {
   "cell_type": "code",
   "execution_count": 23,
   "id": "c69646b3-94ca-4102-a744-c1402c25c52d",
   "metadata": {},
   "outputs": [
    {
     "name": "stderr",
     "output_type": "stream",
     "text": [
      "[Stage 16:>                                                         (0 + 1) / 1]\r"
     ]
    },
    {
     "name": "stdout",
     "output_type": "stream",
     "text": [
      "+--------+\n",
      "|count(1)|\n",
      "+--------+\n",
      "| 3933955|\n",
      "+--------+\n",
      "\n"
     ]
    },
    {
     "name": "stderr",
     "output_type": "stream",
     "text": [
      "                                                                                \r"
     ]
    }
   ],
   "source": [
    "spark.sql(\"SELECT count(*) FROM nessie.bronze.enem_2023\").show()"
   ]
  },
  {
   "cell_type": "code",
   "execution_count": null,
   "id": "87506c96-5dd4-4ff9-8f15-8b5f8a1e07c5",
   "metadata": {},
   "outputs": [],
   "source": []
  }
 ],
 "metadata": {
  "kernelspec": {
   "display_name": "Python 3 (ipykernel)",
   "language": "python",
   "name": "python3"
  },
  "language_info": {
   "codemirror_mode": {
    "name": "ipython",
    "version": 3
   },
   "file_extension": ".py",
   "mimetype": "text/x-python",
   "name": "python",
   "nbconvert_exporter": "python",
   "pygments_lexer": "ipython3",
   "version": "3.12.7"
  }
 },
 "nbformat": 4,
 "nbformat_minor": 5
}
